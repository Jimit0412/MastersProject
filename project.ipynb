{
 "cells": [
  {
   "cell_type": "code",
   "execution_count": 1,
   "metadata": {},
   "outputs": [],
   "source": [
    "import sklearn\n",
    "import pandas as pd\n",
    "import matplotlib.pyplot as plt\n",
    "import seaborn as sns\n",
    "from sklearn.cluster import KMeans\n",
    "from mpl_toolkits import mplot3d\n",
    "import numpy as np\n",
    "from sklearn.manifold import TSNE\n",
    "from sklearn.model_selection import train_test_split\n",
    "from sklearn.ensemble import RandomForestClassifier\n",
    "from numpy import mean\n",
    "from numpy import std\n",
    "from sklearn.model_selection import cross_val_score\n",
    "from sklearn.model_selection import RepeatedStratifiedKFold\n",
    "from sklearn.ensemble import GradientBoostingClassifier\n",
    "import collections\n",
    "from sklearn import preprocessing\n",
    "from sklearn.linear_model import LogisticRegression\n",
    "from sklearn.metrics import accuracy_score\n",
    "from sklearn.naive_bayes import GaussianNB\n",
    "from sklearn.tree import DecisionTreeClassifier\n",
    "from sklearn.svm import SVC\n",
    "from sklearn.metrics import classification_report, confusion_matrix\n",
    "from sklearn.neural_network import MLPClassifier"
   ]
  },
  {
   "cell_type": "code",
   "execution_count": 2,
   "metadata": {},
   "outputs": [
    {
     "data": {
      "text/html": [
       "<div>\n",
       "<style scoped>\n",
       "    .dataframe tbody tr th:only-of-type {\n",
       "        vertical-align: middle;\n",
       "    }\n",
       "\n",
       "    .dataframe tbody tr th {\n",
       "        vertical-align: top;\n",
       "    }\n",
       "\n",
       "    .dataframe thead th {\n",
       "        text-align: right;\n",
       "    }\n",
       "</style>\n",
       "<table border=\"1\" class=\"dataframe\">\n",
       "  <thead>\n",
       "    <tr style=\"text-align: right;\">\n",
       "      <th></th>\n",
       "      <th>Name</th>\n",
       "      <th>Date time</th>\n",
       "      <th>Maximum Temperature</th>\n",
       "      <th>Minimum Temperature</th>\n",
       "      <th>Temperature</th>\n",
       "      <th>Wind Chill</th>\n",
       "      <th>Heat Index</th>\n",
       "      <th>Precipitation</th>\n",
       "      <th>Snow</th>\n",
       "      <th>Snow Depth</th>\n",
       "      <th>Wind Speed</th>\n",
       "      <th>Wind Direction</th>\n",
       "      <th>Wind Gust</th>\n",
       "      <th>Visibility</th>\n",
       "      <th>Cloud Cover</th>\n",
       "      <th>Relative Humidity</th>\n",
       "      <th>Conditions</th>\n",
       "    </tr>\n",
       "  </thead>\n",
       "  <tbody>\n",
       "    <tr>\n",
       "      <th>0</th>\n",
       "      <td>Albany, NY, United States</td>\n",
       "      <td>03/16/2017</td>\n",
       "      <td>30.4</td>\n",
       "      <td>18.7</td>\n",
       "      <td>24.7</td>\n",
       "      <td>4.1</td>\n",
       "      <td>NaN</td>\n",
       "      <td>0.0</td>\n",
       "      <td>0.0</td>\n",
       "      <td>17.28</td>\n",
       "      <td>27.5</td>\n",
       "      <td>295.00</td>\n",
       "      <td>39.1</td>\n",
       "      <td>9.9</td>\n",
       "      <td>37.6</td>\n",
       "      <td>50.14</td>\n",
       "      <td>Partially cloudy</td>\n",
       "    </tr>\n",
       "    <tr>\n",
       "      <th>1</th>\n",
       "      <td>Albany, NY, United States</td>\n",
       "      <td>03/17/2017</td>\n",
       "      <td>38.7</td>\n",
       "      <td>19.3</td>\n",
       "      <td>29.6</td>\n",
       "      <td>10.0</td>\n",
       "      <td>NaN</td>\n",
       "      <td>0.0</td>\n",
       "      <td>0.0</td>\n",
       "      <td>15.23</td>\n",
       "      <td>18.7</td>\n",
       "      <td>290.58</td>\n",
       "      <td>27.0</td>\n",
       "      <td>9.9</td>\n",
       "      <td>29.6</td>\n",
       "      <td>45.90</td>\n",
       "      <td>Partially cloudy</td>\n",
       "    </tr>\n",
       "    <tr>\n",
       "      <th>2</th>\n",
       "      <td>Albany, NY, United States</td>\n",
       "      <td>03/18/2017</td>\n",
       "      <td>41.7</td>\n",
       "      <td>13.2</td>\n",
       "      <td>29.1</td>\n",
       "      <td>8.1</td>\n",
       "      <td>NaN</td>\n",
       "      <td>0.0</td>\n",
       "      <td>0.0</td>\n",
       "      <td>13.58</td>\n",
       "      <td>8.8</td>\n",
       "      <td>137.00</td>\n",
       "      <td>19.7</td>\n",
       "      <td>9.9</td>\n",
       "      <td>56.4</td>\n",
       "      <td>50.00</td>\n",
       "      <td>Partially cloudy</td>\n",
       "    </tr>\n",
       "    <tr>\n",
       "      <th>3</th>\n",
       "      <td>Albany, NY, United States</td>\n",
       "      <td>03/19/2017</td>\n",
       "      <td>43.7</td>\n",
       "      <td>31.5</td>\n",
       "      <td>36.3</td>\n",
       "      <td>24.8</td>\n",
       "      <td>NaN</td>\n",
       "      <td>0.0</td>\n",
       "      <td>0.0</td>\n",
       "      <td>12.00</td>\n",
       "      <td>15.4</td>\n",
       "      <td>84.63</td>\n",
       "      <td>21.9</td>\n",
       "      <td>9.9</td>\n",
       "      <td>45.8</td>\n",
       "      <td>46.27</td>\n",
       "      <td>Partially cloudy</td>\n",
       "    </tr>\n",
       "    <tr>\n",
       "      <th>4</th>\n",
       "      <td>Albany, NY, United States</td>\n",
       "      <td>03/20/2017</td>\n",
       "      <td>46.8</td>\n",
       "      <td>19.9</td>\n",
       "      <td>35.2</td>\n",
       "      <td>16.0</td>\n",
       "      <td>NaN</td>\n",
       "      <td>0.0</td>\n",
       "      <td>0.0</td>\n",
       "      <td>9.93</td>\n",
       "      <td>9.9</td>\n",
       "      <td>302.25</td>\n",
       "      <td>19.7</td>\n",
       "      <td>9.9</td>\n",
       "      <td>33.8</td>\n",
       "      <td>47.48</td>\n",
       "      <td>Partially cloudy</td>\n",
       "    </tr>\n",
       "  </tbody>\n",
       "</table>\n",
       "</div>"
      ],
      "text/plain": [
       "                        Name   Date time  Maximum Temperature  \\\n",
       "0  Albany, NY, United States  03/16/2017                 30.4   \n",
       "1  Albany, NY, United States  03/17/2017                 38.7   \n",
       "2  Albany, NY, United States  03/18/2017                 41.7   \n",
       "3  Albany, NY, United States  03/19/2017                 43.7   \n",
       "4  Albany, NY, United States  03/20/2017                 46.8   \n",
       "\n",
       "   Minimum Temperature  Temperature  Wind Chill  Heat Index  Precipitation  \\\n",
       "0                 18.7         24.7         4.1         NaN            0.0   \n",
       "1                 19.3         29.6        10.0         NaN            0.0   \n",
       "2                 13.2         29.1         8.1         NaN            0.0   \n",
       "3                 31.5         36.3        24.8         NaN            0.0   \n",
       "4                 19.9         35.2        16.0         NaN            0.0   \n",
       "\n",
       "   Snow  Snow Depth  Wind Speed  Wind Direction  Wind Gust  Visibility  \\\n",
       "0   0.0       17.28        27.5          295.00       39.1         9.9   \n",
       "1   0.0       15.23        18.7          290.58       27.0         9.9   \n",
       "2   0.0       13.58         8.8          137.00       19.7         9.9   \n",
       "3   0.0       12.00        15.4           84.63       21.9         9.9   \n",
       "4   0.0        9.93         9.9          302.25       19.7         9.9   \n",
       "\n",
       "   Cloud Cover  Relative Humidity        Conditions  \n",
       "0         37.6              50.14  Partially cloudy  \n",
       "1         29.6              45.90  Partially cloudy  \n",
       "2         56.4              50.00  Partially cloudy  \n",
       "3         45.8              46.27  Partially cloudy  \n",
       "4         33.8              47.48  Partially cloudy  "
      ]
     },
     "execution_count": 2,
     "metadata": {},
     "output_type": "execute_result"
    }
   ],
   "source": [
    "weather_df = pd.read_csv('/home/jimit/MastersProject/weather_albany.csv')\n",
    "weather_df.head(5)"
   ]
  },
  {
   "cell_type": "code",
   "execution_count": 3,
   "metadata": {},
   "outputs": [
    {
     "data": {
      "text/plain": [
       "(1462, 17)"
      ]
     },
     "execution_count": 3,
     "metadata": {},
     "output_type": "execute_result"
    }
   ],
   "source": [
    "weather_df.shape"
   ]
  },
  {
   "cell_type": "code",
   "execution_count": 4,
   "metadata": {},
   "outputs": [],
   "source": [
    "weather_df.drop(['Heat Index', 'Conditions','Wind Gust', 'Date time', 'Name'], 'columns', inplace = True)"
   ]
  },
  {
   "cell_type": "code",
   "execution_count": 5,
   "metadata": {
    "scrolled": true
   },
   "outputs": [
    {
     "data": {
      "text/plain": [
       "Maximum Temperature    575\n",
       "Minimum Temperature    575\n",
       "Temperature            575\n",
       "Wind Chill               0\n",
       "Precipitation          575\n",
       "Snow                   575\n",
       "Snow Depth             575\n",
       "Wind Speed             575\n",
       "Wind Direction         575\n",
       "Visibility             575\n",
       "Cloud Cover            575\n",
       "Relative Humidity      575\n",
       "dtype: int64"
      ]
     },
     "execution_count": 5,
     "metadata": {},
     "output_type": "execute_result"
    }
   ],
   "source": [
    "weather_df[weather_df.isnull().any(axis=1)].count()"
   ]
  },
  {
   "cell_type": "code",
   "execution_count": 6,
   "metadata": {},
   "outputs": [],
   "source": [
    "weather_df = weather_df.dropna()\n"
   ]
  },
  {
   "cell_type": "code",
   "execution_count": 7,
   "metadata": {},
   "outputs": [
    {
     "data": {
      "text/plain": [
       "(887, 12)"
      ]
     },
     "execution_count": 7,
     "metadata": {},
     "output_type": "execute_result"
    }
   ],
   "source": [
    "weather_df.shape"
   ]
  },
  {
   "cell_type": "code",
   "execution_count": 8,
   "metadata": {
    "scrolled": true
   },
   "outputs": [
    {
     "data": {
      "text/html": [
       "<div>\n",
       "<style scoped>\n",
       "    .dataframe tbody tr th:only-of-type {\n",
       "        vertical-align: middle;\n",
       "    }\n",
       "\n",
       "    .dataframe tbody tr th {\n",
       "        vertical-align: top;\n",
       "    }\n",
       "\n",
       "    .dataframe thead th {\n",
       "        text-align: right;\n",
       "    }\n",
       "</style>\n",
       "<table border=\"1\" class=\"dataframe\">\n",
       "  <thead>\n",
       "    <tr style=\"text-align: right;\">\n",
       "      <th></th>\n",
       "      <th>Maximum Temperature</th>\n",
       "      <th>Minimum Temperature</th>\n",
       "      <th>Temperature</th>\n",
       "      <th>Wind Chill</th>\n",
       "      <th>Precipitation</th>\n",
       "      <th>Snow</th>\n",
       "      <th>Snow Depth</th>\n",
       "      <th>Wind Speed</th>\n",
       "      <th>Wind Direction</th>\n",
       "      <th>Visibility</th>\n",
       "      <th>Cloud Cover</th>\n",
       "      <th>Relative Humidity</th>\n",
       "    </tr>\n",
       "  </thead>\n",
       "  <tbody>\n",
       "    <tr>\n",
       "      <th>count</th>\n",
       "      <td>887.00000</td>\n",
       "      <td>887.000000</td>\n",
       "      <td>887.000000</td>\n",
       "      <td>887.000000</td>\n",
       "      <td>887.000000</td>\n",
       "      <td>887.000000</td>\n",
       "      <td>887.000000</td>\n",
       "      <td>887.000000</td>\n",
       "      <td>887.000000</td>\n",
       "      <td>887.000000</td>\n",
       "      <td>887.000000</td>\n",
       "      <td>887.000000</td>\n",
       "    </tr>\n",
       "    <tr>\n",
       "      <th>mean</th>\n",
       "      <td>45.06956</td>\n",
       "      <td>29.591206</td>\n",
       "      <td>37.447012</td>\n",
       "      <td>23.367756</td>\n",
       "      <td>0.095265</td>\n",
       "      <td>0.275851</td>\n",
       "      <td>1.735862</td>\n",
       "      <td>15.472830</td>\n",
       "      <td>210.213811</td>\n",
       "      <td>9.064825</td>\n",
       "      <td>67.199211</td>\n",
       "      <td>65.174498</td>\n",
       "    </tr>\n",
       "    <tr>\n",
       "      <th>std</th>\n",
       "      <td>14.20950</td>\n",
       "      <td>12.041475</td>\n",
       "      <td>12.644354</td>\n",
       "      <td>14.923707</td>\n",
       "      <td>0.222397</td>\n",
       "      <td>0.892231</td>\n",
       "      <td>3.159656</td>\n",
       "      <td>5.942354</td>\n",
       "      <td>67.400190</td>\n",
       "      <td>1.499783</td>\n",
       "      <td>22.045058</td>\n",
       "      <td>13.378823</td>\n",
       "    </tr>\n",
       "    <tr>\n",
       "      <th>min</th>\n",
       "      <td>3.40000</td>\n",
       "      <td>-8.400000</td>\n",
       "      <td>-1.400000</td>\n",
       "      <td>-30.500000</td>\n",
       "      <td>0.000000</td>\n",
       "      <td>0.000000</td>\n",
       "      <td>0.000000</td>\n",
       "      <td>4.200000</td>\n",
       "      <td>27.460000</td>\n",
       "      <td>1.500000</td>\n",
       "      <td>0.000000</td>\n",
       "      <td>27.190000</td>\n",
       "    </tr>\n",
       "    <tr>\n",
       "      <th>25%</th>\n",
       "      <td>35.60000</td>\n",
       "      <td>21.400000</td>\n",
       "      <td>29.650000</td>\n",
       "      <td>13.800000</td>\n",
       "      <td>0.000000</td>\n",
       "      <td>0.000000</td>\n",
       "      <td>0.000000</td>\n",
       "      <td>10.800000</td>\n",
       "      <td>157.815000</td>\n",
       "      <td>8.900000</td>\n",
       "      <td>51.900000</td>\n",
       "      <td>55.175000</td>\n",
       "    </tr>\n",
       "    <tr>\n",
       "      <th>50%</th>\n",
       "      <td>44.10000</td>\n",
       "      <td>30.500000</td>\n",
       "      <td>37.000000</td>\n",
       "      <td>24.600000</td>\n",
       "      <td>0.000000</td>\n",
       "      <td>0.000000</td>\n",
       "      <td>0.000000</td>\n",
       "      <td>15.100000</td>\n",
       "      <td>214.920000</td>\n",
       "      <td>9.800000</td>\n",
       "      <td>71.300000</td>\n",
       "      <td>65.370000</td>\n",
       "    </tr>\n",
       "    <tr>\n",
       "      <th>75%</th>\n",
       "      <td>55.95000</td>\n",
       "      <td>38.500000</td>\n",
       "      <td>46.800000</td>\n",
       "      <td>34.300000</td>\n",
       "      <td>0.080000</td>\n",
       "      <td>0.040000</td>\n",
       "      <td>2.075000</td>\n",
       "      <td>19.550000</td>\n",
       "      <td>272.415000</td>\n",
       "      <td>9.900000</td>\n",
       "      <td>84.250000</td>\n",
       "      <td>75.005000</td>\n",
       "    </tr>\n",
       "    <tr>\n",
       "      <th>max</th>\n",
       "      <td>84.60000</td>\n",
       "      <td>50.000000</td>\n",
       "      <td>67.400000</td>\n",
       "      <td>49.600000</td>\n",
       "      <td>2.390000</td>\n",
       "      <td>10.440000</td>\n",
       "      <td>19.700000</td>\n",
       "      <td>38.000000</td>\n",
       "      <td>336.460000</td>\n",
       "      <td>9.900000</td>\n",
       "      <td>100.000000</td>\n",
       "      <td>98.920000</td>\n",
       "    </tr>\n",
       "  </tbody>\n",
       "</table>\n",
       "</div>"
      ],
      "text/plain": [
       "       Maximum Temperature  Minimum Temperature  Temperature  Wind Chill  \\\n",
       "count            887.00000           887.000000   887.000000  887.000000   \n",
       "mean              45.06956            29.591206    37.447012   23.367756   \n",
       "std               14.20950            12.041475    12.644354   14.923707   \n",
       "min                3.40000            -8.400000    -1.400000  -30.500000   \n",
       "25%               35.60000            21.400000    29.650000   13.800000   \n",
       "50%               44.10000            30.500000    37.000000   24.600000   \n",
       "75%               55.95000            38.500000    46.800000   34.300000   \n",
       "max               84.60000            50.000000    67.400000   49.600000   \n",
       "\n",
       "       Precipitation        Snow  Snow Depth  Wind Speed  Wind Direction  \\\n",
       "count     887.000000  887.000000  887.000000  887.000000      887.000000   \n",
       "mean        0.095265    0.275851    1.735862   15.472830      210.213811   \n",
       "std         0.222397    0.892231    3.159656    5.942354       67.400190   \n",
       "min         0.000000    0.000000    0.000000    4.200000       27.460000   \n",
       "25%         0.000000    0.000000    0.000000   10.800000      157.815000   \n",
       "50%         0.000000    0.000000    0.000000   15.100000      214.920000   \n",
       "75%         0.080000    0.040000    2.075000   19.550000      272.415000   \n",
       "max         2.390000   10.440000   19.700000   38.000000      336.460000   \n",
       "\n",
       "       Visibility  Cloud Cover  Relative Humidity  \n",
       "count  887.000000   887.000000         887.000000  \n",
       "mean     9.064825    67.199211          65.174498  \n",
       "std      1.499783    22.045058          13.378823  \n",
       "min      1.500000     0.000000          27.190000  \n",
       "25%      8.900000    51.900000          55.175000  \n",
       "50%      9.800000    71.300000          65.370000  \n",
       "75%      9.900000    84.250000          75.005000  \n",
       "max      9.900000   100.000000          98.920000  "
      ]
     },
     "execution_count": 8,
     "metadata": {},
     "output_type": "execute_result"
    }
   ],
   "source": [
    "weather_df.describe()"
   ]
  },
  {
   "cell_type": "code",
   "execution_count": 9,
   "metadata": {},
   "outputs": [
    {
     "data": {
      "text/html": [
       "<div>\n",
       "<style scoped>\n",
       "    .dataframe tbody tr th:only-of-type {\n",
       "        vertical-align: middle;\n",
       "    }\n",
       "\n",
       "    .dataframe tbody tr th {\n",
       "        vertical-align: top;\n",
       "    }\n",
       "\n",
       "    .dataframe thead th {\n",
       "        text-align: right;\n",
       "    }\n",
       "</style>\n",
       "<table border=\"1\" class=\"dataframe\">\n",
       "  <thead>\n",
       "    <tr style=\"text-align: right;\">\n",
       "      <th></th>\n",
       "      <th>Maximum Temperature</th>\n",
       "      <th>Minimum Temperature</th>\n",
       "      <th>Temperature</th>\n",
       "      <th>Wind Chill</th>\n",
       "      <th>Precipitation</th>\n",
       "      <th>Snow</th>\n",
       "      <th>Snow Depth</th>\n",
       "      <th>Wind Speed</th>\n",
       "      <th>Wind Direction</th>\n",
       "      <th>Visibility</th>\n",
       "      <th>Cloud Cover</th>\n",
       "      <th>Relative Humidity</th>\n",
       "    </tr>\n",
       "  </thead>\n",
       "  <tbody>\n",
       "    <tr>\n",
       "      <th>Maximum Temperature</th>\n",
       "      <td>1.000000</td>\n",
       "      <td>0.860034</td>\n",
       "      <td>0.966964</td>\n",
       "      <td>0.888874</td>\n",
       "      <td>0.003629</td>\n",
       "      <td>-0.269825</td>\n",
       "      <td>-0.468352</td>\n",
       "      <td>-0.028690</td>\n",
       "      <td>-0.249314</td>\n",
       "      <td>0.185736</td>\n",
       "      <td>-0.083368</td>\n",
       "      <td>-0.014555</td>\n",
       "    </tr>\n",
       "    <tr>\n",
       "      <th>Minimum Temperature</th>\n",
       "      <td>0.860034</td>\n",
       "      <td>1.000000</td>\n",
       "      <td>0.951518</td>\n",
       "      <td>0.963036</td>\n",
       "      <td>0.123520</td>\n",
       "      <td>-0.208246</td>\n",
       "      <td>-0.455936</td>\n",
       "      <td>-0.012296</td>\n",
       "      <td>-0.173574</td>\n",
       "      <td>0.011073</td>\n",
       "      <td>0.218652</td>\n",
       "      <td>0.189525</td>\n",
       "    </tr>\n",
       "    <tr>\n",
       "      <th>Temperature</th>\n",
       "      <td>0.966964</td>\n",
       "      <td>0.951518</td>\n",
       "      <td>1.000000</td>\n",
       "      <td>0.955177</td>\n",
       "      <td>0.055439</td>\n",
       "      <td>-0.250978</td>\n",
       "      <td>-0.475639</td>\n",
       "      <td>-0.015385</td>\n",
       "      <td>-0.218499</td>\n",
       "      <td>0.113091</td>\n",
       "      <td>0.059475</td>\n",
       "      <td>0.077931</td>\n",
       "    </tr>\n",
       "    <tr>\n",
       "      <th>Wind Chill</th>\n",
       "      <td>0.888874</td>\n",
       "      <td>0.963036</td>\n",
       "      <td>0.955177</td>\n",
       "      <td>1.000000</td>\n",
       "      <td>0.090519</td>\n",
       "      <td>-0.229159</td>\n",
       "      <td>-0.462329</td>\n",
       "      <td>-0.159124</td>\n",
       "      <td>-0.279436</td>\n",
       "      <td>0.026660</td>\n",
       "      <td>0.155957</td>\n",
       "      <td>0.206899</td>\n",
       "    </tr>\n",
       "    <tr>\n",
       "      <th>Precipitation</th>\n",
       "      <td>0.003629</td>\n",
       "      <td>0.123520</td>\n",
       "      <td>0.055439</td>\n",
       "      <td>0.090519</td>\n",
       "      <td>1.000000</td>\n",
       "      <td>0.323739</td>\n",
       "      <td>0.074632</td>\n",
       "      <td>0.050000</td>\n",
       "      <td>-0.162264</td>\n",
       "      <td>-0.618982</td>\n",
       "      <td>0.295203</td>\n",
       "      <td>0.418411</td>\n",
       "    </tr>\n",
       "    <tr>\n",
       "      <th>Snow</th>\n",
       "      <td>-0.269825</td>\n",
       "      <td>-0.208246</td>\n",
       "      <td>-0.250978</td>\n",
       "      <td>-0.229159</td>\n",
       "      <td>0.323739</td>\n",
       "      <td>1.000000</td>\n",
       "      <td>0.408752</td>\n",
       "      <td>-0.034959</td>\n",
       "      <td>-0.054237</td>\n",
       "      <td>-0.392457</td>\n",
       "      <td>0.149863</td>\n",
       "      <td>0.126949</td>\n",
       "    </tr>\n",
       "    <tr>\n",
       "      <th>Snow Depth</th>\n",
       "      <td>-0.468352</td>\n",
       "      <td>-0.455936</td>\n",
       "      <td>-0.475639</td>\n",
       "      <td>-0.462329</td>\n",
       "      <td>0.074632</td>\n",
       "      <td>0.408752</td>\n",
       "      <td>1.000000</td>\n",
       "      <td>0.021340</td>\n",
       "      <td>0.093690</td>\n",
       "      <td>-0.220967</td>\n",
       "      <td>0.071724</td>\n",
       "      <td>0.064091</td>\n",
       "    </tr>\n",
       "    <tr>\n",
       "      <th>Wind Speed</th>\n",
       "      <td>-0.028690</td>\n",
       "      <td>-0.012296</td>\n",
       "      <td>-0.015385</td>\n",
       "      <td>-0.159124</td>\n",
       "      <td>0.050000</td>\n",
       "      <td>-0.034959</td>\n",
       "      <td>0.021340</td>\n",
       "      <td>1.000000</td>\n",
       "      <td>0.441721</td>\n",
       "      <td>0.094448</td>\n",
       "      <td>0.012220</td>\n",
       "      <td>-0.250487</td>\n",
       "    </tr>\n",
       "    <tr>\n",
       "      <th>Wind Direction</th>\n",
       "      <td>-0.249314</td>\n",
       "      <td>-0.173574</td>\n",
       "      <td>-0.218499</td>\n",
       "      <td>-0.279436</td>\n",
       "      <td>-0.162264</td>\n",
       "      <td>-0.054237</td>\n",
       "      <td>0.093690</td>\n",
       "      <td>0.441721</td>\n",
       "      <td>1.000000</td>\n",
       "      <td>0.220648</td>\n",
       "      <td>-0.122098</td>\n",
       "      <td>-0.252468</td>\n",
       "    </tr>\n",
       "    <tr>\n",
       "      <th>Visibility</th>\n",
       "      <td>0.185736</td>\n",
       "      <td>0.011073</td>\n",
       "      <td>0.113091</td>\n",
       "      <td>0.026660</td>\n",
       "      <td>-0.618982</td>\n",
       "      <td>-0.392457</td>\n",
       "      <td>-0.220967</td>\n",
       "      <td>0.094448</td>\n",
       "      <td>0.220648</td>\n",
       "      <td>1.000000</td>\n",
       "      <td>-0.421749</td>\n",
       "      <td>-0.567598</td>\n",
       "    </tr>\n",
       "    <tr>\n",
       "      <th>Cloud Cover</th>\n",
       "      <td>-0.083368</td>\n",
       "      <td>0.218652</td>\n",
       "      <td>0.059475</td>\n",
       "      <td>0.155957</td>\n",
       "      <td>0.295203</td>\n",
       "      <td>0.149863</td>\n",
       "      <td>0.071724</td>\n",
       "      <td>0.012220</td>\n",
       "      <td>-0.122098</td>\n",
       "      <td>-0.421749</td>\n",
       "      <td>1.000000</td>\n",
       "      <td>0.556010</td>\n",
       "    </tr>\n",
       "    <tr>\n",
       "      <th>Relative Humidity</th>\n",
       "      <td>-0.014555</td>\n",
       "      <td>0.189525</td>\n",
       "      <td>0.077931</td>\n",
       "      <td>0.206899</td>\n",
       "      <td>0.418411</td>\n",
       "      <td>0.126949</td>\n",
       "      <td>0.064091</td>\n",
       "      <td>-0.250487</td>\n",
       "      <td>-0.252468</td>\n",
       "      <td>-0.567598</td>\n",
       "      <td>0.556010</td>\n",
       "      <td>1.000000</td>\n",
       "    </tr>\n",
       "  </tbody>\n",
       "</table>\n",
       "</div>"
      ],
      "text/plain": [
       "                     Maximum Temperature  Minimum Temperature  Temperature  \\\n",
       "Maximum Temperature             1.000000             0.860034     0.966964   \n",
       "Minimum Temperature             0.860034             1.000000     0.951518   \n",
       "Temperature                     0.966964             0.951518     1.000000   \n",
       "Wind Chill                      0.888874             0.963036     0.955177   \n",
       "Precipitation                   0.003629             0.123520     0.055439   \n",
       "Snow                           -0.269825            -0.208246    -0.250978   \n",
       "Snow Depth                     -0.468352            -0.455936    -0.475639   \n",
       "Wind Speed                     -0.028690            -0.012296    -0.015385   \n",
       "Wind Direction                 -0.249314            -0.173574    -0.218499   \n",
       "Visibility                      0.185736             0.011073     0.113091   \n",
       "Cloud Cover                    -0.083368             0.218652     0.059475   \n",
       "Relative Humidity              -0.014555             0.189525     0.077931   \n",
       "\n",
       "                     Wind Chill  Precipitation      Snow  Snow Depth  \\\n",
       "Maximum Temperature    0.888874       0.003629 -0.269825   -0.468352   \n",
       "Minimum Temperature    0.963036       0.123520 -0.208246   -0.455936   \n",
       "Temperature            0.955177       0.055439 -0.250978   -0.475639   \n",
       "Wind Chill             1.000000       0.090519 -0.229159   -0.462329   \n",
       "Precipitation          0.090519       1.000000  0.323739    0.074632   \n",
       "Snow                  -0.229159       0.323739  1.000000    0.408752   \n",
       "Snow Depth            -0.462329       0.074632  0.408752    1.000000   \n",
       "Wind Speed            -0.159124       0.050000 -0.034959    0.021340   \n",
       "Wind Direction        -0.279436      -0.162264 -0.054237    0.093690   \n",
       "Visibility             0.026660      -0.618982 -0.392457   -0.220967   \n",
       "Cloud Cover            0.155957       0.295203  0.149863    0.071724   \n",
       "Relative Humidity      0.206899       0.418411  0.126949    0.064091   \n",
       "\n",
       "                     Wind Speed  Wind Direction  Visibility  Cloud Cover  \\\n",
       "Maximum Temperature   -0.028690       -0.249314    0.185736    -0.083368   \n",
       "Minimum Temperature   -0.012296       -0.173574    0.011073     0.218652   \n",
       "Temperature           -0.015385       -0.218499    0.113091     0.059475   \n",
       "Wind Chill            -0.159124       -0.279436    0.026660     0.155957   \n",
       "Precipitation          0.050000       -0.162264   -0.618982     0.295203   \n",
       "Snow                  -0.034959       -0.054237   -0.392457     0.149863   \n",
       "Snow Depth             0.021340        0.093690   -0.220967     0.071724   \n",
       "Wind Speed             1.000000        0.441721    0.094448     0.012220   \n",
       "Wind Direction         0.441721        1.000000    0.220648    -0.122098   \n",
       "Visibility             0.094448        0.220648    1.000000    -0.421749   \n",
       "Cloud Cover            0.012220       -0.122098   -0.421749     1.000000   \n",
       "Relative Humidity     -0.250487       -0.252468   -0.567598     0.556010   \n",
       "\n",
       "                     Relative Humidity  \n",
       "Maximum Temperature          -0.014555  \n",
       "Minimum Temperature           0.189525  \n",
       "Temperature                   0.077931  \n",
       "Wind Chill                    0.206899  \n",
       "Precipitation                 0.418411  \n",
       "Snow                          0.126949  \n",
       "Snow Depth                    0.064091  \n",
       "Wind Speed                   -0.250487  \n",
       "Wind Direction               -0.252468  \n",
       "Visibility                   -0.567598  \n",
       "Cloud Cover                   0.556010  \n",
       "Relative Humidity             1.000000  "
      ]
     },
     "execution_count": 9,
     "metadata": {},
     "output_type": "execute_result"
    }
   ],
   "source": [
    "weather_corr = weather_df.corr()\n",
    "weather_corr"
   ]
  },
  {
   "cell_type": "code",
   "execution_count": 10,
   "metadata": {},
   "outputs": [
    {
     "data": {
      "text/plain": [
       "<matplotlib.axes._subplots.AxesSubplot at 0x7f84c650bb38>"
      ]
     },
     "execution_count": 10,
     "metadata": {},
     "output_type": "execute_result"
    },
    {
     "data": {
      "image/png": "[encoded data removed]",
      "text/plain": [
       "<Figure size 864x720 with 2 Axes>"
      ]
     },
     "metadata": {},
     "output_type": "display_data"
    }
   ],
   "source": [
    "fig, ax = plt.subplots(figsize = (12,10))\n",
    "sns.heatmap(weather_corr, annot=True)"
   ]
  },
  {
   "cell_type": "code",
   "execution_count": 11,
   "metadata": {},
   "outputs": [
    {
     "data": {
      "text/plain": [
       "137.0"
      ]
     },
     "execution_count": 11,
     "metadata": {},
     "output_type": "execute_result"
    }
   ],
   "source": [
    "weather_df['Wind Direction'][2]"
   ]
  },
  {
   "cell_type": "code",
   "execution_count": 12,
   "metadata": {},
   "outputs": [
    {
     "name": "stdout",
     "output_type": "stream",
     "text": [
      "[2 2 1 1 2 2 2 2 1 0 1 1 1 2 0 1 1 2 1 1 0 0 2 2 0 0 0 2 1 1 2 1 1 1 1 0 2\n",
      " 1 1 1 1 0 2 1 1 2 2 2 2 1 1 0 2 1 1 2 1 1 0 2 0 2 2 1 0 1 1 1 1 1 2 0 1 1\n",
      " 1 2 0 1 0 2 1 0 0 0 1 0 1 0 1 2 2 1 1 0 1 0 2 0 2 2 0 2 2 1 0 2 2 1 0 0 2\n",
      " 1 1 1 1 2 2 0 1 2 0 0 2 2 0 2 2 1 0 2 2 1 1 0 0 2 2 2 2 0 2 2 0 0 2 2 2 2\n",
      " 0 2 0 0 0 2 2 1 1 2 2 2 0 0 1 0 2 2 0 0 2 0 0 2 0 2 0 0 2 0 1 2 0 0 1 2 2\n",
      " 0 0 2 0 2 0 0 0 0 0 2 1 2 2 0 1 0 2 2 2 1 1 2 2 2 2 1 2 2 2 2 0 2 2 0 1 2\n",
      " 2 2 1 1 1 0 1 2 0 2 0 1 0 2 0 2 2 2 0 0 1 0 1 1 0 2 2 2 2 2 2 1 0 1 2 1 0\n",
      " 2 2 0 0 1 1 1 1 2 1 1 1 1 0 1 2 2 0 1 2 0 2 0 0 2 0 1 0 2 0 0 0 0 2 0 0 1\n",
      " 2 2 1 1 2 2 1 2 2 0 0 2 1 0 2 0 1 2 2 2 0 1 0 1 2 2 2 2 0 1 0 2 2 0 2 2 0\n",
      " 2 0 0 1 1 2 1 2 2 0 1 1 2 2 0 2 0 1 0 2 0 0 2 0 0 0 0 2 2 0 2 2 2 2 0 0 2\n",
      " 0 0 0 1 2 2 2 1 0 2 0 0 0 1 2 0 2 0 0 1 0 1 1 0 2 2 1 1 0 0 0 2 0 0 2 0 0\n",
      " 2 1 0 2 2 0 0 1 2 0 2 2 2 2 0 1 1 2 2 0 1 0 2 2 2 2 1 1 2 2 0 2 2 0 0 0 0\n",
      " 0 2 1 0 2 0 0 1 0 2 0 1 1 2 2 1 1 0 2 0 2 2 0 0 1 1 1 0 1 2 1 1 1 2 2 0 2\n",
      " 0 1 1 1 0 2 2 1 1 1 1 1 2 1 0 0 1 1 1 0 0 0 1 2 2 2 1 0 1 2 0 0 1 1 1 2 0\n",
      " 0 0 0 0 0 2 0 0 1 2 2 0 0 1 1 0 2 2 0 0 2 0 0 1 1 0 2 2 1 1 2 0 2 2 2 0 1\n",
      " 0 2 2 1 1 2 2 1 2 2 0 1 1 1 0 1 1 0 2 1 1 1 2 0 0 0 2 0 0 0 0 0 0 2 0 0 2\n",
      " 2 2 1 2 2 2 0 1 1 0 2 2 2 2 2 1 0 2 2 1 2 1 0 2 0 0 1 2 0 2 0 0 2 1 2 2 2\n",
      " 2 0 1 1 1 0 2 2 2 0 0 2 2 1 1 0 0 0 2 1 0 2 0 0 0 2 1 0 2 1 1 2 1 1 2 1 1\n",
      " 1 1 1 2 0 0 2 2 2 0 0 2 2 0 2 2 2 2 0 0 0 0 2 2 1 1 1 0 2 1 1 2 2 2 1 2 2\n",
      " 2 2 0 2 2 1 1 2 2 2 1 0 1 2 0 1 2 2 1 0 0 2 0 1 2 1 1 1 2 0 0 0 1 2 2 1 2\n",
      " 2 1 1 0 1 0 0 1 0 1 1 2 0 0 2 2 1 1 0 1 1 1 2 0 2 1 2 2 2 0 1 2 1 0 2 1 1\n",
      " 2 0 1 0 0 0 0 0 2 2 2 2 0 2 1 1 0 2 2 1 2 2 1 1 1 0 0 1 0 0 1 0 2 0 2 0 0\n",
      " 1 2 2 2 2 2 2 2 0 0 1 1 1 2 0 2 0 2 1 0 2 2 0 1 2 2 2 2 2 0 2 2 2 1 0 0 2\n",
      " 0 2 2 2 2 2 0 1 2 2 2 2 2 1 0 0 2 0 0 1 0 2 2 2 2 2 2 2 0 0 1 2 2 2 2 1]\n"
     ]
    },
    {
     "data": {
      "text/plain": [
       "Text(0,0.5,'Wind Speed in miles')"
      ]
     },
     "execution_count": 12,
     "metadata": {},
     "output_type": "execute_result"
    },
    {
     "data": {
      "image/png": "[encoded data removed]",
      "text/plain": [
       "<Figure size 432x288 with 1 Axes>"
      ]
     },
     "metadata": {},
     "output_type": "display_data"
    }
   ],
   "source": [
    "\n",
    "model = KMeans(n_clusters=3)\n",
    "model.fit(weather_df)\n",
    "all_predictions = model.predict(weather_df)\n",
    "\n",
    "\n",
    "centroids = model.cluster_centers_\n",
    "labels = model.labels_\n",
    "print(labels)\n",
    "\n",
    "colors = [\"r.\", \"b.\", \"g.\"]\n",
    "\n",
    "for i in range(len(weather_df)):\n",
    "    line = plt.plot(weather_df.iloc[i][\"Wind Direction\"], weather_df.iloc[i][\"Wind Speed\"], colors[labels[i]], markersize=10)\n",
    "\n",
    "plt.xlabel(\"Wind Direction in degree latitudes\")\n",
    "plt.ylabel(\"Wind Speed in miles\")"
   ]
  },
  {
   "cell_type": "code",
   "execution_count": 13,
   "metadata": {},
   "outputs": [
    {
     "data": {
      "image/png": "[encoded data removed]",
      "text/plain": [
       "<Figure size 720x504 with 1 Axes>"
      ]
     },
     "metadata": {},
     "output_type": "display_data"
    }
   ],
   "source": [
    "\n",
    "LABEL_COLOR_MAP = {0 : 'r',\n",
    "                   1 : 'b',\n",
    "                   2 : 'g'\n",
    "                   }\n",
    "\n",
    "label_color = [LABEL_COLOR_MAP[l] for l in labels]\n",
    "\n",
    "fig = plt.figure(figsize=(10,7))\n",
    "ax = plt.axes(projection = \"3d\")\n",
    "\n",
    "x1 = np.array(weather_df[\"Wind Direction\"])\n",
    "x2 = np.array(weather_df[\"Wind Speed\"])\n",
    "x3 = np.array(weather_df[\"Relative Humidity\"])\n",
    "\n",
    "ax.scatter(x1, x2, x3, marker=\"s\", c=label_color, s=40)\n",
    "plt.show()"
   ]
  },
  {
   "cell_type": "code",
   "execution_count": 14,
   "metadata": {},
   "outputs": [
    {
     "data": {
      "image/png": "[encoded data removed]",
      "text/plain": [
       "<Figure size 432x288 with 1 Axes>"
      ]
     },
     "metadata": {},
     "output_type": "display_data"
    }
   ],
   "source": [
    "\n",
    "tsne_model = TSNE(learning_rate=1000)\n",
    "transformed = model.fit_transform(weather_df)\n",
    "x_axis = transformed[:, 0]\n",
    "y_axis = transformed[:, 1]\n",
    "plt.scatter(x_axis, y_axis)\n",
    "plt.show()"
   ]
  },
  {
   "cell_type": "code",
   "execution_count": 15,
   "metadata": {},
   "outputs": [
    {
     "name": "stdout",
     "output_type": "stream",
     "text": [
      "[2 2 1 1 2 2 2 2 1 0 1 1 1 2 0 1 1 2 1 1 0 0 2 2 0 0 0 2 1 1 2 1 1 1 1 0 2\n",
      " 1 1 1 1 0 2 1 1 2 2 2 2 1 1 0 2 1 1 2 1 1 0 2 0 2 2 1 0 1 1 1 1 1 2 0 1 1\n",
      " 1 2 0 1 0 2 1 0 0 0 1 0 1 0 1 2 2 1 1 0 1 0 2 0 2 2 0 2 2 1 0 2 2 1 0 0 2\n",
      " 1 1 1 1 2 2 0 1 2 0 0 2 2 0 2 2 1 0 2 2 1 1 0 0 2 2 2 2 0 2 2 0 0 2 2 2 2\n",
      " 0 2 0 0 0 2 2 1 1 2 2 2 0 0 1 0 2 2 0 0 2 0 0 2 0 2 0 0 2 0 1 2 0 0 1 2 2\n",
      " 0 0 2 0 2 0 0 0 0 0 2 1 2 2 0 1 0 2 2 2 1 1 2 2 2 2 1 2 2 2 2 0 2 2 0 1 2\n",
      " 2 2 1 1 1 0 1 2 0 2 0 1 0 2 0 2 2 2 0 0 1 0 1 1 0 2 2 2 2 2 2 1 0 1 2 1 0\n",
      " 2 2 0 0 1 1 1 1 2 1 1 1 1 0 1 2 2 0 1 2 0 2 0 0 2 0 1 0 2 0 0 0 0 2 0 0 1\n",
      " 2 2 1 1 2 2 1 2 2 0 0 2 1 0 2 0 1 2 2 2 0 1 0 1 2 2 2 2 0 1 0 2 2 0 2 2 0\n",
      " 2 0 0 1 1 2 1 2 2 0 1 1 2 2 0 2 0 1 0 2 0 0 2 0 0 0 0 2 2 0 2 2 2 2 0 0 2\n",
      " 0 0 0 1 2 2 2 1 0 2 0 0 0 1 2 0 2 0 0 1 0 1 1 0 2 2 1 1 0 0 0 2 0 0 2 0 0\n",
      " 2 1 0 2 2 0 0 1 2 0 2 2 2 2 0 1 1 2 2 0 1 0 2 2 2 2 1 1 2 2 0 2 2 0 0 0 0\n",
      " 0 2 1 0 2 0 0 1 0 2 0 1 1 2 2 1 1 0 2 0 2 2 0 0 1 1 1 0 1 2 1 1 1 2 2 0 2\n",
      " 0 1 1 1 0 2 2 1 1 1 1 1 2 1 0 0 1 1 1 0 0 0 1 2 2 2 1 0 1 2 0 0 1 1 1 2 0\n",
      " 0 0 0 0 0 2 0 0 1 2 2 0 0 1 1 0 2 2 0 0 2 0 0 1 1 0 2 2 1 1 2 0 2 2 2 0 1\n",
      " 0 2 2 1 1 2 2 1 2 2 0 1 1 1 0 1 1 0 2 1 1 1 2 0 0 0 2 0 0 0 0 0 0 2 0 0 2\n",
      " 2 2 1 2 2 2 0 1 1 0 2 2 2 2 2 1 0 2 2 1 2 1 0 2 0 0 1 2 0 2 0 0 2 1 2 2 2\n",
      " 2 0 1 1 1 0 2 2 2 0 0 2 2 1 1 0 0 0 2 1 0 2 0 0 0 2 1 0 2 1 1 2 1 1 2 1 1\n",
      " 1 1 1 2 0 0 2 2 2 0 0 2 2 0 2 2 2 2 0 0 0 0 2 2 1 1 1 0 2 1 1 2 2 2 1 2 2\n",
      " 2 2 0 2 2 1 1 2 2 2 1 0 1 2 0 1 2 2 1 0 0 2 0 1 2 1 1 1 2 0 0 0 1 2 2 1 2\n",
      " 2 1 1 0 1 0 0 1 0 1 1 2 0 0 2 2 1 1 0 1 1 1 2 0 2 1 2 2 2 0 1 2 1 0 2 1 1\n",
      " 2 0 1 0 0 0 0 0 2 2 2 2 0 2 1 1 0 2 2 1 2 2 1 1 1 0 0 1 0 0 1 0 2 0 2 0 0\n",
      " 1 2 2 2 2 2 2 2 0 0 1 1 1 2 0 2 0 2 1 0 2 2 0 1 2 2 2 2 2 0 2 2 2 1 0 0 2\n",
      " 0 2 2 2 2 2 0 1 2 2 2 2 2 1 0 0 2 0 0 1 0 2 2 2 2 2 2 2 0 0 1 2 2 2 2 1]\n"
     ]
    }
   ],
   "source": [
    "print(labels)"
   ]
  },
  {
   "cell_type": "code",
   "execution_count": 16,
   "metadata": {},
   "outputs": [
    {
     "name": "stdout",
     "output_type": "stream",
     "text": [
      "Feature: Maximum Temperature, Score: 0.02865\n",
      "Feature: Minimum Temperature, Score: 0.01936\n",
      "Feature: Temperature, Score: 0.02708\n",
      "Feature: Wind Chill, Score: 0.03990\n",
      "Feature: Precipitation, Score: 0.00885\n",
      "Feature: Snow, Score: 0.01076\n",
      "Feature: Snow Depth, Score: 0.00866\n",
      "Feature: Wind Speed, Score: 0.05837\n",
      "Feature: Wind Direction, Score: 0.71019\n",
      "Feature: Visibility, Score: 0.02330\n",
      "Feature: Cloud Cover, Score: 0.02541\n",
      "Feature: Relative Humidity, Score: 0.03948\n"
     ]
    },
    {
     "data": {
      "image/png": "[encoded data removed]",
      "text/plain": [
       "<Figure size 432x288 with 1 Axes>"
      ]
     },
     "metadata": {},
     "output_type": "display_data"
    }
   ],
   "source": [
    "\n",
    "rfdict = {}\n",
    "rf = RandomForestClassifier()\n",
    "rf.fit(weather_df, labels)\n",
    "sorted_idx = rf.feature_importances_.argsort()\n",
    "plt.barh(weather_df.columns[sorted_idx], rf.feature_importances_[sorted_idx])\n",
    "plt.title(\"Random Forest Feature Importance\")\n",
    "for i in range(12):\n",
    "    print('Feature: %s, Score: %.5f' % (weather_df.columns[i],rf.feature_importances_[i]))\n",
    "    rfdict[weather_df.columns[i]] = rf.feature_importances_[i]"
   ]
  },
  {
   "cell_type": "code",
   "execution_count": 17,
   "metadata": {},
   "outputs": [
    {
     "data": {
      "text/plain": [
       "{'Maximum Temperature': 0.028650906975963453,\n",
       " 'Minimum Temperature': 0.019363131115502925,\n",
       " 'Temperature': 0.027075219429625548,\n",
       " 'Wind Chill': 0.039899716134247504,\n",
       " 'Precipitation': 0.008848076834363037,\n",
       " 'Snow': 0.010763598074618618,\n",
       " 'Snow Depth': 0.00865537038202913,\n",
       " 'Wind Speed': 0.05836732835879623,\n",
       " 'Wind Direction': 0.7101857599073924,\n",
       " 'Visibility': 0.023303342360720087,\n",
       " 'Cloud Cover': 0.02540697111528949,\n",
       " 'Relative Humidity': 0.0394805793114516}"
      ]
     },
     "execution_count": 17,
     "metadata": {},
     "output_type": "execute_result"
    }
   ],
   "source": [
    "rfdict"
   ]
  },
  {
   "cell_type": "code",
   "execution_count": 18,
   "metadata": {},
   "outputs": [
    {
     "data": {
      "text/plain": [
       "array([ 6,  4,  5,  1,  9, 10,  2,  0, 11,  3,  7,  8])"
      ]
     },
     "execution_count": 18,
     "metadata": {},
     "output_type": "execute_result"
    }
   ],
   "source": [
    "sorted_idx"
   ]
  },
  {
   "cell_type": "code",
   "execution_count": 19,
   "metadata": {},
   "outputs": [
    {
     "name": "stdout",
     "output_type": "stream",
     "text": [
      "countN=0\n",
      "countNNE=2\n",
      "countNE=2\n",
      "countENE=16\n",
      "countE=36\n",
      "countESE=34\n",
      "countSE=47\n",
      "countSSE=93\n",
      "countS=123\n",
      "countSSW=76\n",
      "countSW=75\n",
      "countWSW=71\n",
      "countW=132\n",
      "countWNW=130\n",
      "countNW=48\n",
      "countNNW=2\n"
     ]
    }
   ],
   "source": [
    "winddir = weather_df[\"Wind Direction\"]\n",
    "countN = 0\n",
    "North = []\n",
    "countNNE = 0\n",
    "NorthNorthEast = []\n",
    "countNE = 0\n",
    "NorthEast = []\n",
    "countENE = 0\n",
    "EastNorthEast = []\n",
    "countE = 0\n",
    "East = []\n",
    "countESE = 0\n",
    "EastSouthEast = []\n",
    "countSE = 0\n",
    "SouthEast = []\n",
    "countSSE = 0\n",
    "SouthSouthEast = []\n",
    "countS = 0\n",
    "South = []\n",
    "countSSW = 0\n",
    "SouthSouthWest = []\n",
    "countSW = 0\n",
    "SouthWest = []\n",
    "countWSW = 0\n",
    "WestSouthWest = []\n",
    "countW = 0\n",
    "West = []\n",
    "countWNW = 0\n",
    "WestNorthWest = []\n",
    "countNW = 0\n",
    "NorthWest = []\n",
    "countNNW = 0\n",
    "NorthNorthWest = []\n",
    "for i in range(len(winddir.values)):\n",
    "    if(winddir.values[i] >=350 or winddir.values[i] <=10):\n",
    "        countN +=1\n",
    "        North.append(winddir.values[i])\n",
    "    if(winddir.values[i] >10 and winddir.values[i] <=30):\n",
    "        countNNE +=1\n",
    "        NorthNorthEast.append(winddir.values[i])\n",
    "    if(winddir.values[i] >30 and winddir.values[i] <=50):\n",
    "        countNE +=1\n",
    "        NorthEast.append(winddir.values[i])\n",
    "    if(winddir.values[i] >50 and winddir.values[i] <=70):\n",
    "        countENE +=1\n",
    "        EastNorthEast.append(winddir.values[i])\n",
    "    if(winddir.values[i] >70 and winddir.values[i] <=100):\n",
    "        countE +=1\n",
    "        East.append(winddir.values[i])\n",
    "    if(winddir.values[i] >100 and winddir.values[i] <=120):\n",
    "        countESE +=1\n",
    "        EastSouthEast.append(winddir.values[i])\n",
    "    if(winddir.values[i] >120 and winddir.values[i] <=140):\n",
    "        countSE +=1\n",
    "        SouthEast.append(winddir.values[i])\n",
    "    if(winddir.values[i] >140 and winddir.values[i] <=160):\n",
    "        countSSE +=1\n",
    "        SouthSouthEast.append(winddir.values[i])\n",
    "    if(winddir.values[i] >160 and winddir.values[i] <=190):\n",
    "        countS +=1\n",
    "        South.append(winddir.values[i])\n",
    "    if(winddir.values[i] >190 and winddir.values[i] <=210):\n",
    "        countSSW +=1\n",
    "        SouthSouthWest.append(winddir.values[i])\n",
    "    if(winddir.values[i] >210 and winddir.values[i] <=230):\n",
    "        countSW +=1\n",
    "        SouthWest.append(winddir.values[i])\n",
    "    if(winddir.values[i] >230 and winddir.values[i] <=250):\n",
    "        countWSW +=1\n",
    "        WestSouthWest.append(winddir.values[i])\n",
    "    if(winddir.values[i] >250 and winddir.values[i] <=280):\n",
    "        countW +=1\n",
    "        West.append(winddir.values[i])\n",
    "    if(winddir.values[i] >280 and winddir.values[i] <=300):\n",
    "        countWNW +=1\n",
    "        WestNorthWest.append(winddir.values[i])\n",
    "    if(winddir.values[i] >300 and winddir.values[i] <=320):\n",
    "        countNW +=1\n",
    "        NorthWest.append(winddir.values[i])\n",
    "    if(winddir.values[i] >320 and winddir.values[i] <=340):\n",
    "        countNNW +=1\n",
    "        NorthNorthWest.append(winddir.values[i])\n",
    "print(\"countN=%d\" % (countN))\n",
    "print(\"countNNE=%d\" % (countNNE))\n",
    "print(\"countNE=%d\" % (countNE))\n",
    "print(\"countENE=%d\" % (countENE))\n",
    "print(\"countE=%d\" % (countE))\n",
    "print(\"countESE=%d\" % (countESE))\n",
    "print(\"countSE=%d\" % (countSE))\n",
    "print(\"countSSE=%d\" % (countSSE))\n",
    "print(\"countS=%d\" % (countS))\n",
    "print(\"countSSW=%d\" % (countSSW))\n",
    "print(\"countSW=%d\" % (countSW))\n",
    "print(\"countWSW=%d\" % (countWSW))\n",
    "print(\"countW=%d\" % (countW))\n",
    "print(\"countWNW=%d\" % (countWNW))\n",
    "print(\"countNW=%d\" % (countNW))\n",
    "print(\"countNNW=%d\" % (countNNW))"
   ]
  },
  {
   "cell_type": "code",
   "execution_count": 20,
   "metadata": {},
   "outputs": [
    {
     "data": {
      "image/png": "[encoded data removed]",
      "text/plain": [
       "<Figure size 432x288 with 1 Axes>"
      ]
     },
     "metadata": {},
     "output_type": "display_data"
    }
   ],
   "source": [
    "piechart_labels = 'North', 'NorthNorthEast', 'NorthEast', 'EastNorthEast', 'East', 'EastSouthEast', 'SouthEast', 'SouthSouthEast', 'South', 'SouthSouthWest', 'SouthWest', 'WestSouthWest', 'West', 'WestNorthWest', 'NorthWest', 'NorthNorthWest'\n",
    "piechart_sizes = [countN, countNNE, countNE, countENE, countE, countESE, countSE, countSSE, countS, countSSW, countSW, countWSW, countW, countWNW, countNW, countNNW]\n",
    "fig1, ax1 = plt.subplots()\n",
    "ax1.pie(piechart_sizes,labels=piechart_labels, autopct='%1.1f%%',\n",
    "        shadow=True, startangle=90)\n",
    "ax1.axis('equal') \n",
    "plt.show()\n"
   ]
  },
  {
   "cell_type": "code",
   "execution_count": 21,
   "metadata": {},
   "outputs": [
    {
     "data": {
      "text/plain": [
       "336.46"
      ]
     },
     "execution_count": 21,
     "metadata": {},
     "output_type": "execute_result"
    }
   ],
   "source": [
    "max(weather_df['Wind Direction'])"
   ]
  },
  {
   "cell_type": "code",
   "execution_count": 22,
   "metadata": {},
   "outputs": [
    {
     "name": "stdout",
     "output_type": "stream",
     "text": [
      "[]\n"
     ]
    }
   ],
   "source": [
    "winddir_dict = {countN : North,countNNE : NorthNorthEast, countNE : NorthEast, countENE : EastNorthEast, countE : East, countESE : EastSouthEast, countSE : SouthEast, countSSE : SouthSouthEast, countS : South, countSSW : SouthSouthWest, countSW : SouthWest, countWSW : WestSouthWest, countW : West, countWNW : WestNorthWest, countNW : NorthWest, countNNW : NorthNorthWest }\n",
    "high = []\n",
    "moderate = []\n",
    "low = []\n",
    "for key, value in winddir_dict.items():\n",
    "    if((key / len(weather_df)) * 100 >= 10):\n",
    "        high.append(value)\n",
    "    if(5 <= (key / len(weather_df)) * 100 < 10):\n",
    "        moderate.append(value)\n",
    "    if((0 <= key / len(weather_df)) * 100 < 5):\n",
    "        low.append(value)\n",
    "print(low)"
   ]
  },
  {
   "cell_type": "code",
   "execution_count": 23,
   "metadata": {},
   "outputs": [
    {
     "name": "stdout",
     "output_type": "stream",
     "text": [
      "Mean Accuracy: 0.985 (0.018)\n"
     ]
    }
   ],
   "source": [
    "\n",
    "model = GradientBoostingClassifier(n_estimators=100)\n",
    "cv = RepeatedStratifiedKFold(n_splits=20, n_repeats=3, random_state=1)\n",
    "n_scores = cross_val_score(model, weather_df, labels, scoring='accuracy', cv=cv, n_jobs=-1)\n",
    "print('Mean Accuracy: %.3f (%.3f)' % (mean(n_scores), std(n_scores)))"
   ]
  },
  {
   "cell_type": "code",
   "execution_count": 24,
   "metadata": {},
   "outputs": [
    {
     "data": {
      "text/plain": [
       "Counter({2: 352, 1: 247, 0: 288})"
      ]
     },
     "execution_count": 24,
     "metadata": {},
     "output_type": "execute_result"
    }
   ],
   "source": [
    "\n",
    "collections.Counter(labels)"
   ]
  },
  {
   "cell_type": "code",
   "execution_count": 25,
   "metadata": {},
   "outputs": [
    {
     "data": {
      "text/plain": [
       "38.0"
      ]
     },
     "execution_count": 25,
     "metadata": {},
     "output_type": "execute_result"
    }
   ],
   "source": [
    "max(weather_df[\"Wind Speed\"])"
   ]
  },
  {
   "cell_type": "code",
   "execution_count": 26,
   "metadata": {},
   "outputs": [
    {
     "data": {
      "text/plain": [
       "4.2"
      ]
     },
     "execution_count": 26,
     "metadata": {},
     "output_type": "execute_result"
    }
   ],
   "source": [
    "min(weather_df[\"Wind Speed\"])"
   ]
  },
  {
   "cell_type": "code",
   "execution_count": 27,
   "metadata": {},
   "outputs": [
    {
     "name": "stdout",
     "output_type": "stream",
     "text": [
      "counthigh=193\n",
      "countlow=694\n"
     ]
    }
   ],
   "source": [
    "windspeed = weather_df[\"Wind Speed\"]\n",
    "counthigh = 0\n",
    "countlow = 0\n",
    "for j in range(len(windspeed.values)):\n",
    "    if(windspeed.values[j] > 20):\n",
    "        counthigh += 1\n",
    "    else:\n",
    "        countlow += 1\n",
    "print(\"counthigh=%d\" % (counthigh))\n",
    "print(\"countlow=%d\" % (countlow))"
   ]
  },
  {
   "cell_type": "code",
   "execution_count": 28,
   "metadata": {},
   "outputs": [],
   "source": [
    "weather_df2 = weather_df.copy()\n"
   ]
  },
  {
   "cell_type": "code",
   "execution_count": 29,
   "metadata": {},
   "outputs": [
    {
     "data": {
      "text/plain": [
       "0.05836732835879623"
      ]
     },
     "execution_count": 29,
     "metadata": {},
     "output_type": "execute_result"
    }
   ],
   "source": [
    "rfdict['Wind Speed']"
   ]
  },
  {
   "cell_type": "code",
   "execution_count": 30,
   "metadata": {},
   "outputs": [
    {
     "data": {
      "text/plain": [
       "0.0394805793114516"
      ]
     },
     "execution_count": 30,
     "metadata": {},
     "output_type": "execute_result"
    }
   ],
   "source": [
    "rfdict['Relative Humidity']"
   ]
  },
  {
   "cell_type": "code",
   "execution_count": 31,
   "metadata": {},
   "outputs": [
    {
     "name": "stdout",
     "output_type": "stream",
     "text": [
      "887\n",
      "887\n"
     ]
    }
   ],
   "source": [
    "winddir_df2 = weather_df2[\"Wind Direction\"]\n",
    "windspeed_df2 = weather_df2[\"Wind Speed\"]\n",
    "asthma_risk = []\n",
    "print(len(winddir_df2))\n",
    "if(rfdict['Wind Speed'] > rfdict['Relative Humidity']):\n",
    "    for k in range(len(winddir_df2.values)):\n",
    "        if(min(min(moderate)) <= winddir_df2.values[k] <= max(max(high))):\n",
    "            if(windspeed_df2.values[k]>=20):\n",
    "                asthma_risk.append(\"High\")\n",
    "            if(10 <= windspeed_df2.values[k] < 20):\n",
    "                asthma_risk.append(\"Moderate\")\n",
    "            if(4 <= windspeed_df2.values[k] < 10):\n",
    "                asthma_risk.append(\"Low\")\n",
    "        if(0 <= winddir_df2.values[k] <min(min(moderate)) or 300 <= winddir_df2.values[k] <= 360):\n",
    "            if(windspeed_df2.values[k]>=20):\n",
    "                asthma_risk.append(\"Moderate\")\n",
    "            if(10 <= windspeed_df2.values[k] < 20):\n",
    "                asthma_risk.append(\"Low\")\n",
    "            if(4 <= windspeed_df2.values[k] < 10):\n",
    "                asthma_risk.append(\"Low\")\n",
    "    print(len(asthma_risk))\n",
    "else:\n",
    "    print(\"HEllo\")"
   ]
  },
  {
   "cell_type": "code",
   "execution_count": 32,
   "metadata": {},
   "outputs": [],
   "source": [
    "weather_df2[\"Asthma Risk\"] = asthma_risk"
   ]
  },
  {
   "cell_type": "code",
   "execution_count": 33,
   "metadata": {},
   "outputs": [
    {
     "data": {
      "text/plain": [
       "Counter({'High': 185, 'Moderate': 446, 'Low': 256})"
      ]
     },
     "execution_count": 33,
     "metadata": {},
     "output_type": "execute_result"
    }
   ],
   "source": [
    "collections.Counter(weather_df2[\"Asthma Risk\"])"
   ]
  },
  {
   "cell_type": "code",
   "execution_count": 34,
   "metadata": {},
   "outputs": [
    {
     "data": {
      "text/html": [
       "<div>\n",
       "<style scoped>\n",
       "    .dataframe tbody tr th:only-of-type {\n",
       "        vertical-align: middle;\n",
       "    }\n",
       "\n",
       "    .dataframe tbody tr th {\n",
       "        vertical-align: top;\n",
       "    }\n",
       "\n",
       "    .dataframe thead th {\n",
       "        text-align: right;\n",
       "    }\n",
       "</style>\n",
       "<table border=\"1\" class=\"dataframe\">\n",
       "  <thead>\n",
       "    <tr style=\"text-align: right;\">\n",
       "      <th></th>\n",
       "      <th>Maximum Temperature</th>\n",
       "      <th>Minimum Temperature</th>\n",
       "      <th>Temperature</th>\n",
       "      <th>Wind Chill</th>\n",
       "      <th>Precipitation</th>\n",
       "      <th>Snow</th>\n",
       "      <th>Snow Depth</th>\n",
       "      <th>Wind Speed</th>\n",
       "      <th>Wind Direction</th>\n",
       "      <th>Visibility</th>\n",
       "      <th>Cloud Cover</th>\n",
       "      <th>Relative Humidity</th>\n",
       "      <th>Asthma Risk</th>\n",
       "    </tr>\n",
       "  </thead>\n",
       "  <tbody>\n",
       "    <tr>\n",
       "      <th>0</th>\n",
       "      <td>30.4</td>\n",
       "      <td>18.7</td>\n",
       "      <td>24.7</td>\n",
       "      <td>4.1</td>\n",
       "      <td>0.0</td>\n",
       "      <td>0.0</td>\n",
       "      <td>17.28</td>\n",
       "      <td>27.5</td>\n",
       "      <td>295.00</td>\n",
       "      <td>9.9</td>\n",
       "      <td>37.6</td>\n",
       "      <td>50.14</td>\n",
       "      <td>High</td>\n",
       "    </tr>\n",
       "    <tr>\n",
       "      <th>1</th>\n",
       "      <td>38.7</td>\n",
       "      <td>19.3</td>\n",
       "      <td>29.6</td>\n",
       "      <td>10.0</td>\n",
       "      <td>0.0</td>\n",
       "      <td>0.0</td>\n",
       "      <td>15.23</td>\n",
       "      <td>18.7</td>\n",
       "      <td>290.58</td>\n",
       "      <td>9.9</td>\n",
       "      <td>29.6</td>\n",
       "      <td>45.90</td>\n",
       "      <td>Moderate</td>\n",
       "    </tr>\n",
       "    <tr>\n",
       "      <th>2</th>\n",
       "      <td>41.7</td>\n",
       "      <td>13.2</td>\n",
       "      <td>29.1</td>\n",
       "      <td>8.1</td>\n",
       "      <td>0.0</td>\n",
       "      <td>0.0</td>\n",
       "      <td>13.58</td>\n",
       "      <td>8.8</td>\n",
       "      <td>137.00</td>\n",
       "      <td>9.9</td>\n",
       "      <td>56.4</td>\n",
       "      <td>50.00</td>\n",
       "      <td>Low</td>\n",
       "    </tr>\n",
       "    <tr>\n",
       "      <th>3</th>\n",
       "      <td>43.7</td>\n",
       "      <td>31.5</td>\n",
       "      <td>36.3</td>\n",
       "      <td>24.8</td>\n",
       "      <td>0.0</td>\n",
       "      <td>0.0</td>\n",
       "      <td>12.00</td>\n",
       "      <td>15.4</td>\n",
       "      <td>84.63</td>\n",
       "      <td>9.9</td>\n",
       "      <td>45.8</td>\n",
       "      <td>46.27</td>\n",
       "      <td>Low</td>\n",
       "    </tr>\n",
       "    <tr>\n",
       "      <th>4</th>\n",
       "      <td>46.8</td>\n",
       "      <td>19.9</td>\n",
       "      <td>35.2</td>\n",
       "      <td>16.0</td>\n",
       "      <td>0.0</td>\n",
       "      <td>0.0</td>\n",
       "      <td>9.93</td>\n",
       "      <td>9.9</td>\n",
       "      <td>302.25</td>\n",
       "      <td>9.9</td>\n",
       "      <td>33.8</td>\n",
       "      <td>47.48</td>\n",
       "      <td>Low</td>\n",
       "    </tr>\n",
       "    <tr>\n",
       "      <th>...</th>\n",
       "      <td>...</td>\n",
       "      <td>...</td>\n",
       "      <td>...</td>\n",
       "      <td>...</td>\n",
       "      <td>...</td>\n",
       "      <td>...</td>\n",
       "      <td>...</td>\n",
       "      <td>...</td>\n",
       "      <td>...</td>\n",
       "      <td>...</td>\n",
       "      <td>...</td>\n",
       "      <td>...</td>\n",
       "      <td>...</td>\n",
       "    </tr>\n",
       "    <tr>\n",
       "      <th>1457</th>\n",
       "      <td>60.2</td>\n",
       "      <td>37.3</td>\n",
       "      <td>51.6</td>\n",
       "      <td>25.1</td>\n",
       "      <td>0.0</td>\n",
       "      <td>0.0</td>\n",
       "      <td>0.00</td>\n",
       "      <td>30.1</td>\n",
       "      <td>264.71</td>\n",
       "      <td>9.9</td>\n",
       "      <td>43.7</td>\n",
       "      <td>41.55</td>\n",
       "      <td>High</td>\n",
       "    </tr>\n",
       "    <tr>\n",
       "      <th>1458</th>\n",
       "      <td>38.0</td>\n",
       "      <td>24.2</td>\n",
       "      <td>30.4</td>\n",
       "      <td>10.1</td>\n",
       "      <td>0.0</td>\n",
       "      <td>0.0</td>\n",
       "      <td>0.00</td>\n",
       "      <td>30.3</td>\n",
       "      <td>287.50</td>\n",
       "      <td>9.9</td>\n",
       "      <td>33.4</td>\n",
       "      <td>43.33</td>\n",
       "      <td>High</td>\n",
       "    </tr>\n",
       "    <tr>\n",
       "      <th>1459</th>\n",
       "      <td>39.6</td>\n",
       "      <td>20.9</td>\n",
       "      <td>31.5</td>\n",
       "      <td>6.5</td>\n",
       "      <td>0.0</td>\n",
       "      <td>0.0</td>\n",
       "      <td>0.00</td>\n",
       "      <td>29.0</td>\n",
       "      <td>291.21</td>\n",
       "      <td>9.9</td>\n",
       "      <td>68.8</td>\n",
       "      <td>47.30</td>\n",
       "      <td>High</td>\n",
       "    </tr>\n",
       "    <tr>\n",
       "      <th>1460</th>\n",
       "      <td>28.8</td>\n",
       "      <td>11.9</td>\n",
       "      <td>20.2</td>\n",
       "      <td>-4.7</td>\n",
       "      <td>0.0</td>\n",
       "      <td>0.0</td>\n",
       "      <td>0.00</td>\n",
       "      <td>22.7</td>\n",
       "      <td>286.79</td>\n",
       "      <td>9.9</td>\n",
       "      <td>30.3</td>\n",
       "      <td>37.28</td>\n",
       "      <td>High</td>\n",
       "    </tr>\n",
       "    <tr>\n",
       "      <th>1461</th>\n",
       "      <td>31.0</td>\n",
       "      <td>12.8</td>\n",
       "      <td>19.9</td>\n",
       "      <td>9.5</td>\n",
       "      <td>0.0</td>\n",
       "      <td>0.0</td>\n",
       "      <td>0.00</td>\n",
       "      <td>10.0</td>\n",
       "      <td>122.20</td>\n",
       "      <td>9.9</td>\n",
       "      <td>66.7</td>\n",
       "      <td>48.02</td>\n",
       "      <td>Moderate</td>\n",
       "    </tr>\n",
       "  </tbody>\n",
       "</table>\n",
       "<p>887 rows × 13 columns</p>\n",
       "</div>"
      ],
      "text/plain": [
       "      Maximum Temperature  Minimum Temperature  Temperature  Wind Chill  \\\n",
       "0                    30.4                 18.7         24.7         4.1   \n",
       "1                    38.7                 19.3         29.6        10.0   \n",
       "2                    41.7                 13.2         29.1         8.1   \n",
       "3                    43.7                 31.5         36.3        24.8   \n",
       "4                    46.8                 19.9         35.2        16.0   \n",
       "...                   ...                  ...          ...         ...   \n",
       "1457                 60.2                 37.3         51.6        25.1   \n",
       "1458                 38.0                 24.2         30.4        10.1   \n",
       "1459                 39.6                 20.9         31.5         6.5   \n",
       "1460                 28.8                 11.9         20.2        -4.7   \n",
       "1461                 31.0                 12.8         19.9         9.5   \n",
       "\n",
       "      Precipitation  Snow  Snow Depth  Wind Speed  Wind Direction  Visibility  \\\n",
       "0               0.0   0.0       17.28        27.5          295.00         9.9   \n",
       "1               0.0   0.0       15.23        18.7          290.58         9.9   \n",
       "2               0.0   0.0       13.58         8.8          137.00         9.9   \n",
       "3               0.0   0.0       12.00        15.4           84.63         9.9   \n",
       "4               0.0   0.0        9.93         9.9          302.25         9.9   \n",
       "...             ...   ...         ...         ...             ...         ...   \n",
       "1457            0.0   0.0        0.00        30.1          264.71         9.9   \n",
       "1458            0.0   0.0        0.00        30.3          287.50         9.9   \n",
       "1459            0.0   0.0        0.00        29.0          291.21         9.9   \n",
       "1460            0.0   0.0        0.00        22.7          286.79         9.9   \n",
       "1461            0.0   0.0        0.00        10.0          122.20         9.9   \n",
       "\n",
       "      Cloud Cover  Relative Humidity Asthma Risk  \n",
       "0            37.6              50.14        High  \n",
       "1            29.6              45.90    Moderate  \n",
       "2            56.4              50.00         Low  \n",
       "3            45.8              46.27         Low  \n",
       "4            33.8              47.48         Low  \n",
       "...           ...                ...         ...  \n",
       "1457         43.7              41.55        High  \n",
       "1458         33.4              43.33        High  \n",
       "1459         68.8              47.30        High  \n",
       "1460         30.3              37.28        High  \n",
       "1461         66.7              48.02    Moderate  \n",
       "\n",
       "[887 rows x 13 columns]"
      ]
     },
     "execution_count": 34,
     "metadata": {},
     "output_type": "execute_result"
    }
   ],
   "source": [
    "weather_df2"
   ]
  },
  {
   "cell_type": "code",
   "execution_count": 35,
   "metadata": {},
   "outputs": [
    {
     "data": {
      "text/plain": [
       "2"
      ]
     },
     "execution_count": 35,
     "metadata": {},
     "output_type": "execute_result"
    }
   ],
   "source": [
    "\n",
    "label_encoding = preprocessing.LabelEncoder()\n",
    "weather_df2[\"Asthma Risk\"] = label_encoding.fit_transform(weather_df2[\"Asthma Risk\"].astype(str))\n",
    "weather_df2[\"Asthma Risk\"][14]"
   ]
  },
  {
   "cell_type": "code",
   "execution_count": 36,
   "metadata": {},
   "outputs": [
    {
     "data": {
      "text/plain": [
       "Index(['Maximum Temperature', 'Minimum Temperature', 'Temperature',\n",
       "       'Wind Chill', 'Precipitation', 'Snow', 'Snow Depth', 'Wind Speed',\n",
       "       'Wind Direction', 'Visibility', 'Cloud Cover', 'Relative Humidity'],\n",
       "      dtype='object')"
      ]
     },
     "execution_count": 36,
     "metadata": {},
     "output_type": "execute_result"
    }
   ],
   "source": [
    "X = weather_df2.drop(['Asthma Risk'], axis = 1)\n",
    "Y = weather_df2['Asthma Risk']\n",
    "X.columns"
   ]
  },
  {
   "cell_type": "code",
   "execution_count": 37,
   "metadata": {},
   "outputs": [
    {
     "name": "stdout",
     "output_type": "stream",
     "text": [
      "Mean Accuracy: 0.995 (0.010)\n"
     ]
    }
   ],
   "source": [
    "model1 = GradientBoostingClassifier(n_estimators=100)\n",
    "cv1 = RepeatedStratifiedKFold(n_splits=20, n_repeats=3, random_state=1)\n",
    "n_scores1 = cross_val_score(model1, X, Y, scoring='accuracy', cv=cv1, n_jobs=-1)\n",
    "print('Mean Accuracy: %.3f (%.3f)' % (mean(n_scores1), std(n_scores1)))"
   ]
  },
  {
   "cell_type": "code",
   "execution_count": 38,
   "metadata": {},
   "outputs": [],
   "source": [
    "\n",
    "x_train, x_test, y_train, y_test = train_test_split(X, Y, test_size=0.2)"
   ]
  },
  {
   "cell_type": "code",
   "execution_count": 39,
   "metadata": {},
   "outputs": [
    {
     "data": {
      "text/plain": [
       "((709, 12), (178, 12))"
      ]
     },
     "execution_count": 39,
     "metadata": {},
     "output_type": "execute_result"
    }
   ],
   "source": [
    "x_train.shape, x_test.shape"
   ]
  },
  {
   "cell_type": "code",
   "execution_count": 40,
   "metadata": {},
   "outputs": [],
   "source": [
    "\n",
    "logistic_model = LogisticRegression(solver='liblinear').fit(x_train, y_train)"
   ]
  },
  {
   "cell_type": "code",
   "execution_count": 41,
   "metadata": {},
   "outputs": [
    {
     "name": "stdout",
     "output_type": "stream",
     "text": [
      "Training score:  0.8222849083215797\n"
     ]
    }
   ],
   "source": [
    "print(\"Training score: \", logistic_model.score(x_train,y_train))"
   ]
  },
  {
   "cell_type": "code",
   "execution_count": 42,
   "metadata": {},
   "outputs": [],
   "source": [
    "y_pred = logistic_model.predict(x_test)"
   ]
  },
  {
   "cell_type": "code",
   "execution_count": 43,
   "metadata": {},
   "outputs": [
    {
     "name": "stdout",
     "output_type": "stream",
     "text": [
      "Testing score:  0.8258426966292135\n"
     ]
    }
   ],
   "source": [
    "\n",
    "print(\"Testing score: \", accuracy_score(y_test, y_pred))"
   ]
  },
  {
   "cell_type": "code",
   "execution_count": 44,
   "metadata": {},
   "outputs": [],
   "source": [
    "\n",
    "nb_model = GaussianNB().fit(x_train, y_train)\n",
    "y_pred_nb = nb_model.predict(x_test)\n"
   ]
  },
  {
   "cell_type": "code",
   "execution_count": 45,
   "metadata": {},
   "outputs": [
    {
     "name": "stdout",
     "output_type": "stream",
     "text": [
      "Testing score:  0.8146067415730337\n"
     ]
    }
   ],
   "source": [
    "print(\"Testing score: \", accuracy_score(y_test, y_pred_nb))"
   ]
  },
  {
   "cell_type": "code",
   "execution_count": 46,
   "metadata": {},
   "outputs": [
    {
     "name": "stdout",
     "output_type": "stream",
     "text": [
      "Training score:  0.8166431593794076\n"
     ]
    }
   ],
   "source": [
    "print(\"Training score: \", nb_model.score(x_train,y_train))"
   ]
  },
  {
   "cell_type": "code",
   "execution_count": 47,
   "metadata": {},
   "outputs": [],
   "source": [
    "\n",
    "dt_model = DecisionTreeClassifier().fit(x_train, y_train)\n",
    "y_pred_dt = dt_model.predict(x_test)"
   ]
  },
  {
   "cell_type": "code",
   "execution_count": 48,
   "metadata": {},
   "outputs": [
    {
     "name": "stdout",
     "output_type": "stream",
     "text": [
      "Training score:  1.0\n"
     ]
    }
   ],
   "source": [
    "print(\"Training score: \", dt_model.score(x_train,y_train))"
   ]
  },
  {
   "cell_type": "code",
   "execution_count": 49,
   "metadata": {},
   "outputs": [
    {
     "name": "stdout",
     "output_type": "stream",
     "text": [
      "Testing score:  0.9943820224719101\n"
     ]
    }
   ],
   "source": [
    "print(\"Testing score: \", accuracy_score(y_test, y_pred_dt))"
   ]
  },
  {
   "cell_type": "code",
   "execution_count": 50,
   "metadata": {},
   "outputs": [
    {
     "data": {
      "text/plain": [
       "SVC(C=1.0, cache_size=200, class_weight=None, coef0=0.0,\n",
       "  decision_function_shape='ovr', degree=3, gamma='auto', kernel='linear',\n",
       "  max_iter=-1, probability=False, random_state=None, shrinking=True,\n",
       "  tol=0.001, verbose=False)"
      ]
     },
     "execution_count": 50,
     "metadata": {},
     "output_type": "execute_result"
    }
   ],
   "source": [
    "\n",
    "svclassifier = SVC(kernel='linear')\n",
    "svclassifier.fit(x_train, y_train)"
   ]
  },
  {
   "cell_type": "code",
   "execution_count": 51,
   "metadata": {},
   "outputs": [],
   "source": [
    "y_pred_svc = svclassifier.predict(x_test)"
   ]
  },
  {
   "cell_type": "code",
   "execution_count": 52,
   "metadata": {},
   "outputs": [
    {
     "name": "stdout",
     "output_type": "stream",
     "text": [
      "[[37  0  2]\n",
      " [ 0 46 11]\n",
      " [ 3  7 72]]\n",
      "             precision    recall  f1-score   support\n",
      "\n",
      "          0       0.93      0.95      0.94        39\n",
      "          1       0.87      0.81      0.84        57\n",
      "          2       0.85      0.88      0.86        82\n",
      "\n",
      "avg / total       0.87      0.87      0.87       178\n",
      "\n"
     ]
    }
   ],
   "source": [
    "\n",
    "print(confusion_matrix(y_test,y_pred_svc))\n",
    "print(classification_report(y_test,y_pred_svc))"
   ]
  },
  {
   "cell_type": "code",
   "execution_count": 53,
   "metadata": {},
   "outputs": [
    {
     "data": {
      "text/plain": [
       "887"
      ]
     },
     "execution_count": 53,
     "metadata": {},
     "output_type": "execute_result"
    }
   ],
   "source": [
    "len(labels)"
   ]
  },
  {
   "cell_type": "code",
   "execution_count": 54,
   "metadata": {},
   "outputs": [],
   "source": [
    "weather_df['target'] = labels"
   ]
  },
  {
   "cell_type": "code",
   "execution_count": 55,
   "metadata": {},
   "outputs": [
    {
     "data": {
      "text/plain": [
       "Index(['Maximum Temperature', 'Minimum Temperature', 'Temperature',\n",
       "       'Wind Chill', 'Precipitation', 'Snow', 'Snow Depth', 'Wind Speed',\n",
       "       'Wind Direction', 'Visibility', 'Cloud Cover', 'Relative Humidity'],\n",
       "      dtype='object')"
      ]
     },
     "execution_count": 55,
     "metadata": {},
     "output_type": "execute_result"
    }
   ],
   "source": [
    "X1 = weather_df.drop(['target'], axis = 1)\n",
    "Y1 = weather_df['target']\n",
    "X1.columns"
   ]
  },
  {
   "cell_type": "code",
   "execution_count": 56,
   "metadata": {},
   "outputs": [
    {
     "data": {
      "text/plain": [
       "((709, 12), (178, 12))"
      ]
     },
     "execution_count": 56,
     "metadata": {},
     "output_type": "execute_result"
    }
   ],
   "source": [
    "X1_train, X1_test, Y1_train, Y1_test = train_test_split(X1, Y1, test_size=0.2)\n",
    "X1_train.shape, X1_test.shape"
   ]
  },
  {
   "cell_type": "code",
   "execution_count": 57,
   "metadata": {},
   "outputs": [],
   "source": [
    "logistic_model_target = LogisticRegression(solver='liblinear').fit(X1_train, Y1_train)\n",
    "Y1_pred = logistic_model_target.predict(X1_test)"
   ]
  },
  {
   "cell_type": "code",
   "execution_count": 58,
   "metadata": {},
   "outputs": [
    {
     "name": "stdout",
     "output_type": "stream",
     "text": [
      "Testing score:  0.9213483146067416\n"
     ]
    }
   ],
   "source": [
    "print(\"Testing score: \", accuracy_score(Y1_test, Y1_pred))"
   ]
  },
  {
   "cell_type": "code",
   "execution_count": 59,
   "metadata": {},
   "outputs": [
    {
     "name": "stdout",
     "output_type": "stream",
     "text": [
      "Training score:  0.919605077574048\n"
     ]
    }
   ],
   "source": [
    "print(\"Training score: \", logistic_model_target.score(X1_train, Y1_train))"
   ]
  },
  {
   "cell_type": "code",
   "execution_count": 60,
   "metadata": {},
   "outputs": [],
   "source": [
    "nb_model_target = GaussianNB().fit(X1_train, Y1_train)\n",
    "Y1_pred_nb = nb_model_target.predict(X1_test)"
   ]
  },
  {
   "cell_type": "code",
   "execution_count": 61,
   "metadata": {},
   "outputs": [
    {
     "name": "stdout",
     "output_type": "stream",
     "text": [
      "Testing score:  0.9269662921348315\n"
     ]
    }
   ],
   "source": [
    "print(\"Testing score: \", accuracy_score(Y1_test, Y1_pred_nb))"
   ]
  },
  {
   "cell_type": "code",
   "execution_count": 62,
   "metadata": {},
   "outputs": [
    {
     "name": "stdout",
     "output_type": "stream",
     "text": [
      "Training score:  0.8956276445698167\n"
     ]
    }
   ],
   "source": [
    "print(\"Training score: \", nb_model_target.score(X1_train, Y1_train))"
   ]
  },
  {
   "cell_type": "code",
   "execution_count": 63,
   "metadata": {},
   "outputs": [
    {
     "data": {
      "text/plain": [
       "SVC(C=1.0, cache_size=200, class_weight=None, coef0=0.0,\n",
       "  decision_function_shape='ovr', degree=3, gamma='auto', kernel='linear',\n",
       "  max_iter=-1, probability=False, random_state=None, shrinking=True,\n",
       "  tol=0.001, verbose=False)"
      ]
     },
     "execution_count": 63,
     "metadata": {},
     "output_type": "execute_result"
    }
   ],
   "source": [
    "svclassifier_target = SVC(kernel='linear')\n",
    "svclassifier_target.fit(X1_train, Y1_train)"
   ]
  },
  {
   "cell_type": "code",
   "execution_count": 64,
   "metadata": {},
   "outputs": [],
   "source": [
    "Y1_pred_svc = svclassifier_target.predict(X1_test)"
   ]
  },
  {
   "cell_type": "code",
   "execution_count": 65,
   "metadata": {},
   "outputs": [
    {
     "name": "stdout",
     "output_type": "stream",
     "text": [
      "[[44  0  0]\n",
      " [ 0 54  0]\n",
      " [ 0  0 80]]\n",
      "             precision    recall  f1-score   support\n",
      "\n",
      "          0       1.00      1.00      1.00        44\n",
      "          1       1.00      1.00      1.00        54\n",
      "          2       1.00      1.00      1.00        80\n",
      "\n",
      "avg / total       1.00      1.00      1.00       178\n",
      "\n"
     ]
    }
   ],
   "source": [
    "print(confusion_matrix(Y1_test,Y1_pred_svc))\n",
    "print(classification_report(Y1_test,Y1_pred_svc))"
   ]
  },
  {
   "cell_type": "code",
   "execution_count": 66,
   "metadata": {},
   "outputs": [
    {
     "data": {
      "text/plain": [
       "Counter({2: 352, 1: 247, 0: 288})"
      ]
     },
     "execution_count": 66,
     "metadata": {},
     "output_type": "execute_result"
    }
   ],
   "source": [
    "collections.Counter(labels)"
   ]
  },
  {
   "cell_type": "code",
   "execution_count": 67,
   "metadata": {},
   "outputs": [],
   "source": [
    "mlp_clf = MLPClassifier(hidden_layer_sizes=(100,),\n",
    "                        max_iter=1000,\n",
    "                        activation='logistic',\n",
    "                        alpha=0.001,\n",
    "                        solver='lbfgs',\n",
    "                        verbose=True)"
   ]
  },
  {
   "cell_type": "code",
   "execution_count": 68,
   "metadata": {},
   "outputs": [
    {
     "data": {
      "text/plain": [
       "MLPClassifier(activation='logistic', alpha=0.001, batch_size='auto',\n",
       "       beta_1=0.9, beta_2=0.999, early_stopping=False, epsilon=1e-08,\n",
       "       hidden_layer_sizes=(100,), learning_rate='constant',\n",
       "       learning_rate_init=0.001, max_iter=1000, momentum=0.9,\n",
       "       nesterovs_momentum=True, power_t=0.5, random_state=None,\n",
       "       shuffle=True, solver='lbfgs', tol=0.0001, validation_fraction=0.1,\n",
       "       verbose=True, warm_start=False)"
      ]
     },
     "execution_count": 68,
     "metadata": {},
     "output_type": "execute_result"
    }
   ],
   "source": [
    "mlp_clf.fit(x_train, y_train)"
   ]
  },
  {
   "cell_type": "code",
   "execution_count": 69,
   "metadata": {},
   "outputs": [],
   "source": [
    "y_pred_mlp = mlp_clf.predict(x_test)"
   ]
  },
  {
   "cell_type": "code",
   "execution_count": 70,
   "metadata": {},
   "outputs": [
    {
     "data": {
      "text/html": [
       "<div>\n",
       "<style scoped>\n",
       "    .dataframe tbody tr th:only-of-type {\n",
       "        vertical-align: middle;\n",
       "    }\n",
       "\n",
       "    .dataframe tbody tr th {\n",
       "        vertical-align: top;\n",
       "    }\n",
       "\n",
       "    .dataframe thead th {\n",
       "        text-align: right;\n",
       "    }\n",
       "</style>\n",
       "<table border=\"1\" class=\"dataframe\">\n",
       "  <thead>\n",
       "    <tr style=\"text-align: right;\">\n",
       "      <th></th>\n",
       "      <th>y_test</th>\n",
       "      <th>y_pred</th>\n",
       "    </tr>\n",
       "  </thead>\n",
       "  <tbody>\n",
       "    <tr>\n",
       "      <th>1094</th>\n",
       "      <td>0</td>\n",
       "      <td>0</td>\n",
       "    </tr>\n",
       "    <tr>\n",
       "      <th>1346</th>\n",
       "      <td>2</td>\n",
       "      <td>2</td>\n",
       "    </tr>\n",
       "    <tr>\n",
       "      <th>1424</th>\n",
       "      <td>2</td>\n",
       "      <td>2</td>\n",
       "    </tr>\n",
       "    <tr>\n",
       "      <th>979</th>\n",
       "      <td>1</td>\n",
       "      <td>1</td>\n",
       "    </tr>\n",
       "    <tr>\n",
       "      <th>642</th>\n",
       "      <td>2</td>\n",
       "      <td>0</td>\n",
       "    </tr>\n",
       "    <tr>\n",
       "      <th>723</th>\n",
       "      <td>1</td>\n",
       "      <td>2</td>\n",
       "    </tr>\n",
       "    <tr>\n",
       "      <th>275</th>\n",
       "      <td>2</td>\n",
       "      <td>2</td>\n",
       "    </tr>\n",
       "    <tr>\n",
       "      <th>392</th>\n",
       "      <td>2</td>\n",
       "      <td>2</td>\n",
       "    </tr>\n",
       "    <tr>\n",
       "      <th>1040</th>\n",
       "      <td>2</td>\n",
       "      <td>2</td>\n",
       "    </tr>\n",
       "    <tr>\n",
       "      <th>4</th>\n",
       "      <td>1</td>\n",
       "      <td>1</td>\n",
       "    </tr>\n",
       "  </tbody>\n",
       "</table>\n",
       "</div>"
      ],
      "text/plain": [
       "      y_test  y_pred\n",
       "1094       0       0\n",
       "1346       2       2\n",
       "1424       2       2\n",
       "979        1       1\n",
       "642        2       0\n",
       "723        1       2\n",
       "275        2       2\n",
       "392        2       2\n",
       "1040       2       2\n",
       "4          1       1"
      ]
     },
     "execution_count": 70,
     "metadata": {},
     "output_type": "execute_result"
    }
   ],
   "source": [
    "pred_results = pd.DataFrame({'y_test': y_test,\n",
    "                             'y_pred': y_pred_mlp})\n",
    "pred_results.sample(10)"
   ]
  },
  {
   "cell_type": "code",
   "execution_count": 71,
   "metadata": {},
   "outputs": [
    {
     "data": {
      "text/plain": [
       "0.8820224719101124"
      ]
     },
     "execution_count": 71,
     "metadata": {},
     "output_type": "execute_result"
    }
   ],
   "source": [
    "accuracy_score(y_test, y_pred_mlp)"
   ]
  },
  {
   "cell_type": "code",
   "execution_count": 72,
   "metadata": {},
   "outputs": [
    {
     "data": {
      "text/html": [
       "<div>\n",
       "<style scoped>\n",
       "    .dataframe tbody tr th:only-of-type {\n",
       "        vertical-align: middle;\n",
       "    }\n",
       "\n",
       "    .dataframe tbody tr th {\n",
       "        vertical-align: top;\n",
       "    }\n",
       "\n",
       "    .dataframe thead th {\n",
       "        text-align: right;\n",
       "    }\n",
       "</style>\n",
       "<table border=\"1\" class=\"dataframe\">\n",
       "  <thead>\n",
       "    <tr style=\"text-align: right;\">\n",
       "      <th>y_pred</th>\n",
       "      <th>0</th>\n",
       "      <th>1</th>\n",
       "      <th>2</th>\n",
       "    </tr>\n",
       "    <tr>\n",
       "      <th>y_test</th>\n",
       "      <th></th>\n",
       "      <th></th>\n",
       "      <th></th>\n",
       "    </tr>\n",
       "  </thead>\n",
       "  <tbody>\n",
       "    <tr>\n",
       "      <th>0</th>\n",
       "      <td>36</td>\n",
       "      <td>0</td>\n",
       "      <td>3</td>\n",
       "    </tr>\n",
       "    <tr>\n",
       "      <th>1</th>\n",
       "      <td>0</td>\n",
       "      <td>47</td>\n",
       "      <td>10</td>\n",
       "    </tr>\n",
       "    <tr>\n",
       "      <th>2</th>\n",
       "      <td>5</td>\n",
       "      <td>3</td>\n",
       "      <td>74</td>\n",
       "    </tr>\n",
       "  </tbody>\n",
       "</table>\n",
       "</div>"
      ],
      "text/plain": [
       "y_pred   0   1   2\n",
       "y_test            \n",
       "0       36   0   3\n",
       "1        0  47  10\n",
       "2        5   3  74"
      ]
     },
     "execution_count": 72,
     "metadata": {},
     "output_type": "execute_result"
    }
   ],
   "source": [
    "asthma_risk_crosstab = pd.crosstab(pred_results.y_test, pred_results.y_pred)\n",
    "asthma_risk_crosstab"
   ]
  },
  {
   "cell_type": "code",
   "execution_count": 81,
   "metadata": {},
   "outputs": [
    {
     "name": "stdout",
     "output_type": "stream",
     "text": [
      "\n",
      " True Positive :  74\n",
      "\n",
      " False Negative :  3\n",
      "\n",
      " False Positive :  10\n",
      "\n",
      " True Negative :  47\n"
     ]
    }
   ],
   "source": [
    "True_pos = asthma_risk_crosstab[2][2]\n",
    "False_neg = asthma_risk_crosstab[1][2]\n",
    "False_pos = asthma_risk_crosstab[2][1]\n",
    "True_neg = asthma_risk_crosstab[1][1]\n",
    "\n",
    "print(\"\\n True Positive : \",True_pos)\n",
    "print(\"\\n False Negative : \",False_neg)\n",
    "print(\"\\n False Positive : \",False_pos)\n",
    "print(\"\\n True Negative : \" ,True_neg)"
   ]
  },
  {
   "cell_type": "code",
   "execution_count": 82,
   "metadata": {},
   "outputs": [
    {
     "name": "stdout",
     "output_type": "stream",
     "text": [
      "\n",
      " Accuracy:  0.9029850746268657\n",
      "\n",
      " Error Rate :  0.09701492537313433\n",
      "\n",
      " TPR :  0.961038961038961\n",
      "\n",
      " FPR :  0.17543859649122806\n",
      "\n",
      " precision :  0.961038961038961\n",
      "\n",
      " recall :  0.8809523809523809\n"
     ]
    }
   ],
   "source": [
    "accuracy =  (True_pos + True_neg)/(True_pos + True_neg + False_pos + False_neg)\n",
    "error_rate = (False_pos + False_neg)/(True_pos + True_neg + False_pos + False_neg)\n",
    "precision = True_pos/(True_pos+False_neg) \n",
    "recall = True_pos/(True_pos+False_pos)\n",
    "TPR = True_pos/(True_pos+ False_neg)\n",
    "FPR = False_pos/(True_neg+False_pos)\n",
    "\n",
    "\n",
    "print(\"\\n Accuracy: \" ,accuracy)\n",
    "print(\"\\n Error Rate : \" ,error_rate)\n",
    "print(\"\\n TPR : \" ,TPR)\n",
    "print(\"\\n FPR : \" ,FPR)\n",
    "print(\"\\n precision : \" ,precision)\n",
    "print(\"\\n recall : \" ,recall)"
   ]
  },
  {
   "cell_type": "code",
   "execution_count": 83,
   "metadata": {},
   "outputs": [
    {
     "name": "stdout",
     "output_type": "stream",
     "text": [
      "0.8928001822738665\n"
     ]
    }
   ],
   "source": [
    "x00, y00 = 0, 0\n",
    "x11, y11 = FPR, TPR\n",
    "x22, y22 = 1, 1\n",
    "\n",
    "AUC1 = ((x11 - x00) * (y11 + y00)) / 2 \n",
    "AUC2 = ((x22 - x11) * (y22 + y11)) / 2 \n",
    "ROC_AUC  = AUC1 + AUC2\n",
    "print(ROC_AUC)"
   ]
  },
  {
   "cell_type": "code",
   "execution_count": 84,
   "metadata": {},
   "outputs": [
    {
     "data": {
      "image/png": "[encoded data removed]",
      "text/plain": [
       "<Figure size 864x576 with 1 Axes>"
      ]
     },
     "metadata": {},
     "output_type": "display_data"
    }
   ],
   "source": [
    "plt.figure(figsize=(12,8))\n",
    "plt.plot([0, FPR, 1], [0, TPR, 1], 'r', label = 'AUC = %.5f' %ROC_AUC)\n",
    "plt.legend(loc = 'lower center')\n",
    "plt.plot([0, 1], [0, 1],'b--')\n",
    "plt.xlim([0, 1])\n",
    "plt.ylim([0, 1])\n",
    "plt.ylabel('True Positive Rate')\n",
    "plt.xlabel('False Positive Rate')\n",
    "plt.show()"
   ]
  },
  {
   "cell_type": "code",
   "execution_count": 75,
   "metadata": {},
   "outputs": [
    {
     "data": {
      "text/plain": [
       "MLPClassifier(activation='logistic', alpha=0.001, batch_size='auto',\n",
       "       beta_1=0.9, beta_2=0.999, early_stopping=False, epsilon=1e-08,\n",
       "       hidden_layer_sizes=(100,), learning_rate='constant',\n",
       "       learning_rate_init=0.001, max_iter=1000, momentum=0.9,\n",
       "       nesterovs_momentum=True, power_t=0.5, random_state=None,\n",
       "       shuffle=True, solver='lbfgs', tol=0.0001, validation_fraction=0.1,\n",
       "       verbose=True, warm_start=False)"
      ]
     },
     "execution_count": 75,
     "metadata": {},
     "output_type": "execute_result"
    }
   ],
   "source": [
    "mlp_clf.fit(X1_train, Y1_train)"
   ]
  },
  {
   "cell_type": "code",
   "execution_count": 76,
   "metadata": {},
   "outputs": [],
   "source": [
    "y_pred_target_mlp = mlp_clf.predict(X1_test)"
   ]
  },
  {
   "cell_type": "code",
   "execution_count": 77,
   "metadata": {},
   "outputs": [
    {
     "data": {
      "text/html": [
       "<div>\n",
       "<style scoped>\n",
       "    .dataframe tbody tr th:only-of-type {\n",
       "        vertical-align: middle;\n",
       "    }\n",
       "\n",
       "    .dataframe tbody tr th {\n",
       "        vertical-align: top;\n",
       "    }\n",
       "\n",
       "    .dataframe thead th {\n",
       "        text-align: right;\n",
       "    }\n",
       "</style>\n",
       "<table border=\"1\" class=\"dataframe\">\n",
       "  <thead>\n",
       "    <tr style=\"text-align: right;\">\n",
       "      <th></th>\n",
       "      <th>y_test</th>\n",
       "      <th>y_pred</th>\n",
       "    </tr>\n",
       "  </thead>\n",
       "  <tbody>\n",
       "    <tr>\n",
       "      <th>329</th>\n",
       "      <td>2</td>\n",
       "      <td>2</td>\n",
       "    </tr>\n",
       "    <tr>\n",
       "      <th>1457</th>\n",
       "      <td>2</td>\n",
       "      <td>2</td>\n",
       "    </tr>\n",
       "    <tr>\n",
       "      <th>784</th>\n",
       "      <td>1</td>\n",
       "      <td>1</td>\n",
       "    </tr>\n",
       "    <tr>\n",
       "      <th>401</th>\n",
       "      <td>2</td>\n",
       "      <td>2</td>\n",
       "    </tr>\n",
       "    <tr>\n",
       "      <th>1364</th>\n",
       "      <td>0</td>\n",
       "      <td>0</td>\n",
       "    </tr>\n",
       "    <tr>\n",
       "      <th>253</th>\n",
       "      <td>1</td>\n",
       "      <td>0</td>\n",
       "    </tr>\n",
       "    <tr>\n",
       "      <th>336</th>\n",
       "      <td>0</td>\n",
       "      <td>0</td>\n",
       "    </tr>\n",
       "    <tr>\n",
       "      <th>967</th>\n",
       "      <td>2</td>\n",
       "      <td>2</td>\n",
       "    </tr>\n",
       "    <tr>\n",
       "      <th>1330</th>\n",
       "      <td>1</td>\n",
       "      <td>1</td>\n",
       "    </tr>\n",
       "    <tr>\n",
       "      <th>273</th>\n",
       "      <td>2</td>\n",
       "      <td>2</td>\n",
       "    </tr>\n",
       "  </tbody>\n",
       "</table>\n",
       "</div>"
      ],
      "text/plain": [
       "      y_test  y_pred\n",
       "329        2       2\n",
       "1457       2       2\n",
       "784        1       1\n",
       "401        2       2\n",
       "1364       0       0\n",
       "253        1       0\n",
       "336        0       0\n",
       "967        2       2\n",
       "1330       1       1\n",
       "273        2       2"
      ]
     },
     "execution_count": 77,
     "metadata": {},
     "output_type": "execute_result"
    }
   ],
   "source": [
    "pred_results_target = pd.DataFrame({'y_test': Y1_test,\n",
    "                             'y_pred': y_pred_target_mlp})\n",
    "pred_results_target.sample(10)"
   ]
  },
  {
   "cell_type": "code",
   "execution_count": 86,
   "metadata": {},
   "outputs": [
    {
     "data": {
      "text/html": [
       "<div>\n",
       "<style scoped>\n",
       "    .dataframe tbody tr th:only-of-type {\n",
       "        vertical-align: middle;\n",
       "    }\n",
       "\n",
       "    .dataframe tbody tr th {\n",
       "        vertical-align: top;\n",
       "    }\n",
       "\n",
       "    .dataframe thead th {\n",
       "        text-align: right;\n",
       "    }\n",
       "</style>\n",
       "<table border=\"1\" class=\"dataframe\">\n",
       "  <thead>\n",
       "    <tr style=\"text-align: right;\">\n",
       "      <th>y_pred</th>\n",
       "      <th>0</th>\n",
       "      <th>1</th>\n",
       "      <th>2</th>\n",
       "    </tr>\n",
       "    <tr>\n",
       "      <th>y_test</th>\n",
       "      <th></th>\n",
       "      <th></th>\n",
       "      <th></th>\n",
       "    </tr>\n",
       "  </thead>\n",
       "  <tbody>\n",
       "    <tr>\n",
       "      <th>0</th>\n",
       "      <td>43</td>\n",
       "      <td>0</td>\n",
       "      <td>1</td>\n",
       "    </tr>\n",
       "    <tr>\n",
       "      <th>1</th>\n",
       "      <td>4</td>\n",
       "      <td>50</td>\n",
       "      <td>0</td>\n",
       "    </tr>\n",
       "    <tr>\n",
       "      <th>2</th>\n",
       "      <td>2</td>\n",
       "      <td>0</td>\n",
       "      <td>78</td>\n",
       "    </tr>\n",
       "  </tbody>\n",
       "</table>\n",
       "</div>"
      ],
      "text/plain": [
       "y_pred   0   1   2\n",
       "y_test            \n",
       "0       43   0   1\n",
       "1        4  50   0\n",
       "2        2   0  78"
      ]
     },
     "execution_count": 86,
     "metadata": {},
     "output_type": "execute_result"
    }
   ],
   "source": [
    "asthma_risk_crosstab_target = pd.crosstab(pred_results_target.y_test, pred_results_target.y_pred)\n",
    "asthma_risk_crosstab_target"
   ]
  },
  {
   "cell_type": "code",
   "execution_count": 87,
   "metadata": {},
   "outputs": [
    {
     "name": "stdout",
     "output_type": "stream",
     "text": [
      "\n",
      " True Positive :  78\n",
      "\n",
      " False Negative :  2\n",
      "\n",
      " False Positive :  1\n",
      "\n",
      " True Negative :  43\n"
     ]
    }
   ],
   "source": [
    "True_pos_target = asthma_risk_crosstab_target[2][2]\n",
    "False_neg_target = asthma_risk_crosstab_target[0][2]\n",
    "False_pos_target = asthma_risk_crosstab_target[2][0]\n",
    "True_neg_target = asthma_risk_crosstab_target[0][0]\n",
    "\n",
    "print(\"\\n True Positive : \",True_pos_target)\n",
    "print(\"\\n False Negative : \",False_neg_target)\n",
    "print(\"\\n False Positive : \",False_pos_target)\n",
    "print(\"\\n True Negative : \" ,True_neg_target)"
   ]
  },
  {
   "cell_type": "code",
   "execution_count": 89,
   "metadata": {},
   "outputs": [
    {
     "name": "stdout",
     "output_type": "stream",
     "text": [
      "0.9761363636363637\n"
     ]
    }
   ],
   "source": [
    "x00_target, y00_target = 0, 0\n",
    "x11_target, y11_target = FPR_target, TPR_target\n",
    "x22_target, y22_target = 1, 1\n",
    "\n",
    "AUC1_target = ((x11_target - x00_target) * (y11_target + y00_target)) / 2 \n",
    "AUC2_target = ((x22_target - x11_target) * (y22_target + y11_target)) / 2 \n",
    "ROC_AUC_target  = AUC1_target + AUC2_target\n",
    "print(ROC_AUC_target)"
   ]
  },
  {
   "cell_type": "code",
   "execution_count": 91,
   "metadata": {},
   "outputs": [
    {
     "data": {
      "image/png": "[encoded data removed]",
      "text/plain": [
       "<Figure size 864x576 with 1 Axes>"
      ]
     },
     "metadata": {},
     "output_type": "display_data"
    }
   ],
   "source": [
    "plt.figure(figsize=(12,8))\n",
    "plt.plot([0, FPR_target, 1], [0, TPR_target, 1], 'r', label = 'AUC = %.5f' %ROC_AUC_target)\n",
    "plt.legend(loc = 'lower center')\n",
    "plt.plot([0, 1], [0, 1],'b--')\n",
    "plt.xlim([0, 1])\n",
    "plt.ylim([0, 1])\n",
    "plt.ylabel('True Positive Rate')\n",
    "plt.xlabel('False Positive Rate')\n",
    "plt.show()"
   ]
  },
  {
   "cell_type": "code",
   "execution_count": 88,
   "metadata": {},
   "outputs": [
    {
     "name": "stdout",
     "output_type": "stream",
     "text": [
      "\n",
      " Accuracy:  0.9758064516129032\n",
      "\n",
      " Error Rate :  0.024193548387096774\n",
      "\n",
      " TPR :  0.975\n",
      "\n",
      " FPR :  0.022727272727272728\n",
      "\n",
      " precision :  0.975\n",
      "\n",
      " recall :  0.9873417721518988\n"
     ]
    }
   ],
   "source": [
    "accuracy_target =  (True_pos_target + True_neg_target)/(True_pos_target + True_neg_target + False_pos_target + False_neg_target)\n",
    "error_rate_target = (False_pos_target + False_neg_target)/(True_pos_target + True_neg_target + False_pos_target + False_neg_target)\n",
    "precision_target = True_pos_target/(True_pos_target+False_neg_target) \n",
    "recall_target = True_pos_target/(True_pos_target+False_pos_target)\n",
    "TPR_target = True_pos_target/(True_pos_target+ False_neg_target)\n",
    "FPR_target = False_pos_target/(True_neg_target+False_pos_target)\n",
    "\n",
    "\n",
    "print(\"\\n Accuracy: \" ,accuracy_target)\n",
    "print(\"\\n Error Rate : \" ,error_rate_target)\n",
    "print(\"\\n TPR : \" ,TPR_target)\n",
    "print(\"\\n FPR : \" ,FPR_target)\n",
    "print(\"\\n precision : \" ,precision_target)\n",
    "print(\"\\n recall : \" ,recall_target)"
   ]
  },
  {
   "cell_type": "code",
   "execution_count": 78,
   "metadata": {},
   "outputs": [
    {
     "data": {
      "text/plain": [
       "0.9606741573033708"
      ]
     },
     "execution_count": 78,
     "metadata": {},
     "output_type": "execute_result"
    }
   ],
   "source": [
    "accuracy_score(Y1_test, y_pred_target_mlp)"
   ]
  },
  {
   "cell_type": "code",
   "execution_count": 79,
   "metadata": {},
   "outputs": [
    {
     "data": {
      "image/png": "[encoded data removed]",
      "text/plain": [
       "<Figure size 432x288 with 4 Axes>"
      ]
     },
     "metadata": {},
     "output_type": "display_data"
    }
   ],
   "source": [
    "fig, axs = plt.subplots(2, 2)\n",
    "fig.suptitle(\"Comparison of labels predicted by various algorithms and actual labels got from KMeans Classifier\")\n",
    "axs[0, 0].scatter(X1_test[\"Wind Direction\"], y_pred_target_mlp, c=\"b\")\n",
    "axs[0, 0].scatter(X1_test[\"Wind Direction\"],Y1_test,c=\"y\")\n",
    "axs[0, 0].set_title('MLPNN Accuracy:%.4f'%accuracy_score(Y1_test, y_pred_target_mlp))\n",
    "axs[0, 1].scatter(X1_test[\"Wind Direction\"], Y1_pred_nb, c=\"b\")\n",
    "axs[0, 1].scatter(X1_test[\"Wind Direction\"],Y1_test,c=\"y\")\n",
    "axs[0, 1].set_title('NB Accuracy:%.4f'%accuracy_score(Y1_test, Y1_pred_nb))\n",
    "axs[1, 0].scatter(X1_test[\"Wind Direction\"], Y1_pred_svc, c=\"b\")\n",
    "axs[1, 0].scatter(X1_test[\"Wind Direction\"],Y1_test,c=\"y\")\n",
    "axs[1, 0].set_title('SVC Accuracy:%.4f'%accuracy_score(Y1_test, Y1_pred_svc))\n",
    "axs[1, 1].scatter(X1_test[\"Wind Direction\"], Y1_pred, c=\"b\")\n",
    "axs[1, 1].scatter(X1_test[\"Wind Direction\"],Y1_test,c=\"y\")\n",
    "axs[1, 1].set_title('LR Accuracy:%.4f'%accuracy_score(Y1_test, Y1_pred))\n",
    "\n",
    "for ax in axs.flat:\n",
    "    ax.set(xlabel='Wind direction', ylabel='Risk level')\n",
    "\n",
    "\n",
    "for ax in axs.flat:\n",
    "    ax.label_outer()"
   ]
  },
  {
   "cell_type": "code",
   "execution_count": 80,
   "metadata": {},
   "outputs": [
    {
     "data": {
      "image/png": "[encoded data removed]",
      "text/plain": [
       "<Figure size 432x288 with 4 Axes>"
      ]
     },
     "metadata": {},
     "output_type": "display_data"
    }
   ],
   "source": [
    "fig1, axs1 = plt.subplots(2, 2)\n",
    "fig1.suptitle(\"Comparison of labels predicted by various algorithms and actual labels got by self-coded algorithm\")\n",
    "axs1[0, 0].scatter(x_test['Wind Direction'], y_pred_mlp, c=\"r\")\n",
    "axs1[0, 0].scatter(x_test['Wind Direction'], y_test,c=\"g\")\n",
    "axs1[0, 0].set_title('MLPNN Accuracy:%.4f'%accuracy_score(y_test, y_pred_mlp))\n",
    "axs1[0, 1].scatter(x_test['Wind Direction'], y_pred_nb, c=\"r\")\n",
    "axs1[0, 1].scatter(x_test['Wind Direction'], y_test,c=\"g\")\n",
    "axs1[0, 1].set_title('NB Accuracy:%.4f'%accuracy_score(y_test, y_pred_nb))\n",
    "axs1[1, 0].scatter(x_test['Wind Direction'], y_pred_svc, c=\"r\")\n",
    "axs1[1, 0].scatter(x_test['Wind Direction'], y_test,c=\"g\")\n",
    "axs1[1, 0].set_title('SVC Accuracy:%.4f'%accuracy_score(y_test, y_pred_svc))\n",
    "axs1[1, 1].scatter(x_test['Wind Direction'], y_pred, c=\"r\")\n",
    "axs1[1, 1].scatter(x_test[\"Wind Direction\"],y_test,c=\"g\")\n",
    "axs1[1, 1].set_title('LR Accuracy:%.4f'%accuracy_score(y_test, y_pred))\n",
    "\n",
    "for ax1 in axs1.flat:\n",
    "    ax1.set(xlabel='Wind-Direction', ylabel='Risk levels')\n",
    "\n",
    "for ax1 in axs1.flat:\n",
    "    ax1.label_outer()"
   ]
  },
  {
   "cell_type": "code",
   "execution_count": null,
   "metadata": {},
   "outputs": [],
   "source": []
  }
 ],
 "metadata": {
  "kernelspec": {
   "display_name": "Python 3",
   "language": "python",
   "name": "python3"
  },
  "language_info": {
   "codemirror_mode": {
    "name": "ipython",
    "version": 3
   },
   "file_extension": ".py",
   "mimetype": "text/x-python",
   "name": "python",
   "nbconvert_exporter": "python",
   "pygments_lexer": "ipython3",
   "version": "3.6.9"
  }
 },
 "nbformat": 4,
 "nbformat_minor": 2
}
