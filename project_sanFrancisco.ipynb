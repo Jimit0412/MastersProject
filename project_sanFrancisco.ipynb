{
 "cells": [
  {
   "cell_type": "code",
   "execution_count": 1,
   "metadata": {},
   "outputs": [],
   "source": [
    "import sklearn\n",
    "import pandas as pd\n",
    "import matplotlib.pyplot as plt\n",
    "import seaborn as sns\n",
    "from sklearn.cluster import KMeans\n",
    "from mpl_toolkits import mplot3d\n",
    "import numpy as np\n",
    "from sklearn.manifold import TSNE\n",
    "from sklearn.model_selection import train_test_split\n",
    "from sklearn.ensemble import RandomForestClassifier\n",
    "from numpy import mean\n",
    "from numpy import std\n",
    "from sklearn.model_selection import cross_val_score\n",
    "from sklearn.model_selection import RepeatedStratifiedKFold\n",
    "from sklearn.ensemble import GradientBoostingClassifier\n",
    "import collections\n",
    "from sklearn import preprocessing\n",
    "from sklearn.linear_model import LogisticRegression\n",
    "from sklearn.metrics import accuracy_score\n",
    "from sklearn.naive_bayes import GaussianNB\n",
    "from sklearn.tree import DecisionTreeClassifier\n",
    "from sklearn.svm import SVC\n",
    "from sklearn.metrics import classification_report, confusion_matrix\n",
    "from sklearn.neural_network import MLPClassifier"
   ]
  },
  {
   "cell_type": "code",
   "execution_count": 2,
   "metadata": {},
   "outputs": [
    {
     "data": {
      "text/html": [
       "<div>\n",
       "<style scoped>\n",
       "    .dataframe tbody tr th:only-of-type {\n",
       "        vertical-align: middle;\n",
       "    }\n",
       "\n",
       "    .dataframe tbody tr th {\n",
       "        vertical-align: top;\n",
       "    }\n",
       "\n",
       "    .dataframe thead th {\n",
       "        text-align: right;\n",
       "    }\n",
       "</style>\n",
       "<table border=\"1\" class=\"dataframe\">\n",
       "  <thead>\n",
       "    <tr style=\"text-align: right;\">\n",
       "      <th></th>\n",
       "      <th>Name</th>\n",
       "      <th>Date time</th>\n",
       "      <th>Maximum Temperature</th>\n",
       "      <th>Minimum Temperature</th>\n",
       "      <th>Temperature</th>\n",
       "      <th>Wind Chill</th>\n",
       "      <th>Heat Index</th>\n",
       "      <th>Precipitation</th>\n",
       "      <th>Snow</th>\n",
       "      <th>Snow Depth</th>\n",
       "      <th>Wind Speed</th>\n",
       "      <th>Wind Direction</th>\n",
       "      <th>Wind Gust</th>\n",
       "      <th>Visibility</th>\n",
       "      <th>Cloud Cover</th>\n",
       "      <th>Relative Humidity</th>\n",
       "      <th>Conditions</th>\n",
       "    </tr>\n",
       "  </thead>\n",
       "  <tbody>\n",
       "    <tr>\n",
       "      <th>0</th>\n",
       "      <td>San Francisco, CA, United States</td>\n",
       "      <td>03/16/2017</td>\n",
       "      <td>64.8</td>\n",
       "      <td>55.2</td>\n",
       "      <td>59.2</td>\n",
       "      <td>NaN</td>\n",
       "      <td>NaN</td>\n",
       "      <td>0.00</td>\n",
       "      <td>0</td>\n",
       "      <td>0</td>\n",
       "      <td>18.9</td>\n",
       "      <td>258.29</td>\n",
       "      <td>29.8</td>\n",
       "      <td>8.9</td>\n",
       "      <td>62.6</td>\n",
       "      <td>79.83</td>\n",
       "      <td>Partially cloudy</td>\n",
       "    </tr>\n",
       "    <tr>\n",
       "      <th>1</th>\n",
       "      <td>San Francisco, CA, United States</td>\n",
       "      <td>03/17/2017</td>\n",
       "      <td>71.5</td>\n",
       "      <td>49.5</td>\n",
       "      <td>59.0</td>\n",
       "      <td>48.5</td>\n",
       "      <td>NaN</td>\n",
       "      <td>0.00</td>\n",
       "      <td>0</td>\n",
       "      <td>0</td>\n",
       "      <td>13.2</td>\n",
       "      <td>237.50</td>\n",
       "      <td>NaN</td>\n",
       "      <td>9.9</td>\n",
       "      <td>25.4</td>\n",
       "      <td>65.41</td>\n",
       "      <td>Partially cloudy</td>\n",
       "    </tr>\n",
       "    <tr>\n",
       "      <th>2</th>\n",
       "      <td>San Francisco, CA, United States</td>\n",
       "      <td>03/18/2017</td>\n",
       "      <td>68.0</td>\n",
       "      <td>55.0</td>\n",
       "      <td>59.5</td>\n",
       "      <td>NaN</td>\n",
       "      <td>NaN</td>\n",
       "      <td>0.00</td>\n",
       "      <td>0</td>\n",
       "      <td>0</td>\n",
       "      <td>13.2</td>\n",
       "      <td>241.58</td>\n",
       "      <td>NaN</td>\n",
       "      <td>9.9</td>\n",
       "      <td>41.8</td>\n",
       "      <td>58.85</td>\n",
       "      <td>Partially cloudy</td>\n",
       "    </tr>\n",
       "    <tr>\n",
       "      <th>3</th>\n",
       "      <td>San Francisco, CA, United States</td>\n",
       "      <td>03/19/2017</td>\n",
       "      <td>63.0</td>\n",
       "      <td>55.0</td>\n",
       "      <td>58.1</td>\n",
       "      <td>NaN</td>\n",
       "      <td>NaN</td>\n",
       "      <td>0.00</td>\n",
       "      <td>0</td>\n",
       "      <td>0</td>\n",
       "      <td>13.5</td>\n",
       "      <td>208.88</td>\n",
       "      <td>NaN</td>\n",
       "      <td>9.4</td>\n",
       "      <td>61.1</td>\n",
       "      <td>81.31</td>\n",
       "      <td>Partially cloudy</td>\n",
       "    </tr>\n",
       "    <tr>\n",
       "      <th>4</th>\n",
       "      <td>San Francisco, CA, United States</td>\n",
       "      <td>03/20/2017</td>\n",
       "      <td>62.8</td>\n",
       "      <td>55.7</td>\n",
       "      <td>58.9</td>\n",
       "      <td>NaN</td>\n",
       "      <td>NaN</td>\n",
       "      <td>0.26</td>\n",
       "      <td>0</td>\n",
       "      <td>0</td>\n",
       "      <td>16.4</td>\n",
       "      <td>169.92</td>\n",
       "      <td>26.4</td>\n",
       "      <td>9.3</td>\n",
       "      <td>67.6</td>\n",
       "      <td>74.83</td>\n",
       "      <td>Rain, Partially cloudy</td>\n",
       "    </tr>\n",
       "  </tbody>\n",
       "</table>\n",
       "</div>"
      ],
      "text/plain": [
       "                               Name   Date time  Maximum Temperature  \\\n",
       "0  San Francisco, CA, United States  03/16/2017                 64.8   \n",
       "1  San Francisco, CA, United States  03/17/2017                 71.5   \n",
       "2  San Francisco, CA, United States  03/18/2017                 68.0   \n",
       "3  San Francisco, CA, United States  03/19/2017                 63.0   \n",
       "4  San Francisco, CA, United States  03/20/2017                 62.8   \n",
       "\n",
       "   Minimum Temperature  Temperature  Wind Chill  Heat Index  Precipitation  \\\n",
       "0                 55.2         59.2         NaN         NaN           0.00   \n",
       "1                 49.5         59.0        48.5         NaN           0.00   \n",
       "2                 55.0         59.5         NaN         NaN           0.00   \n",
       "3                 55.0         58.1         NaN         NaN           0.00   \n",
       "4                 55.7         58.9         NaN         NaN           0.26   \n",
       "\n",
       "   Snow  Snow Depth  Wind Speed  Wind Direction  Wind Gust  Visibility  \\\n",
       "0     0           0        18.9          258.29       29.8         8.9   \n",
       "1     0           0        13.2          237.50        NaN         9.9   \n",
       "2     0           0        13.2          241.58        NaN         9.9   \n",
       "3     0           0        13.5          208.88        NaN         9.4   \n",
       "4     0           0        16.4          169.92       26.4         9.3   \n",
       "\n",
       "   Cloud Cover  Relative Humidity              Conditions  \n",
       "0         62.6              79.83        Partially cloudy  \n",
       "1         25.4              65.41        Partially cloudy  \n",
       "2         41.8              58.85        Partially cloudy  \n",
       "3         61.1              81.31        Partially cloudy  \n",
       "4         67.6              74.83  Rain, Partially cloudy  "
      ]
     },
     "execution_count": 2,
     "metadata": {},
     "output_type": "execute_result"
    }
   ],
   "source": [
    "weather_df = pd.read_csv('/home/jimit/MastersProject/weather_sanFrancisco.csv')\n",
    "weather_df.head(5)"
   ]
  },
  {
   "cell_type": "code",
   "execution_count": 3,
   "metadata": {},
   "outputs": [
    {
     "data": {
      "text/plain": [
       "(1462, 17)"
      ]
     },
     "execution_count": 3,
     "metadata": {},
     "output_type": "execute_result"
    }
   ],
   "source": [
    "weather_df.shape"
   ]
  },
  {
   "cell_type": "code",
   "execution_count": 4,
   "metadata": {},
   "outputs": [],
   "source": [
    "weather_df.drop(['Heat Index', 'Conditions','Wind Gust', 'Date time', 'Name'], 'columns', inplace = True)"
   ]
  },
  {
   "cell_type": "code",
   "execution_count": 5,
   "metadata": {},
   "outputs": [
    {
     "data": {
      "text/plain": [
       "Maximum Temperature    1039\n",
       "Minimum Temperature    1039\n",
       "Temperature            1039\n",
       "Wind Chill                0\n",
       "Precipitation          1039\n",
       "Snow                   1039\n",
       "Snow Depth             1039\n",
       "Wind Speed             1039\n",
       "Wind Direction         1039\n",
       "Visibility             1039\n",
       "Cloud Cover            1039\n",
       "Relative Humidity      1039\n",
       "dtype: int64"
      ]
     },
     "execution_count": 5,
     "metadata": {},
     "output_type": "execute_result"
    }
   ],
   "source": [
    "weather_df[weather_df.isnull().any(axis=1)].count()"
   ]
  },
  {
   "cell_type": "code",
   "execution_count": 6,
   "metadata": {},
   "outputs": [],
   "source": [
    "weather_df = weather_df.dropna()"
   ]
  },
  {
   "cell_type": "code",
   "execution_count": 7,
   "metadata": {},
   "outputs": [
    {
     "data": {
      "text/plain": [
       "(423, 12)"
      ]
     },
     "execution_count": 7,
     "metadata": {},
     "output_type": "execute_result"
    }
   ],
   "source": [
    "weather_df.shape"
   ]
  },
  {
   "cell_type": "code",
   "execution_count": 8,
   "metadata": {},
   "outputs": [
    {
     "data": {
      "text/html": [
       "<div>\n",
       "<style scoped>\n",
       "    .dataframe tbody tr th:only-of-type {\n",
       "        vertical-align: middle;\n",
       "    }\n",
       "\n",
       "    .dataframe tbody tr th {\n",
       "        vertical-align: top;\n",
       "    }\n",
       "\n",
       "    .dataframe thead th {\n",
       "        text-align: right;\n",
       "    }\n",
       "</style>\n",
       "<table border=\"1\" class=\"dataframe\">\n",
       "  <thead>\n",
       "    <tr style=\"text-align: right;\">\n",
       "      <th></th>\n",
       "      <th>Maximum Temperature</th>\n",
       "      <th>Minimum Temperature</th>\n",
       "      <th>Temperature</th>\n",
       "      <th>Wind Chill</th>\n",
       "      <th>Precipitation</th>\n",
       "      <th>Snow</th>\n",
       "      <th>Snow Depth</th>\n",
       "      <th>Wind Speed</th>\n",
       "      <th>Wind Direction</th>\n",
       "      <th>Visibility</th>\n",
       "      <th>Cloud Cover</th>\n",
       "      <th>Relative Humidity</th>\n",
       "    </tr>\n",
       "  </thead>\n",
       "  <tbody>\n",
       "    <tr>\n",
       "      <th>count</th>\n",
       "      <td>423.000000</td>\n",
       "      <td>423.000000</td>\n",
       "      <td>423.000000</td>\n",
       "      <td>423.000000</td>\n",
       "      <td>423.000000</td>\n",
       "      <td>423.0</td>\n",
       "      <td>423.0</td>\n",
       "      <td>423.000000</td>\n",
       "      <td>423.000000</td>\n",
       "      <td>423.000000</td>\n",
       "      <td>423.000000</td>\n",
       "      <td>423.000000</td>\n",
       "    </tr>\n",
       "    <tr>\n",
       "      <th>mean</th>\n",
       "      <td>60.178960</td>\n",
       "      <td>45.309929</td>\n",
       "      <td>52.391962</td>\n",
       "      <td>43.009693</td>\n",
       "      <td>0.049314</td>\n",
       "      <td>0.0</td>\n",
       "      <td>0.0</td>\n",
       "      <td>13.647045</td>\n",
       "      <td>208.692695</td>\n",
       "      <td>9.369504</td>\n",
       "      <td>42.187234</td>\n",
       "      <td>67.379764</td>\n",
       "    </tr>\n",
       "    <tr>\n",
       "      <th>std</th>\n",
       "      <td>5.292564</td>\n",
       "      <td>3.106841</td>\n",
       "      <td>3.233962</td>\n",
       "      <td>3.570479</td>\n",
       "      <td>0.151747</td>\n",
       "      <td>0.0</td>\n",
       "      <td>0.0</td>\n",
       "      <td>5.568338</td>\n",
       "      <td>57.139559</td>\n",
       "      <td>1.185473</td>\n",
       "      <td>22.584746</td>\n",
       "      <td>11.137013</td>\n",
       "    </tr>\n",
       "    <tr>\n",
       "      <th>min</th>\n",
       "      <td>50.000000</td>\n",
       "      <td>34.700000</td>\n",
       "      <td>44.400000</td>\n",
       "      <td>30.800000</td>\n",
       "      <td>0.000000</td>\n",
       "      <td>0.0</td>\n",
       "      <td>0.0</td>\n",
       "      <td>4.800000</td>\n",
       "      <td>49.630000</td>\n",
       "      <td>2.000000</td>\n",
       "      <td>0.000000</td>\n",
       "      <td>32.570000</td>\n",
       "    </tr>\n",
       "    <tr>\n",
       "      <th>25%</th>\n",
       "      <td>56.300000</td>\n",
       "      <td>43.200000</td>\n",
       "      <td>50.200000</td>\n",
       "      <td>40.600000</td>\n",
       "      <td>0.000000</td>\n",
       "      <td>0.0</td>\n",
       "      <td>0.0</td>\n",
       "      <td>9.300000</td>\n",
       "      <td>169.540000</td>\n",
       "      <td>9.400000</td>\n",
       "      <td>24.100000</td>\n",
       "      <td>62.440000</td>\n",
       "    </tr>\n",
       "    <tr>\n",
       "      <th>50%</th>\n",
       "      <td>59.200000</td>\n",
       "      <td>45.800000</td>\n",
       "      <td>52.300000</td>\n",
       "      <td>43.400000</td>\n",
       "      <td>0.000000</td>\n",
       "      <td>0.0</td>\n",
       "      <td>0.0</td>\n",
       "      <td>12.800000</td>\n",
       "      <td>210.210000</td>\n",
       "      <td>9.900000</td>\n",
       "      <td>40.800000</td>\n",
       "      <td>69.280000</td>\n",
       "    </tr>\n",
       "    <tr>\n",
       "      <th>75%</th>\n",
       "      <td>62.950000</td>\n",
       "      <td>47.700000</td>\n",
       "      <td>54.150000</td>\n",
       "      <td>45.900000</td>\n",
       "      <td>0.000000</td>\n",
       "      <td>0.0</td>\n",
       "      <td>0.0</td>\n",
       "      <td>17.200000</td>\n",
       "      <td>254.395000</td>\n",
       "      <td>9.900000</td>\n",
       "      <td>59.000000</td>\n",
       "      <td>75.095000</td>\n",
       "    </tr>\n",
       "    <tr>\n",
       "      <th>max</th>\n",
       "      <td>77.900000</td>\n",
       "      <td>50.000000</td>\n",
       "      <td>63.200000</td>\n",
       "      <td>49.000000</td>\n",
       "      <td>1.360000</td>\n",
       "      <td>0.0</td>\n",
       "      <td>0.0</td>\n",
       "      <td>34.800000</td>\n",
       "      <td>324.420000</td>\n",
       "      <td>9.900000</td>\n",
       "      <td>96.800000</td>\n",
       "      <td>89.650000</td>\n",
       "    </tr>\n",
       "  </tbody>\n",
       "</table>\n",
       "</div>"
      ],
      "text/plain": [
       "       Maximum Temperature  Minimum Temperature  Temperature  Wind Chill  \\\n",
       "count           423.000000           423.000000   423.000000  423.000000   \n",
       "mean             60.178960            45.309929    52.391962   43.009693   \n",
       "std               5.292564             3.106841     3.233962    3.570479   \n",
       "min              50.000000            34.700000    44.400000   30.800000   \n",
       "25%              56.300000            43.200000    50.200000   40.600000   \n",
       "50%              59.200000            45.800000    52.300000   43.400000   \n",
       "75%              62.950000            47.700000    54.150000   45.900000   \n",
       "max              77.900000            50.000000    63.200000   49.000000   \n",
       "\n",
       "       Precipitation   Snow  Snow Depth  Wind Speed  Wind Direction  \\\n",
       "count     423.000000  423.0       423.0  423.000000      423.000000   \n",
       "mean        0.049314    0.0         0.0   13.647045      208.692695   \n",
       "std         0.151747    0.0         0.0    5.568338       57.139559   \n",
       "min         0.000000    0.0         0.0    4.800000       49.630000   \n",
       "25%         0.000000    0.0         0.0    9.300000      169.540000   \n",
       "50%         0.000000    0.0         0.0   12.800000      210.210000   \n",
       "75%         0.000000    0.0         0.0   17.200000      254.395000   \n",
       "max         1.360000    0.0         0.0   34.800000      324.420000   \n",
       "\n",
       "       Visibility  Cloud Cover  Relative Humidity  \n",
       "count  423.000000   423.000000         423.000000  \n",
       "mean     9.369504    42.187234          67.379764  \n",
       "std      1.185473    22.584746          11.137013  \n",
       "min      2.000000     0.000000          32.570000  \n",
       "25%      9.400000    24.100000          62.440000  \n",
       "50%      9.900000    40.800000          69.280000  \n",
       "75%      9.900000    59.000000          75.095000  \n",
       "max      9.900000    96.800000          89.650000  "
      ]
     },
     "execution_count": 8,
     "metadata": {},
     "output_type": "execute_result"
    }
   ],
   "source": [
    "weather_df.describe()"
   ]
  },
  {
   "cell_type": "code",
   "execution_count": 9,
   "metadata": {},
   "outputs": [
    {
     "data": {
      "text/html": [
       "<div>\n",
       "<style scoped>\n",
       "    .dataframe tbody tr th:only-of-type {\n",
       "        vertical-align: middle;\n",
       "    }\n",
       "\n",
       "    .dataframe tbody tr th {\n",
       "        vertical-align: top;\n",
       "    }\n",
       "\n",
       "    .dataframe thead th {\n",
       "        text-align: right;\n",
       "    }\n",
       "</style>\n",
       "<table border=\"1\" class=\"dataframe\">\n",
       "  <thead>\n",
       "    <tr style=\"text-align: right;\">\n",
       "      <th></th>\n",
       "      <th>Maximum Temperature</th>\n",
       "      <th>Minimum Temperature</th>\n",
       "      <th>Temperature</th>\n",
       "      <th>Wind Chill</th>\n",
       "      <th>Precipitation</th>\n",
       "      <th>Snow</th>\n",
       "      <th>Snow Depth</th>\n",
       "      <th>Wind Speed</th>\n",
       "      <th>Wind Direction</th>\n",
       "      <th>Visibility</th>\n",
       "      <th>Cloud Cover</th>\n",
       "      <th>Relative Humidity</th>\n",
       "    </tr>\n",
       "  </thead>\n",
       "  <tbody>\n",
       "    <tr>\n",
       "      <th>Maximum Temperature</th>\n",
       "      <td>1.000000</td>\n",
       "      <td>0.384873</td>\n",
       "      <td>0.872266</td>\n",
       "      <td>0.531819</td>\n",
       "      <td>-0.265607</td>\n",
       "      <td>NaN</td>\n",
       "      <td>NaN</td>\n",
       "      <td>-0.056473</td>\n",
       "      <td>0.177227</td>\n",
       "      <td>0.019378</td>\n",
       "      <td>-0.523471</td>\n",
       "      <td>-0.348871</td>\n",
       "    </tr>\n",
       "    <tr>\n",
       "      <th>Minimum Temperature</th>\n",
       "      <td>0.384873</td>\n",
       "      <td>1.000000</td>\n",
       "      <td>0.740719</td>\n",
       "      <td>0.877587</td>\n",
       "      <td>0.142133</td>\n",
       "      <td>NaN</td>\n",
       "      <td>NaN</td>\n",
       "      <td>0.216260</td>\n",
       "      <td>0.163055</td>\n",
       "      <td>-0.034918</td>\n",
       "      <td>0.172765</td>\n",
       "      <td>0.083455</td>\n",
       "    </tr>\n",
       "    <tr>\n",
       "      <th>Temperature</th>\n",
       "      <td>0.872266</td>\n",
       "      <td>0.740719</td>\n",
       "      <td>1.000000</td>\n",
       "      <td>0.795482</td>\n",
       "      <td>-0.119734</td>\n",
       "      <td>NaN</td>\n",
       "      <td>NaN</td>\n",
       "      <td>0.086336</td>\n",
       "      <td>0.213318</td>\n",
       "      <td>0.001382</td>\n",
       "      <td>-0.280112</td>\n",
       "      <td>-0.247347</td>\n",
       "    </tr>\n",
       "    <tr>\n",
       "      <th>Wind Chill</th>\n",
       "      <td>0.531819</td>\n",
       "      <td>0.877587</td>\n",
       "      <td>0.795482</td>\n",
       "      <td>1.000000</td>\n",
       "      <td>-0.033166</td>\n",
       "      <td>NaN</td>\n",
       "      <td>NaN</td>\n",
       "      <td>-0.036297</td>\n",
       "      <td>0.057713</td>\n",
       "      <td>-0.073516</td>\n",
       "      <td>0.051510</td>\n",
       "      <td>0.099104</td>\n",
       "    </tr>\n",
       "    <tr>\n",
       "      <th>Precipitation</th>\n",
       "      <td>-0.265607</td>\n",
       "      <td>0.142133</td>\n",
       "      <td>-0.119734</td>\n",
       "      <td>-0.033166</td>\n",
       "      <td>1.000000</td>\n",
       "      <td>NaN</td>\n",
       "      <td>NaN</td>\n",
       "      <td>0.364614</td>\n",
       "      <td>-0.148929</td>\n",
       "      <td>-0.161456</td>\n",
       "      <td>0.413785</td>\n",
       "      <td>0.228819</td>\n",
       "    </tr>\n",
       "    <tr>\n",
       "      <th>Snow</th>\n",
       "      <td>NaN</td>\n",
       "      <td>NaN</td>\n",
       "      <td>NaN</td>\n",
       "      <td>NaN</td>\n",
       "      <td>NaN</td>\n",
       "      <td>NaN</td>\n",
       "      <td>NaN</td>\n",
       "      <td>NaN</td>\n",
       "      <td>NaN</td>\n",
       "      <td>NaN</td>\n",
       "      <td>NaN</td>\n",
       "      <td>NaN</td>\n",
       "    </tr>\n",
       "    <tr>\n",
       "      <th>Snow Depth</th>\n",
       "      <td>NaN</td>\n",
       "      <td>NaN</td>\n",
       "      <td>NaN</td>\n",
       "      <td>NaN</td>\n",
       "      <td>NaN</td>\n",
       "      <td>NaN</td>\n",
       "      <td>NaN</td>\n",
       "      <td>NaN</td>\n",
       "      <td>NaN</td>\n",
       "      <td>NaN</td>\n",
       "      <td>NaN</td>\n",
       "      <td>NaN</td>\n",
       "    </tr>\n",
       "    <tr>\n",
       "      <th>Wind Speed</th>\n",
       "      <td>-0.056473</td>\n",
       "      <td>0.216260</td>\n",
       "      <td>0.086336</td>\n",
       "      <td>-0.036297</td>\n",
       "      <td>0.364614</td>\n",
       "      <td>NaN</td>\n",
       "      <td>NaN</td>\n",
       "      <td>1.000000</td>\n",
       "      <td>0.382142</td>\n",
       "      <td>0.161590</td>\n",
       "      <td>0.033484</td>\n",
       "      <td>-0.105942</td>\n",
       "    </tr>\n",
       "    <tr>\n",
       "      <th>Wind Direction</th>\n",
       "      <td>0.177227</td>\n",
       "      <td>0.163055</td>\n",
       "      <td>0.213318</td>\n",
       "      <td>0.057713</td>\n",
       "      <td>-0.148929</td>\n",
       "      <td>NaN</td>\n",
       "      <td>NaN</td>\n",
       "      <td>0.382142</td>\n",
       "      <td>1.000000</td>\n",
       "      <td>0.181662</td>\n",
       "      <td>-0.326986</td>\n",
       "      <td>-0.142800</td>\n",
       "    </tr>\n",
       "    <tr>\n",
       "      <th>Visibility</th>\n",
       "      <td>0.019378</td>\n",
       "      <td>-0.034918</td>\n",
       "      <td>0.001382</td>\n",
       "      <td>-0.073516</td>\n",
       "      <td>-0.161456</td>\n",
       "      <td>NaN</td>\n",
       "      <td>NaN</td>\n",
       "      <td>0.161590</td>\n",
       "      <td>0.181662</td>\n",
       "      <td>1.000000</td>\n",
       "      <td>-0.351319</td>\n",
       "      <td>-0.186191</td>\n",
       "    </tr>\n",
       "    <tr>\n",
       "      <th>Cloud Cover</th>\n",
       "      <td>-0.523471</td>\n",
       "      <td>0.172765</td>\n",
       "      <td>-0.280112</td>\n",
       "      <td>0.051510</td>\n",
       "      <td>0.413785</td>\n",
       "      <td>NaN</td>\n",
       "      <td>NaN</td>\n",
       "      <td>0.033484</td>\n",
       "      <td>-0.326986</td>\n",
       "      <td>-0.351319</td>\n",
       "      <td>1.000000</td>\n",
       "      <td>0.494572</td>\n",
       "    </tr>\n",
       "    <tr>\n",
       "      <th>Relative Humidity</th>\n",
       "      <td>-0.348871</td>\n",
       "      <td>0.083455</td>\n",
       "      <td>-0.247347</td>\n",
       "      <td>0.099104</td>\n",
       "      <td>0.228819</td>\n",
       "      <td>NaN</td>\n",
       "      <td>NaN</td>\n",
       "      <td>-0.105942</td>\n",
       "      <td>-0.142800</td>\n",
       "      <td>-0.186191</td>\n",
       "      <td>0.494572</td>\n",
       "      <td>1.000000</td>\n",
       "    </tr>\n",
       "  </tbody>\n",
       "</table>\n",
       "</div>"
      ],
      "text/plain": [
       "                     Maximum Temperature  Minimum Temperature  Temperature  \\\n",
       "Maximum Temperature             1.000000             0.384873     0.872266   \n",
       "Minimum Temperature             0.384873             1.000000     0.740719   \n",
       "Temperature                     0.872266             0.740719     1.000000   \n",
       "Wind Chill                      0.531819             0.877587     0.795482   \n",
       "Precipitation                  -0.265607             0.142133    -0.119734   \n",
       "Snow                                 NaN                  NaN          NaN   \n",
       "Snow Depth                           NaN                  NaN          NaN   \n",
       "Wind Speed                     -0.056473             0.216260     0.086336   \n",
       "Wind Direction                  0.177227             0.163055     0.213318   \n",
       "Visibility                      0.019378            -0.034918     0.001382   \n",
       "Cloud Cover                    -0.523471             0.172765    -0.280112   \n",
       "Relative Humidity              -0.348871             0.083455    -0.247347   \n",
       "\n",
       "                     Wind Chill  Precipitation  Snow  Snow Depth  Wind Speed  \\\n",
       "Maximum Temperature    0.531819      -0.265607   NaN         NaN   -0.056473   \n",
       "Minimum Temperature    0.877587       0.142133   NaN         NaN    0.216260   \n",
       "Temperature            0.795482      -0.119734   NaN         NaN    0.086336   \n",
       "Wind Chill             1.000000      -0.033166   NaN         NaN   -0.036297   \n",
       "Precipitation         -0.033166       1.000000   NaN         NaN    0.364614   \n",
       "Snow                        NaN            NaN   NaN         NaN         NaN   \n",
       "Snow Depth                  NaN            NaN   NaN         NaN         NaN   \n",
       "Wind Speed            -0.036297       0.364614   NaN         NaN    1.000000   \n",
       "Wind Direction         0.057713      -0.148929   NaN         NaN    0.382142   \n",
       "Visibility            -0.073516      -0.161456   NaN         NaN    0.161590   \n",
       "Cloud Cover            0.051510       0.413785   NaN         NaN    0.033484   \n",
       "Relative Humidity      0.099104       0.228819   NaN         NaN   -0.105942   \n",
       "\n",
       "                     Wind Direction  Visibility  Cloud Cover  \\\n",
       "Maximum Temperature        0.177227    0.019378    -0.523471   \n",
       "Minimum Temperature        0.163055   -0.034918     0.172765   \n",
       "Temperature                0.213318    0.001382    -0.280112   \n",
       "Wind Chill                 0.057713   -0.073516     0.051510   \n",
       "Precipitation             -0.148929   -0.161456     0.413785   \n",
       "Snow                            NaN         NaN          NaN   \n",
       "Snow Depth                      NaN         NaN          NaN   \n",
       "Wind Speed                 0.382142    0.161590     0.033484   \n",
       "Wind Direction             1.000000    0.181662    -0.326986   \n",
       "Visibility                 0.181662    1.000000    -0.351319   \n",
       "Cloud Cover               -0.326986   -0.351319     1.000000   \n",
       "Relative Humidity         -0.142800   -0.186191     0.494572   \n",
       "\n",
       "                     Relative Humidity  \n",
       "Maximum Temperature          -0.348871  \n",
       "Minimum Temperature           0.083455  \n",
       "Temperature                  -0.247347  \n",
       "Wind Chill                    0.099104  \n",
       "Precipitation                 0.228819  \n",
       "Snow                               NaN  \n",
       "Snow Depth                         NaN  \n",
       "Wind Speed                   -0.105942  \n",
       "Wind Direction               -0.142800  \n",
       "Visibility                   -0.186191  \n",
       "Cloud Cover                   0.494572  \n",
       "Relative Humidity             1.000000  "
      ]
     },
     "execution_count": 9,
     "metadata": {},
     "output_type": "execute_result"
    }
   ],
   "source": [
    "weather_corr = weather_df.corr()\n",
    "weather_corr"
   ]
  },
  {
   "cell_type": "code",
   "execution_count": 10,
   "metadata": {},
   "outputs": [
    {
     "data": {
      "text/plain": [
       "<matplotlib.axes._subplots.AxesSubplot at 0x7f1eeeff87b8>"
      ]
     },
     "execution_count": 10,
     "metadata": {},
     "output_type": "execute_result"
    },
    {
     "data": {
      "image/png": "[encoded data removed]",
      "text/plain": [
       "<Figure size 864x720 with 2 Axes>"
      ]
     },
     "metadata": {},
     "output_type": "display_data"
    }
   ],
   "source": [
    "fig, ax = plt.subplots(figsize = (12,10))\n",
    "sns.heatmap(weather_corr, annot=True)"
   ]
  },
  {
   "cell_type": "code",
   "execution_count": 11,
   "metadata": {},
   "outputs": [
    {
     "name": "stdout",
     "output_type": "stream",
     "text": [
      "[0 0 0 2 0 0 0 2 0 2 0 0 2 1 0 0 2 2 0 2 2 2 2 2 0 2 2 2 0 2 0 1 2 1 2 1 1\n",
      " 1 1 1 2 2 2 0 1 1 2 0 0 2 1 1 1 2 2 1 2 1 1 1 0 1 2 1 1 1 2 0 1 2 1 2 2 2\n",
      " 1 1 2 2 0 0 0 2 2 0 2 2 0 0 2 2 0 0 2 0 2 0 1 2 2 2 2 1 2 0 0 2 2 0 2 2 1\n",
      " 2 2 2 0 0 0 2 0 2 0 0 0 0 0 0 2 0 0 2 0 1 1 1 1 1 2 2 0 1 2 2 2 2 2 2 1 1\n",
      " 1 1 1 1 2 1 1 1 1 1 1 1 0 2 0 2 0 2 0 1 1 1 1 1 1 1 1 2 2 2 2 1 2 2 0 1 1\n",
      " 1 2 0 2 1 1 2 0 0 0 2 0 0 2 2 1 1 0 1 1 0 0 0 2 2 0 0 2 2 0 2 0 0 0 0 0 0\n",
      " 0 0 0 2 0 1 2 2 2 0 0 0 2 2 2 0 2 2 1 1 1 1 0 1 1 1 1 0 2 1 2 2 2 1 2 1 2\n",
      " 0 1 2 0 2 2 0 2 2 0 2 2 0 1 1 1 1 1 1 1 1 2 1 2 0 0 0 2 2 2 2 2 0 2 0 2 2\n",
      " 2 2 0 2 2 2 2 2 0 2 1 2 1 2 2 2 2 1 2 2 0 0 0 0 0 0 2 2 0 0 0 0 0 0 0 2 0\n",
      " 2 2 2 0 2 2 2 2 1 2 2 2 0 0 0 2 2 2 1 2 0 2 2 0 2 2 0 1 2 2 1 1 1 1 1 1 2\n",
      " 2 0 2 2 1 1 1 0 2 2 1 0 0 2 2 0 0 1 1 1 1 2 2 0 0 0 0 0 0 1 2 0 0 2 0 0 2\n",
      " 0 0 2 0 0 0 2 0 0 2 2 2 2 2 0 0]\n"
     ]
    },
    {
     "data": {
      "text/plain": [
       "Text(0,0.5,'Wind Speed in miles')"
      ]
     },
     "execution_count": 11,
     "metadata": {},
     "output_type": "execute_result"
    },
    {
     "data": {
      "image/png": "[encoded data removed]",
      "text/plain": [
       "<Figure size 432x288 with 1 Axes>"
      ]
     },
     "metadata": {},
     "output_type": "display_data"
    }
   ],
   "source": [
    "\n",
    "model = KMeans(n_clusters=3)\n",
    "model.fit(weather_df)\n",
    "all_predictions = model.predict(weather_df)\n",
    "\n",
    "\n",
    "centroids = model.cluster_centers_\n",
    "labels = model.labels_\n",
    "print(labels)\n",
    "\n",
    "colors = [\"r.\", \"b.\", \"g.\"]\n",
    "\n",
    "for i in range(len(weather_df)):\n",
    "    line = plt.plot(weather_df.iloc[i][\"Wind Direction\"], weather_df.iloc[i][\"Wind Speed\"], colors[labels[i]], markersize=10)\n",
    "\n",
    "plt.xlabel(\"Wind Direction in degree latitudes\")\n",
    "plt.ylabel(\"Wind Speed in miles\")"
   ]
  },
  {
   "cell_type": "code",
   "execution_count": 12,
   "metadata": {},
   "outputs": [
    {
     "data": {
      "image/png": "[encoded data removed]",
      "text/plain": [
       "<Figure size 720x504 with 1 Axes>"
      ]
     },
     "metadata": {},
     "output_type": "display_data"
    }
   ],
   "source": [
    "LABEL_COLOR_MAP = {0 : 'r',\n",
    "                   1 : 'b',\n",
    "                   2 : 'g'\n",
    "                   }\n",
    "\n",
    "label_color = [LABEL_COLOR_MAP[l] for l in labels]\n",
    "\n",
    "fig = plt.figure(figsize=(10,7))\n",
    "ax = plt.axes(projection = \"3d\")\n",
    "\n",
    "x1 = np.array(weather_df[\"Wind Direction\"])\n",
    "x2 = np.array(weather_df[\"Wind Speed\"])\n",
    "x3 = np.array(weather_df[\"Relative Humidity\"])\n",
    "\n",
    "ax.scatter(x1, x2, x3, marker=\"s\", c=label_color, s=40)\n",
    "plt.show()"
   ]
  },
  {
   "cell_type": "code",
   "execution_count": 13,
   "metadata": {},
   "outputs": [
    {
     "data": {
      "image/png": "[encoded data removed]",
      "text/plain": [
       "<Figure size 432x288 with 1 Axes>"
      ]
     },
     "metadata": {},
     "output_type": "display_data"
    }
   ],
   "source": [
    "tsne_model = TSNE(learning_rate=1000)\n",
    "transformed = model.fit_transform(weather_df)\n",
    "x_axis = transformed[:, 0]\n",
    "y_axis = transformed[:, 1]\n",
    "plt.scatter(x_axis, y_axis)\n",
    "plt.show()"
   ]
  },
  {
   "cell_type": "code",
   "execution_count": 14,
   "metadata": {},
   "outputs": [
    {
     "name": "stdout",
     "output_type": "stream",
     "text": [
      "Feature: Maximum Temperature, Score: 0.06731\n",
      "Feature: Minimum Temperature, Score: 0.04298\n",
      "Feature: Temperature, Score: 0.03844\n",
      "Feature: Wind Chill, Score: 0.03126\n",
      "Feature: Precipitation, Score: 0.01320\n",
      "Feature: Snow, Score: 0.00000\n",
      "Feature: Snow Depth, Score: 0.00000\n",
      "Feature: Wind Speed, Score: 0.11056\n",
      "Feature: Wind Direction, Score: 0.53841\n",
      "Feature: Visibility, Score: 0.02910\n",
      "Feature: Cloud Cover, Score: 0.07026\n",
      "Feature: Relative Humidity, Score: 0.05849\n"
     ]
    },
    {
     "data": {
      "image/png": "[encoded data removed]",
      "text/plain": [
       "<Figure size 432x288 with 1 Axes>"
      ]
     },
     "metadata": {},
     "output_type": "display_data"
    }
   ],
   "source": [
    "rfdict = {}\n",
    "rf = RandomForestClassifier()\n",
    "rf.fit(weather_df, labels)\n",
    "sorted_idx = rf.feature_importances_.argsort()\n",
    "plt.barh(weather_df.columns[sorted_idx], rf.feature_importances_[sorted_idx])\n",
    "plt.title(\"Random Forest Feature Importance\")\n",
    "for i in range(12):\n",
    "    print('Feature: %s, Score: %.5f' % (weather_df.columns[i],rf.feature_importances_[i]))\n",
    "    rfdict[weather_df.columns[i]] = rf.feature_importances_[i]"
   ]
  },
  {
   "cell_type": "code",
   "execution_count": 15,
   "metadata": {},
   "outputs": [
    {
     "name": "stdout",
     "output_type": "stream",
     "text": [
      "countN=0\n",
      "countNNE=0\n",
      "countNE=1\n",
      "countENE=1\n",
      "countE=10\n",
      "countESE=18\n",
      "countSE=29\n",
      "countSSE=36\n",
      "countS=55\n",
      "countSSW=61\n",
      "countSW=55\n",
      "countWSW=41\n",
      "countW=71\n",
      "countWNW=28\n",
      "countNW=13\n",
      "countNNW=4\n"
     ]
    }
   ],
   "source": [
    "winddir = weather_df[\"Wind Direction\"]\n",
    "countN = 0\n",
    "North = []\n",
    "countNNE = 0\n",
    "NorthNorthEast = []\n",
    "countNE = 0\n",
    "NorthEast = []\n",
    "countENE = 0\n",
    "EastNorthEast = []\n",
    "countE = 0\n",
    "East = []\n",
    "countESE = 0\n",
    "EastSouthEast = []\n",
    "countSE = 0\n",
    "SouthEast = []\n",
    "countSSE = 0\n",
    "SouthSouthEast = []\n",
    "countS = 0\n",
    "South = []\n",
    "countSSW = 0\n",
    "SouthSouthWest = []\n",
    "countSW = 0\n",
    "SouthWest = []\n",
    "countWSW = 0\n",
    "WestSouthWest = []\n",
    "countW = 0\n",
    "West = []\n",
    "countWNW = 0\n",
    "WestNorthWest = []\n",
    "countNW = 0\n",
    "NorthWest = []\n",
    "countNNW = 0\n",
    "NorthNorthWest = []\n",
    "for i in range(len(winddir.values)):\n",
    "    if(winddir.values[i] >=350 or winddir.values[i] <=10):\n",
    "        countN +=1\n",
    "        North.append(winddir.values[i])\n",
    "    if(winddir.values[i] >10 and winddir.values[i] <=30):\n",
    "        countNNE +=1\n",
    "        NorthNorthEast.append(winddir.values[i])\n",
    "    if(winddir.values[i] >30 and winddir.values[i] <=50):\n",
    "        countNE +=1\n",
    "        NorthEast.append(winddir.values[i])\n",
    "    if(winddir.values[i] >50 and winddir.values[i] <=70):\n",
    "        countENE +=1\n",
    "        EastNorthEast.append(winddir.values[i])\n",
    "    if(winddir.values[i] >70 and winddir.values[i] <=100):\n",
    "        countE +=1\n",
    "        East.append(winddir.values[i])\n",
    "    if(winddir.values[i] >100 and winddir.values[i] <=120):\n",
    "        countESE +=1\n",
    "        EastSouthEast.append(winddir.values[i])\n",
    "    if(winddir.values[i] >120 and winddir.values[i] <=140):\n",
    "        countSE +=1\n",
    "        SouthEast.append(winddir.values[i])\n",
    "    if(winddir.values[i] >140 and winddir.values[i] <=160):\n",
    "        countSSE +=1\n",
    "        SouthSouthEast.append(winddir.values[i])\n",
    "    if(winddir.values[i] >160 and winddir.values[i] <=190):\n",
    "        countS +=1\n",
    "        South.append(winddir.values[i])\n",
    "    if(winddir.values[i] >190 and winddir.values[i] <=210):\n",
    "        countSSW +=1\n",
    "        SouthSouthWest.append(winddir.values[i])\n",
    "    if(winddir.values[i] >210 and winddir.values[i] <=230):\n",
    "        countSW +=1\n",
    "        SouthWest.append(winddir.values[i])\n",
    "    if(winddir.values[i] >230 and winddir.values[i] <=250):\n",
    "        countWSW +=1\n",
    "        WestSouthWest.append(winddir.values[i])\n",
    "    if(winddir.values[i] >250 and winddir.values[i] <=280):\n",
    "        countW +=1\n",
    "        West.append(winddir.values[i])\n",
    "    if(winddir.values[i] >280 and winddir.values[i] <=300):\n",
    "        countWNW +=1\n",
    "        WestNorthWest.append(winddir.values[i])\n",
    "    if(winddir.values[i] >300 and winddir.values[i] <=320):\n",
    "        countNW +=1\n",
    "        NorthWest.append(winddir.values[i])\n",
    "    if(winddir.values[i] >320 and winddir.values[i] <=340):\n",
    "        countNNW +=1\n",
    "        NorthNorthWest.append(winddir.values[i])\n",
    "print(\"countN=%d\" % (countN))\n",
    "print(\"countNNE=%d\" % (countNNE))\n",
    "print(\"countNE=%d\" % (countNE))\n",
    "print(\"countENE=%d\" % (countENE))\n",
    "print(\"countE=%d\" % (countE))\n",
    "print(\"countESE=%d\" % (countESE))\n",
    "print(\"countSE=%d\" % (countSE))\n",
    "print(\"countSSE=%d\" % (countSSE))\n",
    "print(\"countS=%d\" % (countS))\n",
    "print(\"countSSW=%d\" % (countSSW))\n",
    "print(\"countSW=%d\" % (countSW))\n",
    "print(\"countWSW=%d\" % (countWSW))\n",
    "print(\"countW=%d\" % (countW))\n",
    "print(\"countWNW=%d\" % (countWNW))\n",
    "print(\"countNW=%d\" % (countNW))\n",
    "print(\"countNNW=%d\" % (countNNW))"
   ]
  },
  {
   "cell_type": "code",
   "execution_count": 16,
   "metadata": {},
   "outputs": [
    {
     "data": {
      "image/png": "[encoded data removed]",
      "text/plain": [
       "<Figure size 432x288 with 1 Axes>"
      ]
     },
     "metadata": {},
     "output_type": "display_data"
    }
   ],
   "source": [
    "piechart_labels = 'North', 'NorthNorthEast', 'NorthEast', 'EastNorthEast', 'East', 'EastSouthEast', 'SouthEast', 'SouthSouthEast', 'South', 'SouthSouthWest', 'SouthWest', 'WestSouthWest', 'West', 'WestNorthWest', 'NorthWest', 'NorthNorthWest'\n",
    "piechart_sizes = [countN, countNNE, countNE, countENE, countE, countESE, countSE, countSSE, countS, countSSW, countSW, countWSW, countW, countWNW, countNW, countNNW]\n",
    "fig1, ax1 = plt.subplots()\n",
    "ax1.pie(piechart_sizes,labels=piechart_labels, autopct='%1.1f%%',\n",
    "        shadow=True, startangle=90)\n",
    "ax1.axis('equal') \n",
    "plt.show()\n"
   ]
  },
  {
   "cell_type": "code",
   "execution_count": 17,
   "metadata": {},
   "outputs": [
    {
     "name": "stdout",
     "output_type": "stream",
     "text": [
      "[]\n"
     ]
    }
   ],
   "source": [
    "winddir_dict = {countN : North,countNNE : NorthNorthEast, countNE : NorthEast, countENE : EastNorthEast, countE : East, countESE : EastSouthEast, countSE : SouthEast, countSSE : SouthSouthEast, countS : South, countSSW : SouthSouthWest, countSW : SouthWest, countWSW : WestSouthWest, countW : West, countWNW : WestNorthWest, countNW : NorthWest, countNNW : NorthNorthWest }\n",
    "high = []\n",
    "moderate = []\n",
    "low = []\n",
    "for key, value in winddir_dict.items():\n",
    "    if((key / len(weather_df)) * 100 >= 10):\n",
    "        high.append(value)\n",
    "    if(5 <= (key / len(weather_df)) * 100 < 10):\n",
    "        moderate.append(value)\n",
    "    if((0 <= key / len(weather_df)) * 100 < 5):\n",
    "        low.append(value)\n",
    "print(low)"
   ]
  },
  {
   "cell_type": "code",
   "execution_count": 18,
   "metadata": {},
   "outputs": [
    {
     "name": "stdout",
     "output_type": "stream",
     "text": [
      "Mean Accuracy: 0.976 (0.037)\n"
     ]
    }
   ],
   "source": [
    "model = GradientBoostingClassifier(n_estimators=100)\n",
    "cv = RepeatedStratifiedKFold(n_splits=20, n_repeats=3, random_state=1)\n",
    "n_scores = cross_val_score(model, weather_df, labels, scoring='accuracy', cv=cv, n_jobs=-1)\n",
    "print('Mean Accuracy: %.3f (%.3f)' % (mean(n_scores), std(n_scores)))"
   ]
  },
  {
   "cell_type": "code",
   "execution_count": 19,
   "metadata": {},
   "outputs": [
    {
     "data": {
      "text/plain": [
       "Counter({0: 139, 2: 176, 1: 108})"
      ]
     },
     "execution_count": 19,
     "metadata": {},
     "output_type": "execute_result"
    }
   ],
   "source": [
    "collections.Counter(labels)"
   ]
  },
  {
   "cell_type": "code",
   "execution_count": 20,
   "metadata": {},
   "outputs": [
    {
     "data": {
      "text/plain": [
       "34.8"
      ]
     },
     "execution_count": 20,
     "metadata": {},
     "output_type": "execute_result"
    }
   ],
   "source": [
    "max(weather_df[\"Wind Speed\"])"
   ]
  },
  {
   "cell_type": "code",
   "execution_count": 21,
   "metadata": {},
   "outputs": [
    {
     "data": {
      "text/plain": [
       "4.8"
      ]
     },
     "execution_count": 21,
     "metadata": {},
     "output_type": "execute_result"
    }
   ],
   "source": [
    "min(weather_df[\"Wind Speed\"])"
   ]
  },
  {
   "cell_type": "code",
   "execution_count": 22,
   "metadata": {},
   "outputs": [
    {
     "name": "stdout",
     "output_type": "stream",
     "text": [
      "counthigh=60\n",
      "countlow=363\n"
     ]
    }
   ],
   "source": [
    "windspeed = weather_df[\"Wind Speed\"]\n",
    "counthigh = 0\n",
    "countlow = 0\n",
    "for j in range(len(windspeed.values)):\n",
    "    if(windspeed.values[j] > 20):\n",
    "        counthigh += 1\n",
    "    else:\n",
    "        countlow += 1\n",
    "print(\"counthigh=%d\" % (counthigh))\n",
    "print(\"countlow=%d\" % (countlow))"
   ]
  },
  {
   "cell_type": "code",
   "execution_count": 23,
   "metadata": {},
   "outputs": [],
   "source": [
    "weather_df2 = weather_df.copy()"
   ]
  },
  {
   "cell_type": "code",
   "execution_count": 28,
   "metadata": {},
   "outputs": [
    {
     "name": "stdout",
     "output_type": "stream",
     "text": [
      "423\n",
      "423\n"
     ]
    }
   ],
   "source": [
    "winddir_df2 = weather_df2[\"Wind Direction\"]\n",
    "windspeed_df2 = weather_df2[\"Wind Speed\"]\n",
    "asthma_risk = []\n",
    "print(len(winddir_df2))\n",
    "if(rfdict['Wind Speed'] > rfdict['Relative Humidity']):\n",
    "    for k in range(len(winddir_df2.values)):\n",
    "        if(min(min(moderate)) <= winddir_df2.values[k] <= max(max(high))):\n",
    "            if(windspeed_df2.values[k]>=20):\n",
    "                asthma_risk.append(\"High\")\n",
    "            if(10 <= windspeed_df2.values[k] < 20):\n",
    "                asthma_risk.append(\"Moderate\")\n",
    "            if(4 <= windspeed_df2.values[k] < 10):\n",
    "                asthma_risk.append(\"Low\")\n",
    "        if(0 <= winddir_df2.values[k] <min(min(moderate)) or max(max(high)) < winddir_df2.values[k] <= 360):\n",
    "            if(windspeed_df2.values[k]>=20):\n",
    "                asthma_risk.append(\"Moderate\")\n",
    "            if(10 <= windspeed_df2.values[k] < 20):\n",
    "                asthma_risk.append(\"Low\")\n",
    "            if(4 <= windspeed_df2.values[k] < 10):\n",
    "                asthma_risk.append(\"Low\")\n",
    "    print(len(asthma_risk))\n",
    "else:\n",
    "    print(\"HEllo\")"
   ]
  },
  {
   "cell_type": "code",
   "execution_count": 29,
   "metadata": {},
   "outputs": [],
   "source": [
    "weather_df2[\"Asthma Risk\"] = asthma_risk"
   ]
  },
  {
   "cell_type": "code",
   "execution_count": 30,
   "metadata": {},
   "outputs": [
    {
     "data": {
      "text/plain": [
       "Counter({'Moderate': 212, 'High': 43, 'Low': 168})"
      ]
     },
     "execution_count": 30,
     "metadata": {},
     "output_type": "execute_result"
    }
   ],
   "source": [
    "collections.Counter(weather_df2[\"Asthma Risk\"])"
   ]
  },
  {
   "cell_type": "code",
   "execution_count": 31,
   "metadata": {},
   "outputs": [
    {
     "data": {
      "text/html": [
       "<div>\n",
       "<style scoped>\n",
       "    .dataframe tbody tr th:only-of-type {\n",
       "        vertical-align: middle;\n",
       "    }\n",
       "\n",
       "    .dataframe tbody tr th {\n",
       "        vertical-align: top;\n",
       "    }\n",
       "\n",
       "    .dataframe thead th {\n",
       "        text-align: right;\n",
       "    }\n",
       "</style>\n",
       "<table border=\"1\" class=\"dataframe\">\n",
       "  <thead>\n",
       "    <tr style=\"text-align: right;\">\n",
       "      <th></th>\n",
       "      <th>Maximum Temperature</th>\n",
       "      <th>Minimum Temperature</th>\n",
       "      <th>Temperature</th>\n",
       "      <th>Wind Chill</th>\n",
       "      <th>Precipitation</th>\n",
       "      <th>Snow</th>\n",
       "      <th>Snow Depth</th>\n",
       "      <th>Wind Speed</th>\n",
       "      <th>Wind Direction</th>\n",
       "      <th>Visibility</th>\n",
       "      <th>Cloud Cover</th>\n",
       "      <th>Relative Humidity</th>\n",
       "      <th>Asthma Risk</th>\n",
       "    </tr>\n",
       "  </thead>\n",
       "  <tbody>\n",
       "    <tr>\n",
       "      <th>1</th>\n",
       "      <td>71.5</td>\n",
       "      <td>49.5</td>\n",
       "      <td>59.0</td>\n",
       "      <td>48.5</td>\n",
       "      <td>0.00</td>\n",
       "      <td>0</td>\n",
       "      <td>0</td>\n",
       "      <td>13.2</td>\n",
       "      <td>237.50</td>\n",
       "      <td>9.9</td>\n",
       "      <td>25.4</td>\n",
       "      <td>65.41</td>\n",
       "      <td>Moderate</td>\n",
       "    </tr>\n",
       "    <tr>\n",
       "      <th>7</th>\n",
       "      <td>60.7</td>\n",
       "      <td>47.4</td>\n",
       "      <td>54.8</td>\n",
       "      <td>44.8</td>\n",
       "      <td>0.00</td>\n",
       "      <td>0</td>\n",
       "      <td>0</td>\n",
       "      <td>15.3</td>\n",
       "      <td>279.04</td>\n",
       "      <td>9.9</td>\n",
       "      <td>42.1</td>\n",
       "      <td>65.65</td>\n",
       "      <td>Moderate</td>\n",
       "    </tr>\n",
       "    <tr>\n",
       "      <th>12</th>\n",
       "      <td>69.8</td>\n",
       "      <td>49.7</td>\n",
       "      <td>59.1</td>\n",
       "      <td>47.3</td>\n",
       "      <td>0.00</td>\n",
       "      <td>0</td>\n",
       "      <td>0</td>\n",
       "      <td>20.8</td>\n",
       "      <td>299.00</td>\n",
       "      <td>9.9</td>\n",
       "      <td>21.7</td>\n",
       "      <td>62.63</td>\n",
       "      <td>Moderate</td>\n",
       "    </tr>\n",
       "    <tr>\n",
       "      <th>18</th>\n",
       "      <td>68.2</td>\n",
       "      <td>48.9</td>\n",
       "      <td>57.8</td>\n",
       "      <td>46.5</td>\n",
       "      <td>0.00</td>\n",
       "      <td>0</td>\n",
       "      <td>0</td>\n",
       "      <td>20.8</td>\n",
       "      <td>223.04</td>\n",
       "      <td>9.6</td>\n",
       "      <td>18.9</td>\n",
       "      <td>60.80</td>\n",
       "      <td>High</td>\n",
       "    </tr>\n",
       "    <tr>\n",
       "      <th>19</th>\n",
       "      <td>68.1</td>\n",
       "      <td>50.0</td>\n",
       "      <td>57.7</td>\n",
       "      <td>49.0</td>\n",
       "      <td>0.00</td>\n",
       "      <td>0</td>\n",
       "      <td>0</td>\n",
       "      <td>17.1</td>\n",
       "      <td>264.29</td>\n",
       "      <td>9.7</td>\n",
       "      <td>39.4</td>\n",
       "      <td>65.96</td>\n",
       "      <td>Moderate</td>\n",
       "    </tr>\n",
       "    <tr>\n",
       "      <th>...</th>\n",
       "      <td>...</td>\n",
       "      <td>...</td>\n",
       "      <td>...</td>\n",
       "      <td>...</td>\n",
       "      <td>...</td>\n",
       "      <td>...</td>\n",
       "      <td>...</td>\n",
       "      <td>...</td>\n",
       "      <td>...</td>\n",
       "      <td>...</td>\n",
       "      <td>...</td>\n",
       "      <td>...</td>\n",
       "      <td>...</td>\n",
       "    </tr>\n",
       "    <tr>\n",
       "      <th>1456</th>\n",
       "      <td>57.3</td>\n",
       "      <td>44.6</td>\n",
       "      <td>50.1</td>\n",
       "      <td>41.8</td>\n",
       "      <td>0.24</td>\n",
       "      <td>0</td>\n",
       "      <td>0</td>\n",
       "      <td>21.8</td>\n",
       "      <td>195.25</td>\n",
       "      <td>9.6</td>\n",
       "      <td>73.9</td>\n",
       "      <td>69.85</td>\n",
       "      <td>High</td>\n",
       "    </tr>\n",
       "    <tr>\n",
       "      <th>1457</th>\n",
       "      <td>63.3</td>\n",
       "      <td>44.4</td>\n",
       "      <td>52.6</td>\n",
       "      <td>41.6</td>\n",
       "      <td>0.00</td>\n",
       "      <td>0</td>\n",
       "      <td>0</td>\n",
       "      <td>16.5</td>\n",
       "      <td>201.25</td>\n",
       "      <td>9.9</td>\n",
       "      <td>17.7</td>\n",
       "      <td>69.32</td>\n",
       "      <td>Moderate</td>\n",
       "    </tr>\n",
       "    <tr>\n",
       "      <th>1459</th>\n",
       "      <td>58.7</td>\n",
       "      <td>49.0</td>\n",
       "      <td>53.3</td>\n",
       "      <td>42.3</td>\n",
       "      <td>0.18</td>\n",
       "      <td>0</td>\n",
       "      <td>0</td>\n",
       "      <td>20.0</td>\n",
       "      <td>199.38</td>\n",
       "      <td>9.3</td>\n",
       "      <td>96.8</td>\n",
       "      <td>64.00</td>\n",
       "      <td>High</td>\n",
       "    </tr>\n",
       "    <tr>\n",
       "      <th>1460</th>\n",
       "      <td>54.3</td>\n",
       "      <td>46.2</td>\n",
       "      <td>50.1</td>\n",
       "      <td>39.1</td>\n",
       "      <td>0.02</td>\n",
       "      <td>0</td>\n",
       "      <td>0</td>\n",
       "      <td>26.4</td>\n",
       "      <td>290.50</td>\n",
       "      <td>9.8</td>\n",
       "      <td>60.7</td>\n",
       "      <td>59.50</td>\n",
       "      <td>Moderate</td>\n",
       "    </tr>\n",
       "    <tr>\n",
       "      <th>1461</th>\n",
       "      <td>56.6</td>\n",
       "      <td>42.7</td>\n",
       "      <td>49.4</td>\n",
       "      <td>38.3</td>\n",
       "      <td>0.00</td>\n",
       "      <td>0</td>\n",
       "      <td>0</td>\n",
       "      <td>16.9</td>\n",
       "      <td>242.50</td>\n",
       "      <td>9.9</td>\n",
       "      <td>26.0</td>\n",
       "      <td>64.27</td>\n",
       "      <td>Moderate</td>\n",
       "    </tr>\n",
       "  </tbody>\n",
       "</table>\n",
       "<p>423 rows × 13 columns</p>\n",
       "</div>"
      ],
      "text/plain": [
       "      Maximum Temperature  Minimum Temperature  Temperature  Wind Chill  \\\n",
       "1                    71.5                 49.5         59.0        48.5   \n",
       "7                    60.7                 47.4         54.8        44.8   \n",
       "12                   69.8                 49.7         59.1        47.3   \n",
       "18                   68.2                 48.9         57.8        46.5   \n",
       "19                   68.1                 50.0         57.7        49.0   \n",
       "...                   ...                  ...          ...         ...   \n",
       "1456                 57.3                 44.6         50.1        41.8   \n",
       "1457                 63.3                 44.4         52.6        41.6   \n",
       "1459                 58.7                 49.0         53.3        42.3   \n",
       "1460                 54.3                 46.2         50.1        39.1   \n",
       "1461                 56.6                 42.7         49.4        38.3   \n",
       "\n",
       "      Precipitation  Snow  Snow Depth  Wind Speed  Wind Direction  Visibility  \\\n",
       "1              0.00     0           0        13.2          237.50         9.9   \n",
       "7              0.00     0           0        15.3          279.04         9.9   \n",
       "12             0.00     0           0        20.8          299.00         9.9   \n",
       "18             0.00     0           0        20.8          223.04         9.6   \n",
       "19             0.00     0           0        17.1          264.29         9.7   \n",
       "...             ...   ...         ...         ...             ...         ...   \n",
       "1456           0.24     0           0        21.8          195.25         9.6   \n",
       "1457           0.00     0           0        16.5          201.25         9.9   \n",
       "1459           0.18     0           0        20.0          199.38         9.3   \n",
       "1460           0.02     0           0        26.4          290.50         9.8   \n",
       "1461           0.00     0           0        16.9          242.50         9.9   \n",
       "\n",
       "      Cloud Cover  Relative Humidity Asthma Risk  \n",
       "1            25.4              65.41    Moderate  \n",
       "7            42.1              65.65    Moderate  \n",
       "12           21.7              62.63    Moderate  \n",
       "18           18.9              60.80        High  \n",
       "19           39.4              65.96    Moderate  \n",
       "...           ...                ...         ...  \n",
       "1456         73.9              69.85        High  \n",
       "1457         17.7              69.32    Moderate  \n",
       "1459         96.8              64.00        High  \n",
       "1460         60.7              59.50    Moderate  \n",
       "1461         26.0              64.27    Moderate  \n",
       "\n",
       "[423 rows x 13 columns]"
      ]
     },
     "execution_count": 31,
     "metadata": {},
     "output_type": "execute_result"
    }
   ],
   "source": [
    "weather_df2"
   ]
  },
  {
   "cell_type": "code",
   "execution_count": 35,
   "metadata": {},
   "outputs": [
    {
     "data": {
      "text/plain": [
       "2"
      ]
     },
     "execution_count": 35,
     "metadata": {},
     "output_type": "execute_result"
    }
   ],
   "source": [
    "label_encoding = preprocessing.LabelEncoder()\n",
    "weather_df2[\"Asthma Risk\"] = label_encoding.fit_transform(weather_df2[\"Asthma Risk\"].astype(str))\n",
    "weather_df2[\"Asthma Risk\"][1]"
   ]
  },
  {
   "cell_type": "code",
   "execution_count": 36,
   "metadata": {},
   "outputs": [
    {
     "data": {
      "text/plain": [
       "Index(['Maximum Temperature', 'Minimum Temperature', 'Temperature',\n",
       "       'Wind Chill', 'Precipitation', 'Snow', 'Snow Depth', 'Wind Speed',\n",
       "       'Wind Direction', 'Visibility', 'Cloud Cover', 'Relative Humidity'],\n",
       "      dtype='object')"
      ]
     },
     "execution_count": 36,
     "metadata": {},
     "output_type": "execute_result"
    }
   ],
   "source": [
    "X = weather_df2.drop(['Asthma Risk'], axis = 1)\n",
    "Y = weather_df2['Asthma Risk']\n",
    "X.columns"
   ]
  },
  {
   "cell_type": "code",
   "execution_count": 37,
   "metadata": {},
   "outputs": [
    {
     "name": "stdout",
     "output_type": "stream",
     "text": [
      "Mean Accuracy: 0.981 (0.031)\n"
     ]
    }
   ],
   "source": [
    "model1 = GradientBoostingClassifier(n_estimators=100)\n",
    "cv1 = RepeatedStratifiedKFold(n_splits=20, n_repeats=3, random_state=1)\n",
    "n_scores1 = cross_val_score(model1, X, Y, scoring='accuracy', cv=cv1, n_jobs=-1)\n",
    "print('Mean Accuracy: %.3f (%.3f)' % (mean(n_scores1), std(n_scores1)))"
   ]
  },
  {
   "cell_type": "code",
   "execution_count": 38,
   "metadata": {},
   "outputs": [],
   "source": [
    "x_train, x_test, y_train, y_test = train_test_split(X, Y, test_size=0.2)"
   ]
  },
  {
   "cell_type": "code",
   "execution_count": 39,
   "metadata": {},
   "outputs": [
    {
     "data": {
      "text/plain": [
       "((338, 12), (85, 12))"
      ]
     },
     "execution_count": 39,
     "metadata": {},
     "output_type": "execute_result"
    }
   ],
   "source": [
    "x_train.shape, x_test.shape"
   ]
  },
  {
   "cell_type": "code",
   "execution_count": 40,
   "metadata": {},
   "outputs": [],
   "source": [
    "logistic_model = LogisticRegression(solver='liblinear').fit(x_train, y_train)"
   ]
  },
  {
   "cell_type": "code",
   "execution_count": 41,
   "metadata": {},
   "outputs": [
    {
     "name": "stdout",
     "output_type": "stream",
     "text": [
      "Training score:  0.7692307692307693\n"
     ]
    }
   ],
   "source": [
    "print(\"Training score: \", logistic_model.score(x_train,y_train))"
   ]
  },
  {
   "cell_type": "code",
   "execution_count": 42,
   "metadata": {},
   "outputs": [],
   "source": [
    "y_pred = logistic_model.predict(x_test)"
   ]
  },
  {
   "cell_type": "code",
   "execution_count": 43,
   "metadata": {},
   "outputs": [
    {
     "name": "stdout",
     "output_type": "stream",
     "text": [
      "Testing score:  0.7058823529411765\n"
     ]
    }
   ],
   "source": [
    "print(\"Testing score: \", accuracy_score(y_test, y_pred))"
   ]
  },
  {
   "cell_type": "code",
   "execution_count": 44,
   "metadata": {},
   "outputs": [],
   "source": [
    "nb_model = GaussianNB().fit(x_train, y_train)\n",
    "y_pred_nb = nb_model.predict(x_test)"
   ]
  },
  {
   "cell_type": "code",
   "execution_count": 45,
   "metadata": {},
   "outputs": [
    {
     "name": "stdout",
     "output_type": "stream",
     "text": [
      "Testing score:  0.7411764705882353\n"
     ]
    }
   ],
   "source": [
    "print(\"Testing score: \", accuracy_score(y_test, y_pred_nb))"
   ]
  },
  {
   "cell_type": "code",
   "execution_count": 46,
   "metadata": {},
   "outputs": [],
   "source": [
    "dt_model = DecisionTreeClassifier().fit(x_train, y_train)\n",
    "y_pred_dt = dt_model.predict(x_test)"
   ]
  },
  {
   "cell_type": "code",
   "execution_count": 48,
   "metadata": {},
   "outputs": [
    {
     "name": "stdout",
     "output_type": "stream",
     "text": [
      "Testing score:  1.0\n"
     ]
    }
   ],
   "source": [
    "print(\"Testing score: \", accuracy_score(y_test, y_pred_dt))"
   ]
  },
  {
   "cell_type": "code",
   "execution_count": 49,
   "metadata": {},
   "outputs": [
    {
     "data": {
      "text/plain": [
       "SVC(C=1.0, cache_size=200, class_weight=None, coef0=0.0,\n",
       "  decision_function_shape='ovr', degree=3, gamma='auto', kernel='linear',\n",
       "  max_iter=-1, probability=False, random_state=None, shrinking=True,\n",
       "  tol=0.001, verbose=False)"
      ]
     },
     "execution_count": 49,
     "metadata": {},
     "output_type": "execute_result"
    }
   ],
   "source": [
    "svclassifier = SVC(kernel='linear')\n",
    "svclassifier.fit(x_train, y_train)"
   ]
  },
  {
   "cell_type": "code",
   "execution_count": 50,
   "metadata": {},
   "outputs": [],
   "source": [
    "y_pred_svc = svclassifier.predict(x_test)"
   ]
  },
  {
   "cell_type": "code",
   "execution_count": 51,
   "metadata": {},
   "outputs": [
    {
     "name": "stdout",
     "output_type": "stream",
     "text": [
      "[[ 5  0  2]\n",
      " [ 0 29 11]\n",
      " [ 1  6 31]]\n",
      "             precision    recall  f1-score   support\n",
      "\n",
      "          0       0.83      0.71      0.77         7\n",
      "          1       0.83      0.72      0.77        40\n",
      "          2       0.70      0.82      0.76        38\n",
      "\n",
      "avg / total       0.77      0.76      0.77        85\n",
      "\n"
     ]
    }
   ],
   "source": [
    "print(confusion_matrix(y_test,y_pred_svc))\n",
    "print(classification_report(y_test,y_pred_svc))"
   ]
  },
  {
   "cell_type": "code",
   "execution_count": 52,
   "metadata": {},
   "outputs": [],
   "source": [
    "weather_df['target'] = labels"
   ]
  },
  {
   "cell_type": "code",
   "execution_count": 53,
   "metadata": {},
   "outputs": [
    {
     "data": {
      "text/plain": [
       "Index(['Maximum Temperature', 'Minimum Temperature', 'Temperature',\n",
       "       'Wind Chill', 'Precipitation', 'Snow', 'Snow Depth', 'Wind Speed',\n",
       "       'Wind Direction', 'Visibility', 'Cloud Cover', 'Relative Humidity'],\n",
       "      dtype='object')"
      ]
     },
     "execution_count": 53,
     "metadata": {},
     "output_type": "execute_result"
    }
   ],
   "source": [
    "X1 = weather_df.drop(['target'], axis = 1)\n",
    "Y1 = weather_df['target']\n",
    "X1.columns"
   ]
  },
  {
   "cell_type": "code",
   "execution_count": 54,
   "metadata": {},
   "outputs": [
    {
     "data": {
      "text/plain": [
       "((338, 12), (85, 12))"
      ]
     },
     "execution_count": 54,
     "metadata": {},
     "output_type": "execute_result"
    }
   ],
   "source": [
    "X1_train, X1_test, Y1_train, Y1_test = train_test_split(X1, Y1, test_size=0.2)\n",
    "X1_train.shape, X1_test.shape"
   ]
  },
  {
   "cell_type": "code",
   "execution_count": 55,
   "metadata": {},
   "outputs": [],
   "source": [
    "logistic_model_target = LogisticRegression(solver='liblinear').fit(X1_train, Y1_train)\n",
    "Y1_pred = logistic_model_target.predict(X1_test)"
   ]
  },
  {
   "cell_type": "code",
   "execution_count": 56,
   "metadata": {},
   "outputs": [
    {
     "name": "stdout",
     "output_type": "stream",
     "text": [
      "Testing score:  0.9529411764705882\n"
     ]
    }
   ],
   "source": [
    "print(\"Testing score: \", accuracy_score(Y1_test, Y1_pred))"
   ]
  },
  {
   "cell_type": "code",
   "execution_count": 57,
   "metadata": {},
   "outputs": [],
   "source": [
    "nb_model_target = GaussianNB().fit(X1_train, Y1_train)\n",
    "Y1_pred_nb = nb_model_target.predict(X1_test)"
   ]
  },
  {
   "cell_type": "code",
   "execution_count": 58,
   "metadata": {},
   "outputs": [
    {
     "name": "stdout",
     "output_type": "stream",
     "text": [
      "Testing score:  0.9294117647058824\n"
     ]
    }
   ],
   "source": [
    "print(\"Testing score: \", accuracy_score(Y1_test, Y1_pred_nb))"
   ]
  },
  {
   "cell_type": "code",
   "execution_count": 59,
   "metadata": {},
   "outputs": [
    {
     "data": {
      "text/plain": [
       "SVC(C=1.0, cache_size=200, class_weight=None, coef0=0.0,\n",
       "  decision_function_shape='ovr', degree=3, gamma='auto', kernel='linear',\n",
       "  max_iter=-1, probability=False, random_state=None, shrinking=True,\n",
       "  tol=0.001, verbose=False)"
      ]
     },
     "execution_count": 59,
     "metadata": {},
     "output_type": "execute_result"
    }
   ],
   "source": [
    "svclassifier_target = SVC(kernel='linear')\n",
    "svclassifier_target.fit(X1_train, Y1_train)"
   ]
  },
  {
   "cell_type": "code",
   "execution_count": 60,
   "metadata": {},
   "outputs": [],
   "source": [
    "Y1_pred_svc = svclassifier_target.predict(X1_test)"
   ]
  },
  {
   "cell_type": "code",
   "execution_count": 61,
   "metadata": {},
   "outputs": [
    {
     "name": "stdout",
     "output_type": "stream",
     "text": [
      "[[31  0  0]\n",
      " [ 0 20  1]\n",
      " [ 0  0 33]]\n",
      "             precision    recall  f1-score   support\n",
      "\n",
      "          0       1.00      1.00      1.00        31\n",
      "          1       1.00      0.95      0.98        21\n",
      "          2       0.97      1.00      0.99        33\n",
      "\n",
      "avg / total       0.99      0.99      0.99        85\n",
      "\n"
     ]
    }
   ],
   "source": [
    "print(confusion_matrix(Y1_test,Y1_pred_svc))\n",
    "print(classification_report(Y1_test,Y1_pred_svc))"
   ]
  },
  {
   "cell_type": "code",
   "execution_count": 62,
   "metadata": {},
   "outputs": [
    {
     "data": {
      "text/plain": [
       "Counter({0: 139, 2: 176, 1: 108})"
      ]
     },
     "execution_count": 62,
     "metadata": {},
     "output_type": "execute_result"
    }
   ],
   "source": [
    "collections.Counter(labels)"
   ]
  },
  {
   "cell_type": "code",
   "execution_count": 63,
   "metadata": {},
   "outputs": [],
   "source": [
    "mlp_clf = MLPClassifier(hidden_layer_sizes=(100,),\n",
    "                        max_iter=1000,\n",
    "                        activation='logistic',\n",
    "                        alpha=0.001,\n",
    "                        solver='lbfgs',\n",
    "                        verbose=True)"
   ]
  },
  {
   "cell_type": "code",
   "execution_count": 64,
   "metadata": {},
   "outputs": [
    {
     "data": {
      "text/plain": [
       "MLPClassifier(activation='logistic', alpha=0.001, batch_size='auto',\n",
       "       beta_1=0.9, beta_2=0.999, early_stopping=False, epsilon=1e-08,\n",
       "       hidden_layer_sizes=(100,), learning_rate='constant',\n",
       "       learning_rate_init=0.001, max_iter=1000, momentum=0.9,\n",
       "       nesterovs_momentum=True, power_t=0.5, random_state=None,\n",
       "       shuffle=True, solver='lbfgs', tol=0.0001, validation_fraction=0.1,\n",
       "       verbose=True, warm_start=False)"
      ]
     },
     "execution_count": 64,
     "metadata": {},
     "output_type": "execute_result"
    }
   ],
   "source": [
    "mlp_clf.fit(x_train, y_train)"
   ]
  },
  {
   "cell_type": "code",
   "execution_count": 65,
   "metadata": {},
   "outputs": [],
   "source": [
    "y_pred_mlp = mlp_clf.predict(x_test)"
   ]
  },
  {
   "cell_type": "code",
   "execution_count": 66,
   "metadata": {},
   "outputs": [
    {
     "data": {
      "text/html": [
       "<div>\n",
       "<style scoped>\n",
       "    .dataframe tbody tr th:only-of-type {\n",
       "        vertical-align: middle;\n",
       "    }\n",
       "\n",
       "    .dataframe tbody tr th {\n",
       "        vertical-align: top;\n",
       "    }\n",
       "\n",
       "    .dataframe thead th {\n",
       "        text-align: right;\n",
       "    }\n",
       "</style>\n",
       "<table border=\"1\" class=\"dataframe\">\n",
       "  <thead>\n",
       "    <tr style=\"text-align: right;\">\n",
       "      <th></th>\n",
       "      <th>y_test</th>\n",
       "      <th>y_pred</th>\n",
       "    </tr>\n",
       "  </thead>\n",
       "  <tbody>\n",
       "    <tr>\n",
       "      <th>1438</th>\n",
       "      <td>1</td>\n",
       "      <td>2</td>\n",
       "    </tr>\n",
       "    <tr>\n",
       "      <th>340</th>\n",
       "      <td>1</td>\n",
       "      <td>1</td>\n",
       "    </tr>\n",
       "    <tr>\n",
       "      <th>1060</th>\n",
       "      <td>0</td>\n",
       "      <td>0</td>\n",
       "    </tr>\n",
       "    <tr>\n",
       "      <th>274</th>\n",
       "      <td>2</td>\n",
       "      <td>2</td>\n",
       "    </tr>\n",
       "    <tr>\n",
       "      <th>694</th>\n",
       "      <td>1</td>\n",
       "      <td>1</td>\n",
       "    </tr>\n",
       "    <tr>\n",
       "      <th>1407</th>\n",
       "      <td>2</td>\n",
       "      <td>2</td>\n",
       "    </tr>\n",
       "    <tr>\n",
       "      <th>1338</th>\n",
       "      <td>2</td>\n",
       "      <td>2</td>\n",
       "    </tr>\n",
       "    <tr>\n",
       "      <th>634</th>\n",
       "      <td>1</td>\n",
       "      <td>2</td>\n",
       "    </tr>\n",
       "    <tr>\n",
       "      <th>1023</th>\n",
       "      <td>1</td>\n",
       "      <td>1</td>\n",
       "    </tr>\n",
       "    <tr>\n",
       "      <th>1098</th>\n",
       "      <td>2</td>\n",
       "      <td>2</td>\n",
       "    </tr>\n",
       "  </tbody>\n",
       "</table>\n",
       "</div>"
      ],
      "text/plain": [
       "      y_test  y_pred\n",
       "1438       1       2\n",
       "340        1       1\n",
       "1060       0       0\n",
       "274        2       2\n",
       "694        1       1\n",
       "1407       2       2\n",
       "1338       2       2\n",
       "634        1       2\n",
       "1023       1       1\n",
       "1098       2       2"
      ]
     },
     "execution_count": 66,
     "metadata": {},
     "output_type": "execute_result"
    }
   ],
   "source": [
    "pred_results = pd.DataFrame({'y_test': y_test,\n",
    "                             'y_pred': y_pred_mlp})\n",
    "pred_results.sample(10)"
   ]
  },
  {
   "cell_type": "code",
   "execution_count": 67,
   "metadata": {},
   "outputs": [
    {
     "data": {
      "text/plain": [
       "0.8705882352941177"
      ]
     },
     "execution_count": 67,
     "metadata": {},
     "output_type": "execute_result"
    }
   ],
   "source": [
    "accuracy_score(y_test, y_pred_mlp)"
   ]
  },
  {
   "cell_type": "code",
   "execution_count": 68,
   "metadata": {},
   "outputs": [
    {
     "data": {
      "text/html": [
       "<div>\n",
       "<style scoped>\n",
       "    .dataframe tbody tr th:only-of-type {\n",
       "        vertical-align: middle;\n",
       "    }\n",
       "\n",
       "    .dataframe tbody tr th {\n",
       "        vertical-align: top;\n",
       "    }\n",
       "\n",
       "    .dataframe thead th {\n",
       "        text-align: right;\n",
       "    }\n",
       "</style>\n",
       "<table border=\"1\" class=\"dataframe\">\n",
       "  <thead>\n",
       "    <tr style=\"text-align: right;\">\n",
       "      <th>y_pred</th>\n",
       "      <th>0</th>\n",
       "      <th>1</th>\n",
       "      <th>2</th>\n",
       "    </tr>\n",
       "    <tr>\n",
       "      <th>y_test</th>\n",
       "      <th></th>\n",
       "      <th></th>\n",
       "      <th></th>\n",
       "    </tr>\n",
       "  </thead>\n",
       "  <tbody>\n",
       "    <tr>\n",
       "      <th>0</th>\n",
       "      <td>5</td>\n",
       "      <td>0</td>\n",
       "      <td>2</td>\n",
       "    </tr>\n",
       "    <tr>\n",
       "      <th>1</th>\n",
       "      <td>0</td>\n",
       "      <td>34</td>\n",
       "      <td>6</td>\n",
       "    </tr>\n",
       "    <tr>\n",
       "      <th>2</th>\n",
       "      <td>0</td>\n",
       "      <td>3</td>\n",
       "      <td>35</td>\n",
       "    </tr>\n",
       "  </tbody>\n",
       "</table>\n",
       "</div>"
      ],
      "text/plain": [
       "y_pred  0   1   2\n",
       "y_test           \n",
       "0       5   0   2\n",
       "1       0  34   6\n",
       "2       0   3  35"
      ]
     },
     "execution_count": 68,
     "metadata": {},
     "output_type": "execute_result"
    }
   ],
   "source": [
    "asthma_risk_crosstab = pd.crosstab(pred_results.y_test, pred_results.y_pred)\n",
    "asthma_risk_crosstab"
   ]
  },
  {
   "cell_type": "code",
   "execution_count": 69,
   "metadata": {},
   "outputs": [
    {
     "data": {
      "text/plain": [
       "MLPClassifier(activation='logistic', alpha=0.001, batch_size='auto',\n",
       "       beta_1=0.9, beta_2=0.999, early_stopping=False, epsilon=1e-08,\n",
       "       hidden_layer_sizes=(100,), learning_rate='constant',\n",
       "       learning_rate_init=0.001, max_iter=1000, momentum=0.9,\n",
       "       nesterovs_momentum=True, power_t=0.5, random_state=None,\n",
       "       shuffle=True, solver='lbfgs', tol=0.0001, validation_fraction=0.1,\n",
       "       verbose=True, warm_start=False)"
      ]
     },
     "execution_count": 69,
     "metadata": {},
     "output_type": "execute_result"
    }
   ],
   "source": [
    "mlp_clf.fit(X1_train, Y1_train)"
   ]
  },
  {
   "cell_type": "code",
   "execution_count": 70,
   "metadata": {},
   "outputs": [],
   "source": [
    "y_pred_target_mlp = mlp_clf.predict(X1_test)"
   ]
  },
  {
   "cell_type": "code",
   "execution_count": 71,
   "metadata": {},
   "outputs": [
    {
     "data": {
      "text/html": [
       "<div>\n",
       "<style scoped>\n",
       "    .dataframe tbody tr th:only-of-type {\n",
       "        vertical-align: middle;\n",
       "    }\n",
       "\n",
       "    .dataframe tbody tr th {\n",
       "        vertical-align: top;\n",
       "    }\n",
       "\n",
       "    .dataframe thead th {\n",
       "        text-align: right;\n",
       "    }\n",
       "</style>\n",
       "<table border=\"1\" class=\"dataframe\">\n",
       "  <thead>\n",
       "    <tr style=\"text-align: right;\">\n",
       "      <th></th>\n",
       "      <th>y_test</th>\n",
       "      <th>y_pred</th>\n",
       "    </tr>\n",
       "  </thead>\n",
       "  <tbody>\n",
       "    <tr>\n",
       "      <th>707</th>\n",
       "      <td>0</td>\n",
       "      <td>0</td>\n",
       "    </tr>\n",
       "    <tr>\n",
       "      <th>715</th>\n",
       "      <td>1</td>\n",
       "      <td>1</td>\n",
       "    </tr>\n",
       "    <tr>\n",
       "      <th>979</th>\n",
       "      <td>0</td>\n",
       "      <td>0</td>\n",
       "    </tr>\n",
       "    <tr>\n",
       "      <th>1097</th>\n",
       "      <td>2</td>\n",
       "      <td>2</td>\n",
       "    </tr>\n",
       "    <tr>\n",
       "      <th>1107</th>\n",
       "      <td>0</td>\n",
       "      <td>0</td>\n",
       "    </tr>\n",
       "    <tr>\n",
       "      <th>337</th>\n",
       "      <td>2</td>\n",
       "      <td>0</td>\n",
       "    </tr>\n",
       "    <tr>\n",
       "      <th>1431</th>\n",
       "      <td>2</td>\n",
       "      <td>2</td>\n",
       "    </tr>\n",
       "    <tr>\n",
       "      <th>1424</th>\n",
       "      <td>0</td>\n",
       "      <td>0</td>\n",
       "    </tr>\n",
       "    <tr>\n",
       "      <th>273</th>\n",
       "      <td>2</td>\n",
       "      <td>2</td>\n",
       "    </tr>\n",
       "    <tr>\n",
       "      <th>1461</th>\n",
       "      <td>0</td>\n",
       "      <td>0</td>\n",
       "    </tr>\n",
       "  </tbody>\n",
       "</table>\n",
       "</div>"
      ],
      "text/plain": [
       "      y_test  y_pred\n",
       "707        0       0\n",
       "715        1       1\n",
       "979        0       0\n",
       "1097       2       2\n",
       "1107       0       0\n",
       "337        2       0\n",
       "1431       2       2\n",
       "1424       0       0\n",
       "273        2       2\n",
       "1461       0       0"
      ]
     },
     "execution_count": 71,
     "metadata": {},
     "output_type": "execute_result"
    }
   ],
   "source": [
    "pred_results_target = pd.DataFrame({'y_test': Y1_test,\n",
    "                             'y_pred': y_pred_target_mlp})\n",
    "pred_results_target.sample(10)"
   ]
  },
  {
   "cell_type": "code",
   "execution_count": 72,
   "metadata": {},
   "outputs": [
    {
     "data": {
      "text/plain": [
       "0.9529411764705882"
      ]
     },
     "execution_count": 72,
     "metadata": {},
     "output_type": "execute_result"
    }
   ],
   "source": [
    "accuracy_score(Y1_test, y_pred_target_mlp)"
   ]
  },
  {
   "cell_type": "code",
   "execution_count": 73,
   "metadata": {},
   "outputs": [
    {
     "data": {
      "image/png": "[encoded data removed]",
      "text/plain": [
       "<Figure size 432x288 with 4 Axes>"
      ]
     },
     "metadata": {},
     "output_type": "display_data"
    }
   ],
   "source": [
    "fig, axs = plt.subplots(2, 2)\n",
    "fig.suptitle(\"Comparison of labels predicted by various algorithms and actual labels got from KMeans Classifier\")\n",
    "axs[0, 0].scatter(X1_test[\"Wind Direction\"], y_pred_target_mlp, c=\"b\")\n",
    "axs[0, 0].scatter(X1_test[\"Wind Direction\"],Y1_test,c=\"y\")\n",
    "axs[0, 0].set_title('MLPNN Accuracy:%.4f'%accuracy_score(Y1_test, y_pred_target_mlp))\n",
    "axs[0, 1].scatter(X1_test[\"Wind Direction\"], Y1_pred_nb, c=\"b\")\n",
    "axs[0, 1].scatter(X1_test[\"Wind Direction\"],Y1_test,c=\"y\")\n",
    "axs[0, 1].set_title('NB Accuracy:%.4f'%accuracy_score(Y1_test, Y1_pred_nb))\n",
    "axs[1, 0].scatter(X1_test[\"Wind Direction\"], Y1_pred_svc, c=\"b\")\n",
    "axs[1, 0].scatter(X1_test[\"Wind Direction\"],Y1_test,c=\"y\")\n",
    "axs[1, 0].set_title('SVC Accuracy:%.4f'%accuracy_score(Y1_test, Y1_pred_svc))\n",
    "axs[1, 1].scatter(X1_test[\"Wind Direction\"], Y1_pred, c=\"b\")\n",
    "axs[1, 1].scatter(X1_test[\"Wind Direction\"],Y1_test,c=\"y\")\n",
    "axs[1, 1].set_title('LR Accuracy:%.4f'%accuracy_score(Y1_test, Y1_pred))\n",
    "\n",
    "for ax in axs.flat:\n",
    "    ax.set(xlabel='Wind direction', ylabel='Risk level')\n",
    "\n",
    "\n",
    "for ax in axs.flat:\n",
    "    ax.label_outer()"
   ]
  },
  {
   "cell_type": "code",
   "execution_count": 74,
   "metadata": {},
   "outputs": [
    {
     "data": {
      "image/png": "[encoded data removed]",
      "text/plain": [
       "<Figure size 432x288 with 4 Axes>"
      ]
     },
     "metadata": {},
     "output_type": "display_data"
    }
   ],
   "source": [
    "fig1, axs1 = plt.subplots(2, 2)\n",
    "fig1.suptitle(\"Comparison of labels predicted by various algorithms and actual labels got by self-coded algorithm\")\n",
    "axs1[0, 0].scatter(x_test['Wind Direction'], y_pred_mlp, c=\"r\")\n",
    "axs1[0, 0].scatter(x_test['Wind Direction'], y_test,c=\"g\")\n",
    "axs1[0, 0].set_title('MLPNN Accuracy:%.4f'%accuracy_score(y_test, y_pred_mlp))\n",
    "axs1[0, 1].scatter(x_test['Wind Direction'], y_pred_nb, c=\"r\")\n",
    "axs1[0, 1].scatter(x_test['Wind Direction'], y_test,c=\"g\")\n",
    "axs1[0, 1].set_title('NB Accuracy:%.4f'%accuracy_score(y_test, y_pred_nb))\n",
    "axs1[1, 0].scatter(x_test['Wind Direction'], y_pred_svc, c=\"r\")\n",
    "axs1[1, 0].scatter(x_test['Wind Direction'], y_test,c=\"g\")\n",
    "axs1[1, 0].set_title('SVC Accuracy:%.4f'%accuracy_score(y_test, y_pred_svc))\n",
    "axs1[1, 1].scatter(x_test['Wind Direction'], y_pred, c=\"r\")\n",
    "axs1[1, 1].scatter(x_test[\"Wind Direction\"],y_test,c=\"g\")\n",
    "axs1[1, 1].set_title('LR Accuracy:%.4f'%accuracy_score(y_test, y_pred))\n",
    "\n",
    "for ax1 in axs1.flat:\n",
    "    ax1.set(xlabel='Wind-Direction', ylabel='Risk levels')\n",
    "\n",
    "for ax1 in axs1.flat:\n",
    "    ax1.label_outer()"
   ]
  },
  {
   "cell_type": "code",
   "execution_count": null,
   "metadata": {},
   "outputs": [],
   "source": []
  }
 ],
 "metadata": {
  "kernelspec": {
   "display_name": "Python 3",
   "language": "python",
   "name": "python3"
  },
  "language_info": {
   "codemirror_mode": {
    "name": "ipython",
    "version": 3
   },
   "file_extension": ".py",
   "mimetype": "text/x-python",
   "name": "python",
   "nbconvert_exporter": "python",
   "pygments_lexer": "ipython3",
   "version": "3.6.9"
  }
 },
 "nbformat": 4,
 "nbformat_minor": 2
}
